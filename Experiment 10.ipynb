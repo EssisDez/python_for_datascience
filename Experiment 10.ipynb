{
 "cells": [
  {
   "cell_type": "markdown",
   "id": "46ce379b-c988-4775-a27d-2312f707ea51",
   "metadata": {},
   "source": [
    "## Class Object"
   ]
  },
  {
   "cell_type": "code",
   "execution_count": 1,
   "id": "6791f940-d333-47da-9e42-d45f2b110055",
   "metadata": {},
   "outputs": [
    {
     "name": "stdout",
     "output_type": "stream",
     "text": [
      "5\n"
     ]
    }
   ],
   "source": [
    "class MyClass:\n",
    "    x=5\n",
    "\n",
    "p1 = MyClass()\n",
    "print(p1.x)"
   ]
  },
  {
   "cell_type": "code",
   "execution_count": 1,
   "id": "b148fa4d-07e9-4bcb-a866-4a639903d729",
   "metadata": {},
   "outputs": [
    {
     "name": "stdout",
     "output_type": "stream",
     "text": [
      "25\n",
      "Desi\n"
     ]
    }
   ],
   "source": [
    "# Class person\n",
    "\n",
    "class Person:\n",
    "    def __init__(self, age, name):  # Fixed method name with double underscores\n",
    "        self.name = name \n",
    "        self.age = age\n",
    "\n",
    "# These statements should be outside the class definition\n",
    "p1 = Person(\"Desi\",25)  # Create Person instance\n",
    "print(p1.name)  # Print name attribute\n",
    "print(p1.age)   # Print age attribute"
   ]
  },
  {
   "cell_type": "code",
   "execution_count": 5,
   "id": "0e71188c-48f5-4598-be04-a4e5d1416927",
   "metadata": {
    "scrolled": true
   },
   "outputs": [
    {
     "name": "stdout",
     "output_type": "stream",
     "text": [
      "John (36)\n"
     ]
    }
   ],
   "source": [
    "#_str_() funtion: the string representation of an object\n",
    "class Person:\n",
    "    def __init__(self, name, age):\n",
    "        self.name = name\n",
    "        self.age = age\n",
    "\n",
    "    def __str__(self):\n",
    "        return f\"{self.name} ({self.age})\"\n",
    "\n",
    "p1 = Person(\"John\", 36)\n",
    "print(p1)\n",
    "\n"
   ]
  },
  {
   "cell_type": "code",
   "execution_count": 1,
   "id": "9b2b8d55-587a-4415-8809-604d847cc97f",
   "metadata": {},
   "outputs": [
    {
     "name": "stdout",
     "output_type": "stream",
     "text": [
      "Hello my name is John I am 36\n"
     ]
    }
   ],
   "source": [
    "class Person:\n",
    "    def __init__(self, name, age):\n",
    "        self.name = name\n",
    "        self.age = age\n",
    "\n",
    "    def myfunc(self):\n",
    "        print(\"Hello my name is \" + self.name + \" I am\", self.age)\n",
    "\n",
    "p1 = Person(\"John\", 36)\n",
    "p1.myfunc()\n"
   ]
  },
  {
   "cell_type": "code",
   "execution_count": 4,
   "id": "4edbe7ef-aada-4ad5-86f4-80091f6d91dc",
   "metadata": {},
   "outputs": [
    {
     "name": "stdout",
     "output_type": "stream",
     "text": [
      "John Doe\n"
     ]
    }
   ],
   "source": [
    "class Person:\n",
    "  def __init__(self, fname, lname):\n",
    "    self.firstname = fname\n",
    "    self.lastname = lname\n",
    "\n",
    "  def printname(self):\n",
    "    print(self.firstname, self.lastname)\n",
    "\n",
    "#Use the Person class to create an object, and then execute the printname method:\n",
    "\n",
    "x = Person(\"John\", \"Doe\")\n",
    "x.printname()\n"
   ]
  },
  {
   "cell_type": "code",
   "execution_count": 5,
   "id": "953ef7f4-9bf4-44f7-98cb-fcac3ccfc47f",
   "metadata": {},
   "outputs": [
    {
     "name": "stdout",
     "output_type": "stream",
     "text": [
      "Hi, my name is Dési\n"
     ]
    }
   ],
   "source": [
    "class Person:                    \n",
    "    def __init__(self, name):   \n",
    "        self.name = name         \n",
    "\n",
    "    def say_hi(self):            # a method (function) using self\n",
    "        print(\"Hi, my name is\", self.name)\n",
    "\n",
    "p = Person(\"Dési\")              \n",
    "p.say_hi()                      \n"
   ]
  },
  {
   "cell_type": "code",
   "execution_count": 4,
   "id": "2ad99bf4-ece3-4438-96c6-58c1f726cc7d",
   "metadata": {},
   "outputs": [
    {
     "name": "stdout",
     "output_type": "stream",
     "text": [
      "Hello my name is John I am 40\n"
     ]
    }
   ],
   "source": [
    "#09/10/25\n",
    "\n",
    "#Modify object property\n",
    "\n",
    "p1.age = 40\n",
    "p1.myfunc()"
   ]
  },
  {
   "cell_type": "code",
   "execution_count": 17,
   "id": "2f994793-a32a-44e0-9476-24a4fd6467ca",
   "metadata": {},
   "outputs": [
    {
     "name": "stdout",
     "output_type": "stream",
     "text": [
      "Hello my name is John\n"
     ]
    }
   ],
   "source": [
    "#delete the age property\n",
    "class Person:\n",
    "    def __init__(self, name, age):\n",
    "        self.name = name\n",
    "        self.age = age\n",
    "\n",
    "    def myfunc(self):\n",
    "        print(\"Hello my name is \" + self.name)\n",
    "\n",
    "p1 = Person(\"John\", 36)\n",
    "p1.myfunc()\n",
    "del p1.age  #delete\n",
    "\n"
   ]
  },
  {
   "cell_type": "code",
   "execution_count": 6,
   "id": "f0c82a23-3669-487d-8b20-816ef9c8ff28",
   "metadata": {},
   "outputs": [
    {
     "name": "stdout",
     "output_type": "stream",
     "text": [
      "Mike Olsen\n"
     ]
    }
   ],
   "source": [
    "##Add the __init__() Function\n",
    "\n",
    "class Person:\n",
    "  def __init__(self, fname, lname):\n",
    "    self.firstname = fname\n",
    "    self.lastname = lname\n",
    "\n",
    "  def printname(self):\n",
    "    print(self.firstname, self.lastname)\n",
    "\n",
    "class Student(Person):\n",
    "  def __init__(self, fname, lname):\n",
    "    Person.__init__(self, fname, lname)\n",
    "\n",
    "x = Student(\"Mike\", \"Olsen\")\n",
    "x.printname()\n"
   ]
  },
  {
   "cell_type": "code",
   "execution_count": 7,
   "id": "a24882f8-4c11-4eb8-824e-ea9dc4ca57ce",
   "metadata": {
    "scrolled": true
   },
   "outputs": [
    {
     "name": "stdout",
     "output_type": "stream",
     "text": [
      "Mike Olsen\n"
     ]
    }
   ],
   "source": [
    "#pass\n",
    "\n",
    "class Person:\n",
    "  def __init__(self, fname, lname):\n",
    "    self.firstname = fname\n",
    "    self.lastname = lname\n",
    "\n",
    "  def printname(self):\n",
    "    print(self.firstname, self.lastname)\n",
    "\n",
    "class Student(Person):\n",
    "  pass\n",
    "\n",
    "x = Student(\"Mike\", \"Olsen\")\n",
    "x.printname()\n"
   ]
  },
  {
   "cell_type": "code",
   "execution_count": 8,
   "id": "ce5ec87c-bebe-481a-b985-d315a09c4389",
   "metadata": {},
   "outputs": [
    {
     "name": "stdout",
     "output_type": "stream",
     "text": [
      "Mike Olsen\n"
     ]
    }
   ],
   "source": [
    "#Python also has a super() function that will make the child class inherit all the methods and properties from its parent: \n",
    "\n",
    "\n",
    "class Person:\n",
    "  def __init__(self, fname, lname):\n",
    "    self.firstname = fname\n",
    "    self.lastname = lname\n",
    "\n",
    "  def printname(self):\n",
    "    print(self.firstname, self.lastname)\n",
    "\n",
    "class Student(Person):\n",
    "  def __init__(self, fname, lname):\n",
    "    super().__init__(fname, lname)\n",
    "\n",
    "x = Student(\"Mike\", \"Olsen\")\n",
    "x.printname()\n"
   ]
  },
  {
   "cell_type": "code",
   "execution_count": 9,
   "id": "4745f53d-c8be-4883-b945-c281bba71cb7",
   "metadata": {},
   "outputs": [
    {
     "name": "stdout",
     "output_type": "stream",
     "text": [
      "John (36)\n"
     ]
    }
   ],
   "source": [
    "#The string representation of an object WITH the __str__() function:\n",
    "\n",
    "class Person:\n",
    "    def __init__(self, name, age):\n",
    "        self.name = name\n",
    "        self.age = age\n",
    "\n",
    "    def __str__(self):\n",
    "        return f\"{self.name} ({self.age})\"\n",
    "\n",
    "p1 = Person(\"John\", 36)\n",
    "print(p1)\n",
    "\n",
    "#Object Methods\n",
    "#Objects can also contain methods. Methods in objects are functions that belong to the object.\n",
    "\n",
    "\n",
    "\n"
   ]
  },
  {
   "cell_type": "code",
   "execution_count": 27,
   "id": "93382370-6d4b-4aab-8be7-50362c1dc488",
   "metadata": {},
   "outputs": [
    {
     "name": "stdout",
     "output_type": "stream",
     "text": [
      "Welcome Mike Olsen to the class of 2025\n"
     ]
    }
   ],
   "source": [
    "#add method called welcome() to the student class\n",
    "\n",
    "class Person:\n",
    "    def __init__(self, fname, lname):\n",
    "        self.firstname = fname\n",
    "        self.lastname = lname\n",
    "    \n",
    "    def printname(self):\n",
    "        print(self.firstname, self.lastname)\n",
    "\n",
    "class Student(Person):\n",
    "    def __init__(self, fname, lname, year):\n",
    "        super().__init__(fname, lname)  \n",
    "        self.graduationyear = year\n",
    "    \n",
    "    def welcome(self): \n",
    "        print(f\"Welcome {self.firstname} {self.lastname} to the class of {self.graduationyear}\")\n",
    "\n",
    "x = Student(\"Mike\", \"Olsen\", 2025)  \n",
    "x.welcome()"
   ]
  },
  {
   "cell_type": "code",
   "execution_count": 28,
   "id": "08c657e1-be16-4965-ab7b-7e46869959ed",
   "metadata": {},
   "outputs": [
    {
     "name": "stdout",
     "output_type": "stream",
     "text": [
      "I'm class parent\n",
      "Hello\n",
      "I'm class parent\n",
      "World\n"
     ]
    }
   ],
   "source": [
    "#create a class that will inherit all the methods and properties from another class\n",
    "# Parent class\n",
    "class parent:\n",
    "    def __init__(self, text):\n",
    "        self.text = text\n",
    "        print(\"I'm class parent\")\n",
    "\n",
    "# Child class inheriting from parent\n",
    "class children(parent):\n",
    "    def __init__(self, text):\n",
    "        super().__init__(text)  # Calls parent's __init__ method\n",
    "\n",
    "p = parent(\"Hello\")\n",
    "print(p.text)\n",
    "\n",
    "c = children(\"World\")\n",
    "print(c.text)"
   ]
  },
  {
   "cell_type": "code",
   "execution_count": 17,
   "id": "93f5adde-07d6-4ded-807f-fa5ed6445882",
   "metadata": {},
   "outputs": [
    {
     "name": "stdout",
     "output_type": "stream",
     "text": [
      "Alice\n",
      "Bob\n",
      "Hello, my name is Alice and I am 25 years old\n",
      "Hello, my name is Bob and I am 30 years old\n",
      "Alice\n",
      "30\n"
     ]
    }
   ],
   "source": [
    "class Person:\n",
    "    def __init__(self, name, age):\n",
    "        self.name = name\n",
    "        self.age = age\n",
    "\n",
    "    def greet(self):\n",
    "        print(\"Hello, my name is\", self.name, \"and I am\", self.age, \"years old\")\n",
    "        \n",
    "x = Person(\"Alice\", 25)\n",
    "print (x.name)\n",
    "y = Person(\"Bob\", 30)\n",
    "print (y.name)\n",
    "x.greet()  # Hello, my name is Alice and I am 25 years old\n",
    "y.greet()  # Hello, my name is Bob and I am 30 years old\n",
    "print(x.name)  # Alice\n",
    "print(y.age)   # 30\n",
    "\n"
   ]
  },
  {
   "cell_type": "code",
   "execution_count": 11,
   "id": "2327fda6-aabe-4c63-a58c-392bd64b0bab",
   "metadata": {},
   "outputs": [
    {
     "name": "stdout",
     "output_type": "stream",
     "text": [
      "drive!\n",
      "sail!\n",
      "fly!\n"
     ]
    }
   ],
   "source": [
    "# Base class for all vehicles\n",
    "class vehicle:\n",
    "    def __init__(self, brand, model):\n",
    "        self.brand = brand\n",
    "        self.model = model\n",
    "\n",
    "    def move(self):\n",
    "        print(\"Moving!\")\n",
    "\n",
    "# Car class inheriting from vehicle\n",
    "class car(vehicle):\n",
    "    def __init__(self, brand, model):\n",
    "        super().__init__(brand, model)\n",
    "\n",
    "    def move(self):\n",
    "        print(\"drive!\")\n",
    "\n",
    "# Boat class inheriting from vehicle\n",
    "class boat(vehicle):\n",
    "    def __init__(self, brand, model):\n",
    "        super().__init__(brand, model)\n",
    "\n",
    "    def move(self):\n",
    "        print(\"sail!\")\n",
    "\n",
    "# Plane class inheriting from vehicle\n",
    "class plane(vehicle):\n",
    "    def __init__(self, brand, model):\n",
    "        super().__init__(brand, model)\n",
    "\n",
    "    def move(self):\n",
    "        print(\"fly!\")\n",
    "\n",
    "# Create vehicle objects\n",
    "car1 = car(\"Cayen\", \"CayenS\")\n",
    "boat1 = boat(\"ibiza\", \"titanic\")\n",
    "plane1 = plane(\"boeing\", \"747\")\n",
    "\n",
    "# Demonstrate polymorphism\n",
    "for x in (car1, boat1, plane1):\n",
    "    x.move()"
   ]
  },
  {
   "cell_type": "code",
   "execution_count": 12,
   "id": "041e7c1b-f0e6-4b4d-9310-0371c22312d2",
   "metadata": {},
   "outputs": [
    {
     "name": "stdout",
     "output_type": "stream",
     "text": [
      "Brand: Cayen\n",
      "Model: CayenS\n",
      "drive!\n",
      "Brand: ibiza\n",
      "Model: titanic\n",
      "sail!\n",
      "Brand: boeing\n",
      "Model: 747\n",
      "fly!\n"
     ]
    }
   ],
   "source": [
    "class vehicle:\n",
    "    def __init__(self, brand, model):\n",
    "        self.brand = brand\n",
    "        self.model = model\n",
    "    \n",
    "    def move(self):\n",
    "        print(\"drive!\")\n",
    "\n",
    "class car(vehicle):\n",
    "    def __init__(self, brand, model):\n",
    "        super().__init__(brand, model)\n",
    "    \n",
    "    def move(self):\n",
    "        print(\"drive!\")\n",
    "\n",
    "class boat(vehicle):\n",
    "    def __init__(self, brand, model):\n",
    "        super().__init__(brand, model)\n",
    "    \n",
    "    def move(self):\n",
    "        print(\"sail!\")\n",
    "\n",
    "class plane(vehicle):\n",
    "    def __init__(self, brand, model):\n",
    "        super().__init__(brand, model)\n",
    "    \n",
    "    def move(self):\n",
    "        print(\"fly!\")\n",
    "\n",
    "# Create vehicle objects\n",
    "car1 = car(\"Cayen\", \"CayenS\")\n",
    "boat1 = boat(\"ibiza\", \"titanic\")\n",
    "plane1 = plane(\"boeing\", \"747\")\n",
    "\n",
    "# Demonstrate inheritance and polymorphism\n",
    "for x in (car1, boat1, plane1):\n",
    "    print(f\"Brand: {x.brand}\")\n",
    "    print(f\"Model: {x.model}\")\n",
    "    x.move()"
   ]
  },
  {
   "cell_type": "code",
   "execution_count": null,
   "id": "0aa06acc-3cd4-4647-8c02-5ec78ec9f46a",
   "metadata": {},
   "outputs": [],
   "source": []
  }
 ],
 "metadata": {
  "kernelspec": {
   "display_name": "Python [conda env:base] *",
   "language": "python",
   "name": "conda-base-py"
  },
  "language_info": {
   "codemirror_mode": {
    "name": "ipython",
    "version": 3
   },
   "file_extension": ".py",
   "mimetype": "text/x-python",
   "name": "python",
   "nbconvert_exporter": "python",
   "pygments_lexer": "ipython3",
   "version": "3.13.5"
  }
 },
 "nbformat": 4,
 "nbformat_minor": 5
}
