{
 "cells": [
  {
   "cell_type": "code",
   "execution_count": 3,
   "id": "e9674a52-9b73-4470-979c-a7c5169329df",
   "metadata": {},
   "outputs": [
    {
     "name": "stdout",
     "output_type": "stream",
     "text": [
      "hello world !\n"
     ]
    }
   ],
   "source": [
    "def my_function():\n",
    "    print(\"hello world !\")\n",
    "my_function()"
   ]
  },
  {
   "cell_type": "code",
   "execution_count": 6,
   "id": "b53afcec-306d-4892-8f18-391aaef22a4b",
   "metadata": {},
   "outputs": [
    {
     "name": "stdout",
     "output_type": "stream",
     "text": [
      "desi Essis\n",
      "anne Essis\n"
     ]
    }
   ],
   "source": [
    "#fname is the argument\n",
    "#always call back the function\n",
    "def my_function(fname):\n",
    "    print(fname+\" Essis\")\n",
    "my_function(\"desi\")\n",
    "my_function(\"anne\")\n"
   ]
  },
  {
   "cell_type": "code",
   "execution_count": 9,
   "id": "0241f414-71e6-4f38-8064-95e4492387be",
   "metadata": {},
   "outputs": [
    {
     "name": "stdout",
     "output_type": "stream",
     "text": [
      "desi Essis\n",
      "anne Mel\n"
     ]
    }
   ],
   "source": [
    "#there is two argument (fname and iname)\n",
    "def my_function(fname,lname):\n",
    "    print(fname+\" \"+lname)\n",
    "my_function(\"desi\",\"Essis\")\n",
    "my_function(\"anne\",\"Mel\")"
   ]
  },
  {
   "cell_type": "code",
   "execution_count": 10,
   "id": "c6dea5b2-58cf-4676-9dae-46516c056bb0",
   "metadata": {},
   "outputs": [
    {
     "ename": "TypeError",
     "evalue": "my_function() missing 1 required positional argument: 'lname'",
     "output_type": "error",
     "traceback": [
      "\u001b[1;31m---------------------------------------------------------------------------\u001b[0m",
      "\u001b[1;31mTypeError\u001b[0m                                 Traceback (most recent call last)",
      "Cell \u001b[1;32mIn[10], line 4\u001b[0m\n\u001b[0;32m      2\u001b[0m \u001b[38;5;28;01mdef\u001b[39;00m\u001b[38;5;250m \u001b[39m\u001b[38;5;21mmy_function\u001b[39m(fname,lname):\n\u001b[0;32m      3\u001b[0m     \u001b[38;5;28mprint\u001b[39m(fname\u001b[38;5;241m+\u001b[39m\u001b[38;5;124m\"\u001b[39m\u001b[38;5;124m \u001b[39m\u001b[38;5;124m\"\u001b[39m\u001b[38;5;241m+\u001b[39mlname)\n\u001b[1;32m----> 4\u001b[0m my_function(\u001b[38;5;124m\"\u001b[39m\u001b[38;5;124mdesi\u001b[39m\u001b[38;5;124m\"\u001b[39m)\n",
      "\u001b[1;31mTypeError\u001b[0m: my_function() missing 1 required positional argument: 'lname'"
     ]
    }
   ],
   "source": [
    "#error because number of arguments should be always equal to number of parameter\n",
    "def my_function(fname,lname):\n",
    "    print(fname+\" \"+lname)\n",
    "my_function(\"desi\")\n"
   ]
  },
  {
   "cell_type": "code",
   "execution_count": null,
   "id": "22df01b4-372e-4ea5-ba41-f882ff025e8d",
   "metadata": {},
   "outputs": [],
   "source": []
  }
 ],
 "metadata": {
  "kernelspec": {
   "display_name": "Python [conda env:base] *",
   "language": "python",
   "name": "conda-base-py"
  },
  "language_info": {
   "codemirror_mode": {
    "name": "ipython",
    "version": 3
   },
   "file_extension": ".py",
   "mimetype": "text/x-python",
   "name": "python",
   "nbconvert_exporter": "python",
   "pygments_lexer": "ipython3",
   "version": "3.13.5"
  }
 },
 "nbformat": 4,
 "nbformat_minor": 5
}
