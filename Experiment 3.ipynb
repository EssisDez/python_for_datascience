{
 "cells": [
  {
   "cell_type": "markdown",
   "id": "c21f3b5e-7dff-4c29-8fee-58905c4fa04e",
   "metadata": {},
   "source": [
    "## Functions\n",
    "Build and utilize functions for repetitive tasks"
   ]
  },
  {
   "cell_type": "code",
   "execution_count": 3,
   "id": "e9674a52-9b73-4470-979c-a7c5169329df",
   "metadata": {},
   "outputs": [
    {
     "name": "stdout",
     "output_type": "stream",
     "text": [
      "hello world !\n"
     ]
    }
   ],
   "source": [
    "def my_function():\n",
    "    print(\"hello world !\")\n",
    "my_function()"
   ]
  },
  {
   "cell_type": "code",
   "execution_count": 1,
   "id": "b53afcec-306d-4892-8f18-391aaef22a4b",
   "metadata": {},
   "outputs": [
    {
     "name": "stdout",
     "output_type": "stream",
     "text": [
      "desi  Essis\n",
      "anne  Essis\n"
     ]
    }
   ],
   "source": [
    "#fname is the argument\n",
    "#always call back the function\n",
    "def my_function(fname):\n",
    "    print(fname,\" Essis\")\n",
    "my_function(\"desi\")\n",
    "my_function(\"anne\")\n"
   ]
  },
  {
   "cell_type": "code",
   "execution_count": 2,
   "id": "0241f414-71e6-4f38-8064-95e4492387be",
   "metadata": {},
   "outputs": [
    {
     "name": "stdout",
     "output_type": "stream",
     "text": [
      "desi   Essis\n",
      "anne   Mel\n"
     ]
    }
   ],
   "source": [
    "#there is two argument (fname and iname)\n",
    "def my_function(fname,lname):\n",
    "    print(fname,\" \",lname)\n",
    "my_function(\"desi\",\"Essis\")\n",
    "my_function(\"anne\",\"Mel\")"
   ]
  },
  {
   "cell_type": "code",
   "execution_count": 10,
   "id": "c6dea5b2-58cf-4676-9dae-46516c056bb0",
   "metadata": {},
   "outputs": [
    {
     "ename": "TypeError",
     "evalue": "my_function() missing 1 required positional argument: 'lname'",
     "output_type": "error",
     "traceback": [
      "\u001b[1;31m---------------------------------------------------------------------------\u001b[0m",
      "\u001b[1;31mTypeError\u001b[0m                                 Traceback (most recent call last)",
      "Cell \u001b[1;32mIn[10], line 4\u001b[0m\n\u001b[0;32m      2\u001b[0m \u001b[38;5;28;01mdef\u001b[39;00m\u001b[38;5;250m \u001b[39m\u001b[38;5;21mmy_function\u001b[39m(fname,lname):\n\u001b[0;32m      3\u001b[0m     \u001b[38;5;28mprint\u001b[39m(fname\u001b[38;5;241m+\u001b[39m\u001b[38;5;124m\"\u001b[39m\u001b[38;5;124m \u001b[39m\u001b[38;5;124m\"\u001b[39m\u001b[38;5;241m+\u001b[39mlname)\n\u001b[1;32m----> 4\u001b[0m my_function(\u001b[38;5;124m\"\u001b[39m\u001b[38;5;124mdesi\u001b[39m\u001b[38;5;124m\"\u001b[39m)\n",
      "\u001b[1;31mTypeError\u001b[0m: my_function() missing 1 required positional argument: 'lname'"
     ]
    }
   ],
   "source": [
    "#error because number of arguments should be always equal to number of parameter\n",
    "def my_function(fname,lname):\n",
    "    print(fname+\" \"+lname)\n",
    "my_function(\"desi\")\n"
   ]
  },
  {
   "cell_type": "code",
   "execution_count": 14,
   "id": "22df01b4-372e-4ea5-ba41-f882ff025e8d",
   "metadata": {},
   "outputs": [
    {
     "name": "stdout",
     "output_type": "stream",
     "text": [
      "the youngest child is franck\n"
     ]
    }
   ],
   "source": [
    "#arbitrary arguments *args\n",
    "def my_function(*kids):\n",
    "    print(\"the youngest child is \"+ kids[2]) # index 2 start to count by 0\n",
    "my_function(\"emil\",\"john\",\"franck\")"
   ]
  },
  {
   "cell_type": "code",
   "execution_count": 14,
   "id": "1fc8763d-997d-4494-814f-cf03d8d44969",
   "metadata": {},
   "outputs": [
    {
     "name": "stdout",
     "output_type": "stream",
     "text": [
      "the youngest is Marie\n"
     ]
    }
   ],
   "source": [
    "#27/08/2025\n",
    "def my_function(child3,child2,child1):\n",
    "    print(\"the youngest is \"+ child3)\n",
    "my_function(child1= \"Desi\",child2= \"Anne\",child3=\"Marie\")"
   ]
  },
  {
   "cell_type": "code",
   "execution_count": 23,
   "id": "645a7b58-541d-45c4-963f-ba15cd538059",
   "metadata": {},
   "outputs": [
    {
     "name": "stdout",
     "output_type": "stream",
     "text": [
      "His last name is Refsness\n"
     ]
    }
   ],
   "source": [
    "def my_function(**kid):\n",
    "    print(\"His last name is\", kid[\"Iname\"])\n",
    "    \n",
    "my_function(fname=\"Tobias\", Iname=\"Refsness\")"
   ]
  },
  {
   "cell_type": "code",
   "execution_count": 10,
   "id": "1e333fdb-9428-449e-bd14-1835a2bb6f28",
   "metadata": {},
   "outputs": [
    {
     "name": "stdout",
     "output_type": "stream",
     "text": [
      "I am from Ivory Coast\n"
     ]
    }
   ],
   "source": [
    "def my_function(country=\"Ivory Coast\"):\n",
    "   print(\"I am from\",country)\n",
    "my_function(\"Ivory Coast\")\n",
    "\n",
    "    "
   ]
  },
  {
   "cell_type": "code",
   "execution_count": 1,
   "id": "ce80ee96-1bd5-4c80-9b06-aebd2fac33f9",
   "metadata": {},
   "outputs": [
    {
     "name": "stdout",
     "output_type": "stream",
     "text": [
      "15\n"
     ]
    }
   ],
   "source": [
    "def my_function(x):\n",
    " return 5*x\n",
    "print (my_function(3))\n"
   ]
  },
  {
   "cell_type": "code",
   "execution_count": 17,
   "id": "2d98fc84-6c84-4147-b81d-84db25907db1",
   "metadata": {},
   "outputs": [
    {
     "name": "stdout",
     "output_type": "stream",
     "text": [
      "15\n"
     ]
    }
   ],
   "source": [
    "x= lambda a : a+10\n",
    "print(x(5))  #add 10 to argument a and return the result"
   ]
  },
  {
   "cell_type": "code",
   "execution_count": 18,
   "id": "2bf11269-d3dc-46ee-86a7-5698dda64b12",
   "metadata": {},
   "outputs": [
    {
     "name": "stdout",
     "output_type": "stream",
     "text": [
      "30\n"
     ]
    }
   ],
   "source": [
    "x= lambda a,b : a*b\n",
    "print(x(5,6))  #multiply argument a with argument b"
   ]
  },
  {
   "cell_type": "code",
   "execution_count": 29,
   "id": "eefc12ac-4809-4528-b247-a631a2ab9db6",
   "metadata": {},
   "outputs": [
    {
     "name": "stdout",
     "output_type": "stream",
     "text": [
      "40320\n"
     ]
    }
   ],
   "source": [
    "#factorial\n",
    "def factorial(n):\n",
    "#Base case: factorial of 0 or 1 is 1\n",
    " if n<=1:\n",
    "  return 1\n",
    "#recursive step: n!=n*(N-1)!\n",
    " else:\n",
    "  return n*factorial(n-1)\n",
    "print(factorial(8))\n"
   ]
  },
  {
   "cell_type": "code",
   "execution_count": 30,
   "id": "17f9aac4-3197-4794-aa41-c8ce04278dc5",
   "metadata": {},
   "outputs": [
    {
     "name": "stdout",
     "output_type": "stream",
     "text": [
      "26\n"
     ]
    }
   ],
   "source": [
    "def function(n):\n",
    "    return lambda a:a*n\n",
    "mydoubler=function(2)\n",
    "print(mydoubler(13))"
   ]
  },
  {
   "cell_type": "code",
   "execution_count": 2,
   "id": "c67b56b5-8334-4e74-8ef3-675ecd7b7f5c",
   "metadata": {},
   "outputs": [
    {
     "name": "stdout",
     "output_type": "stream",
     "text": [
      "22\n"
     ]
    }
   ],
   "source": [
    "#28/08/25\n",
    "\n",
    "def myfunc(n):\n",
    "    return lambda a:a*n\n",
    "\n",
    "mydoubler=myfunc(2)\n",
    "print(mydoubler(11))"
   ]
  },
  {
   "cell_type": "code",
   "execution_count": 4,
   "id": "3fa3ae14-a924-47ae-afac-621181ad9e5c",
   "metadata": {},
   "outputs": [
    {
     "name": "stdout",
     "output_type": "stream",
     "text": [
      "22\n"
     ]
    }
   ],
   "source": [
    "#28/08/25\n",
    "\n",
    "def myfunc(n):\n",
    "    return  lambda a:a*n\n",
    "\n",
    "mydoubler=myfunc(2)\n",
    "print(mydoubler(11))"
   ]
  },
  {
   "cell_type": "code",
   "execution_count": 5,
   "id": "ac53c8c0-a7f2-4100-971d-95eb5c116628",
   "metadata": {},
   "outputs": [
    {
     "name": "stdout",
     "output_type": "stream",
     "text": [
      "55\n"
     ]
    }
   ],
   "source": [
    "def myfunc(n):\n",
    "    return lambda a:a*n\n",
    "\n",
    "mytripler=myfunc(5)\n",
    "print(mytripler(11))"
   ]
  },
  {
   "cell_type": "markdown",
   "id": "9ef9db20-6167-4a8a-8173-307e19853258",
   "metadata": {},
   "source": [
    "#### def calculate_median(data):\n",
    "    sorted_data = sorted(data)\n",
    "    n = len(sorted_data)\n",
    "\n",
    "    if n % 2 == 1:  # Odd number of elements\n",
    "        median = sorted_data[n // 2]\n",
    "    else:  # Even number of elements\n",
    "        middle1 = sorted_data[n // 2 - 1]\n",
    "        middle2 = sorted_data[n // 2]\n",
    "        median = (middle1 + middle2) / 2\n",
    "    return median\n",
    "\n",
    "# Example usage:\n",
    "list_odd = [1, 5, 2, 8, 3]\n",
    "list_even = [4, 1, 7, 2, 6, 3]\n",
    "\n",
    "print(f\"Median of {list_odd}: {calculate_median(list_odd)}\")\n",
    "print(f\"Median of {list_even}: {calculate_median(list_even)}\")"
   ]
  },
  {
   "cell_type": "code",
   "execution_count": 1,
   "id": "052003a5-18e6-456c-a3f3-1152ccfa19ce",
   "metadata": {},
   "outputs": [
    {
     "name": "stdout",
     "output_type": "stream",
     "text": [
      "Median of [1, 5, 2, 8, 3]: 3\n",
      "Median of [4, 1, 7, 2, 6, 3]: 3.5\n"
     ]
    }
   ],
   "source": [
    "list_odd = [1, 5, 2, 8, 3]\n",
    "list_even = [4, 1, 7, 2, 6, 3]\n",
    "\n",
    "def calculate_median(data):\n",
    "    sorted_data = sorted(data)\n",
    "    n = len(sorted_data)\n",
    "\n",
    "    if n % 2 == 1:  # Odd number of elements\n",
    "        median = sorted_data[n // 2]\n",
    "    else:  # Even number of elements\n",
    "        middle1 = sorted_data[n // 2 - 1]\n",
    "        middle2 = sorted_data[n // 2]\n",
    "        median = (middle1 + middle2) / 2\n",
    "    return median\n",
    "\n",
    "# Example usage:\n",
    "\n",
    "\n",
    "print(f\"Median of {list_odd}: {calculate_median(list_odd)}\")\n",
    "print(f\"Median of {list_even}: {calculate_median(list_even)}\")"
   ]
  },
  {
   "cell_type": "markdown",
   "id": "f117bffa-cbd7-46d0-bd4d-76e3ede829a0",
   "metadata": {},
   "source": [
    "## Write a function called say_bye that prints: Bye!"
   ]
  },
  {
   "cell_type": "code",
   "execution_count": 7,
   "id": "29f977e6-5f8e-400e-a558-d3f09fa60b2d",
   "metadata": {},
   "outputs": [
    {
     "name": "stdout",
     "output_type": "stream",
     "text": [
      "Bye!\n"
     ]
    }
   ],
   "source": [
    "def say_bye():\n",
    "    print(\"Bye!\")\n",
    "say_bye()"
   ]
  },
  {
   "cell_type": "markdown",
   "id": "7066d708-35fb-4d4d-8d29-02ae375afc5b",
   "metadata": {},
   "source": [
    "## Write a function called multiply that takes two numbers and prints their product. example: multiply(4, 5)\n"
   ]
  },
  {
   "cell_type": "code",
   "execution_count": 8,
   "id": "de0ffbab-56d7-4ff1-92d3-ff71ee1b3e18",
   "metadata": {},
   "outputs": [
    {
     "name": "stdout",
     "output_type": "stream",
     "text": [
      "20\n"
     ]
    }
   ],
   "source": [
    "def multiply (a,b):\n",
    "    return a*b\n",
    "print(multiply(4,5))"
   ]
  },
  {
   "cell_type": "markdown",
   "id": "105db004-390d-473c-9595-be68b1467fbe",
   "metadata": {},
   "source": [
    "## Write a function called is_even that takes one number and returns True if it’s even, otherwise False."
   ]
  },
  {
   "cell_type": "code",
   "execution_count": 13,
   "id": "9b02cdd3-0f02-4c66-8f82-b3233db3e3f7",
   "metadata": {},
   "outputs": [
    {
     "name": "stdout",
     "output_type": "stream",
     "text": [
      "True\n",
      "false\n"
     ]
    }
   ],
   "source": [
    "def is_even(x):\n",
    "    if x%2 == 0 :\n",
    "       return (\"True\")\n",
    "    else:\n",
    "       return(\"false\") \n",
    "print(is_even(2))\n",
    "print(is_even(15))"
   ]
  },
  {
   "cell_type": "code",
   "execution_count": 1,
   "id": "67a48e9f-5a50-4d4a-922b-be4dd9f04221",
   "metadata": {},
   "outputs": [
    {
     "name": "stdout",
     "output_type": "stream",
     "text": [
      "{'fname': 'John', 'lname': 'Doe'}\n",
      "The last name is Doe\n"
     ]
    }
   ],
   "source": [
    "def my_function(**kid):\n",
    "    print(kid)          # just to see the dictionary\n",
    "    print(\"The last name is \" + kid[\"lname\"])\n",
    "\n",
    "my_function(fname=\"John\", lname=\"Doe\")\n"
   ]
  },
  {
   "cell_type": "markdown",
   "id": "bf33e8b0-6439-4e15-8eaf-c1de47a9583f",
   "metadata": {},
   "source": [
    "## LOCAL VARIABLE - GLOBAL VARIABLE\n"
   ]
  },
  {
   "cell_type": "code",
   "execution_count": 6,
   "id": "f59d942c-08c4-4479-a32f-276cb0abd27f",
   "metadata": {},
   "outputs": [
    {
     "name": "stdout",
     "output_type": "stream",
     "text": [
      "300\n"
     ]
    }
   ],
   "source": [
    "#local variable can be accessed from a function within the function\n",
    "# a variable created inside a function is available inside that function\n",
    "def myfunc():\n",
    "    x=300\n",
    "    print(x)\n",
    "myfunc()\n"
   ]
  },
  {
   "cell_type": "code",
   "execution_count": 7,
   "id": "a3f39d5a-9343-412c-8ff6-9864595c28c2",
   "metadata": {},
   "outputs": [
    {
     "ename": "NameError",
     "evalue": "name 'x' is not defined",
     "output_type": "error",
     "traceback": [
      "\u001b[1;31m---------------------------------------------------------------------------\u001b[0m",
      "\u001b[1;31mNameError\u001b[0m                                 Traceback (most recent call last)",
      "Cell \u001b[1;32mIn[7], line 5\u001b[0m\n\u001b[0;32m      3\u001b[0m \u001b[38;5;28;01mdef\u001b[39;00m\u001b[38;5;250m \u001b[39m\u001b[38;5;21mmyinnerfunc\u001b[39m():\n\u001b[0;32m      4\u001b[0m     \u001b[38;5;28mprint\u001b[39m(x)\n\u001b[1;32m----> 5\u001b[0m myinnerfunc()\n",
      "Cell \u001b[1;32mIn[7], line 4\u001b[0m, in \u001b[0;36mmyinnerfunc\u001b[1;34m()\u001b[0m\n\u001b[0;32m      3\u001b[0m \u001b[38;5;28;01mdef\u001b[39;00m\u001b[38;5;250m \u001b[39m\u001b[38;5;21mmyinnerfunc\u001b[39m():\n\u001b[1;32m----> 4\u001b[0m     \u001b[38;5;28mprint\u001b[39m(x)\n",
      "\u001b[1;31mNameError\u001b[0m: name 'x' is not defined"
     ]
    }
   ],
   "source": [
    "def myfunc():  #CHECK IT\n",
    "    x=300\n",
    "def myinnerfunc():\n",
    "    print(x)\n",
    "myinnerfunc()"
   ]
  },
  {
   "cell_type": "code",
   "execution_count": null,
   "id": "01444185-b706-4d9e-8909-ab1b2d0695d1",
   "metadata": {},
   "outputs": [],
   "source": []
  }
 ],
 "metadata": {
  "kernelspec": {
   "display_name": "Python [conda env:base] *",
   "language": "python",
   "name": "conda-base-py"
  },
  "language_info": {
   "codemirror_mode": {
    "name": "ipython",
    "version": 3
   },
   "file_extension": ".py",
   "mimetype": "text/x-python",
   "name": "python",
   "nbconvert_exporter": "python",
   "pygments_lexer": "ipython3",
   "version": "3.13.5"
  }
 },
 "nbformat": 4,
 "nbformat_minor": 5
}
