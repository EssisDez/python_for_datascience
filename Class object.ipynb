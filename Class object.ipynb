{
 "cells": [
  {
   "cell_type": "markdown",
   "id": "46ce379b-c988-4775-a27d-2312f707ea51",
   "metadata": {},
   "source": [
    "## Class Object"
   ]
  },
  {
   "cell_type": "code",
   "execution_count": 1,
   "id": "6791f940-d333-47da-9e42-d45f2b110055",
   "metadata": {},
   "outputs": [
    {
     "name": "stdout",
     "output_type": "stream",
     "text": [
      "5\n"
     ]
    }
   ],
   "source": [
    "class MyClass:\n",
    "    x=5\n",
    "\n",
    "p1 = MyClass()\n",
    "print(p1.x)"
   ]
  },
  {
   "cell_type": "code",
   "execution_count": 25,
   "id": "b148fa4d-07e9-4bcb-a866-4a639903d729",
   "metadata": {},
   "outputs": [
    {
     "name": "stdout",
     "output_type": "stream",
     "text": [
      "36\n",
      "John\n"
     ]
    }
   ],
   "source": [
    "# Class person\n",
    "\n",
    "class Person:\n",
    "    def __init__(self, age, name):  # Fixed method name with double underscores\n",
    "        self.name = name \n",
    "        self.age = age\n",
    "\n",
    "# These statements should be outside the class definition\n",
    "p1 = Person(\"John\", 36)  # Create Person instance\n",
    "print(p1.name)  # Print name attribute\n",
    "print(p1.age)   # Print age attribute"
   ]
  },
  {
   "cell_type": "code",
   "execution_count": 2,
   "id": "1d341cd0-e45f-405e-bbc7-f99b43f4eb05",
   "metadata": {},
   "outputs": [
    {
     "name": "stdout",
     "output_type": "stream",
     "text": [
      "2025-09-18 10:28:17.996277\n"
     ]
    }
   ],
   "source": [
    "import datetime\n",
    "x=datetime.datetime.now()\n",
    "print(x)"
   ]
  },
  {
   "cell_type": "code",
   "execution_count": 6,
   "id": "0ad7cadc-1462-42b7-834f-29565b0de13d",
   "metadata": {},
   "outputs": [
    {
     "name": "stdout",
     "output_type": "stream",
     "text": [
      "2020-05-17 00:00:00\n"
     ]
    }
   ],
   "source": [
    "import datetime\n",
    "y=datetime.datetime(2020,5,17)\n",
    "print(y)"
   ]
  },
  {
   "cell_type": "code",
   "execution_count": 10,
   "id": "3070421e-e582-4f50-aae0-cc3be8ed1d45",
   "metadata": {},
   "outputs": [
    {
     "name": "stdout",
     "output_type": "stream",
     "text": [
      "September\n"
     ]
    }
   ],
   "source": [
    "#Month\n",
    "import datetime\n",
    "z=datetime.datetime(2018,6,1)\n",
    "print(x.strftime(\"%B\")) #dragtive (verifier)"
   ]
  },
  {
   "cell_type": "code",
   "execution_count": 11,
   "id": "fc85253e-07aa-45d7-918c-baf62268293c",
   "metadata": {},
   "outputs": [
    {
     "name": "stdout",
     "output_type": "stream",
     "text": [
      "Sep\n"
     ]
    }
   ],
   "source": [
    "#Month\n",
    "import datetime\n",
    "z=datetime.datetime(2018,6,1)\n",
    "print(x.strftime(\"%b\"))"
   ]
  },
  {
   "cell_type": "code",
   "execution_count": 12,
   "id": "995dba0c-26ed-4515-bf4d-3ce7965efab8",
   "metadata": {},
   "outputs": [
    {
     "name": "stdout",
     "output_type": "stream",
     "text": [
      "Thursday\n"
     ]
    }
   ],
   "source": [
    "#Day\n",
    "import datetime\n",
    "z=datetime.datetime(2018,6,1)\n",
    "print(x.strftime(\"%A\"))"
   ]
  },
  {
   "cell_type": "code",
   "execution_count": 13,
   "id": "053d53e5-31fb-4b82-b91b-6665f31caa7c",
   "metadata": {},
   "outputs": [
    {
     "name": "stdout",
     "output_type": "stream",
     "text": [
      "Thu\n"
     ]
    }
   ],
   "source": [
    "#Day\n",
    "import datetime\n",
    "z=datetime.datetime(2018,6,1)\n",
    "print(x.strftime(\"%a\"))"
   ]
  },
  {
   "cell_type": "code",
   "execution_count": 15,
   "id": "5309daf7-722a-4e56-9160-d4dba2ee34ce",
   "metadata": {},
   "outputs": [
    {
     "name": "stdout",
     "output_type": "stream",
     "text": [
      "Thu Sep 18 10:28:17 2025\n"
     ]
    }
   ],
   "source": [
    "#Day\n",
    "import datetime\n",
    "z=datetime.datetime(2018,6,1)\n",
    "print(x.strftime(\"%c\"))"
   ]
  },
  {
   "cell_type": "code",
   "execution_count": null,
   "id": "d63b5168-1c8c-442c-9f33-6166cb5650ca",
   "metadata": {},
   "outputs": [],
   "source": []
  }
 ],
 "metadata": {
  "kernelspec": {
   "display_name": "Python [conda env:base] *",
   "language": "python",
   "name": "conda-base-py"
  },
  "language_info": {
   "codemirror_mode": {
    "name": "ipython",
    "version": 3
   },
   "file_extension": ".py",
   "mimetype": "text/x-python",
   "name": "python",
   "nbconvert_exporter": "python",
   "pygments_lexer": "ipython3",
   "version": "3.13.5"
  }
 },
 "nbformat": 4,
 "nbformat_minor": 5
}
