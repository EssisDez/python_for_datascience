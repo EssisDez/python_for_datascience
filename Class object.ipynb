{
 "cells": [
  {
   "cell_type": "markdown",
   "id": "46ce379b-c988-4775-a27d-2312f707ea51",
   "metadata": {},
   "source": [
    "## Class Object"
   ]
  },
  {
   "cell_type": "code",
   "execution_count": 1,
   "id": "6791f940-d333-47da-9e42-d45f2b110055",
   "metadata": {},
   "outputs": [
    {
     "name": "stdout",
     "output_type": "stream",
     "text": [
      "5\n"
     ]
    }
   ],
   "source": [
    "class MyClass:\n",
    "    x=5\n",
    "\n",
    "p1 = MyClass()\n",
    "print(p1.x)"
   ]
  },
  {
   "cell_type": "code",
   "execution_count": 1,
   "id": "b148fa4d-07e9-4bcb-a866-4a639903d729",
   "metadata": {},
   "outputs": [
    {
     "name": "stdout",
     "output_type": "stream",
     "text": [
      "25\n",
      "Desi\n"
     ]
    }
   ],
   "source": [
    "# Class person\n",
    "\n",
    "class Person:\n",
    "    def __init__(self, age, name):  # Fixed method name with double underscores\n",
    "        self.name = name \n",
    "        self.age = age\n",
    "\n",
    "# These statements should be outside the class definition\n",
    "p1 = Person(\"Desi\",25)  # Create Person instance\n",
    "print(p1.name)  # Print name attribute\n",
    "print(p1.age)   # Print age attribute"
   ]
  },
  {
   "cell_type": "code",
   "execution_count": 5,
   "id": "953ef7f4-9bf4-44f7-98cb-fcac3ccfc47f",
   "metadata": {},
   "outputs": [
    {
     "name": "stdout",
     "output_type": "stream",
     "text": [
      "Hi, my name is Dési\n"
     ]
    }
   ],
   "source": [
    "class Person:                    \n",
    "    def __init__(self, name):   \n",
    "        self.name = name         \n",
    "\n",
    "    def say_hi(self):            # a method (function) using self\n",
    "        print(\"Hi, my name is\", self.name)\n",
    "\n",
    "p = Person(\"Dési\")              \n",
    "p.say_hi()                      \n"
   ]
  },
  {
   "cell_type": "code",
   "execution_count": 17,
   "id": "93f5adde-07d6-4ded-807f-fa5ed6445882",
   "metadata": {},
   "outputs": [
    {
     "name": "stdout",
     "output_type": "stream",
     "text": [
      "Alice\n",
      "Bob\n",
      "Hello, my name is Alice and I am 25 years old\n",
      "Hello, my name is Bob and I am 30 years old\n",
      "Alice\n",
      "30\n"
     ]
    }
   ],
   "source": [
    "class Person:\n",
    "    def __init__(self, name, age):\n",
    "        self.name = name\n",
    "        self.age = age\n",
    "\n",
    "    def greet(self):\n",
    "        print(\"Hello, my name is\", self.name, \"and I am\", self.age, \"years old\")\n",
    "        \n",
    "x = Person(\"Alice\", 25)\n",
    "print (x.name)\n",
    "y = Person(\"Bob\", 30)\n",
    "print (y.name)\n",
    "x.greet()  # Hello, my name is Alice and I am 25 years old\n",
    "y.greet()  # Hello, my name is Bob and I am 30 years old\n",
    "print(x.name)  # Alice\n",
    "print(y.age)   # 30\n",
    "\n"
   ]
  },
  {
   "cell_type": "code",
   "execution_count": 18,
   "id": "8700d9c4-598e-4659-939e-fd0fb767a597",
   "metadata": {},
   "outputs": [
    {
     "name": "stdout",
     "output_type": "stream",
     "text": [
      "26\n"
     ]
    }
   ],
   "source": [
    "x.age = 26\n",
    "print(x.age)  # 26\n"
   ]
  },
  {
   "cell_type": "code",
   "execution_count": 21,
   "id": "4ca4843d-c31a-4b15-bd6e-ee36ebf08d2e",
   "metadata": {},
   "outputs": [
    {
     "name": "stdout",
     "output_type": "stream",
     "text": [
      "26\n"
     ]
    }
   ],
   "source": [
    "x= Person(\"desi\",26)\n",
    "print(x.age)  # 26\n"
   ]
  },
  {
   "cell_type": "code",
   "execution_count": null,
   "id": "0e71188c-48f5-4598-be04-a4e5d1416927",
   "metadata": {},
   "outputs": [],
   "source": []
  }
 ],
 "metadata": {
  "kernelspec": {
   "display_name": "Python [conda env:base] *",
   "language": "python",
   "name": "conda-base-py"
  },
  "language_info": {
   "codemirror_mode": {
    "name": "ipython",
    "version": 3
   },
   "file_extension": ".py",
   "mimetype": "text/x-python",
   "name": "python",
   "nbconvert_exporter": "python",
   "pygments_lexer": "ipython3",
   "version": "3.13.5"
  }
 },
 "nbformat": 4,
 "nbformat_minor": 5
}
