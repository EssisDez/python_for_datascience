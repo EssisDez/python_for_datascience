{
 "cells": [
  {
   "cell_type": "code",
   "execution_count": 3,
   "id": "58e815f0-3279-4547-b9d2-a314dc33e03d",
   "metadata": {},
   "outputs": [
    {
     "name": "stdout",
     "output_type": "stream",
     "text": [
      "Eligible\n"
     ]
    }
   ],
   "source": [
    "#Q2\n",
    "\n",
    "def is_eligible_for_voting(age):\n",
    "     if age >= 18 :\n",
    "         return \"Not eligible\"\n",
    "     else:\n",
    "         return \"Eligible\"\n",
    "\n",
    "x= is_eligible_for_voting(12)\n",
    "print (x)"
   ]
  },
  {
   "cell_type": "code",
   "execution_count": 7,
   "id": "e9e0a282-bf59-457e-a20a-e876e4f655c4",
   "metadata": {},
   "outputs": [
    {
     "name": "stdout",
     "output_type": "stream",
     "text": [
      "4080\n"
     ]
    }
   ],
   "source": [
    "#Q3\n",
    "def CalculBill(Quantities,Prices):\n",
    "    return Quantities*Prices\n",
    "\n",
    "\n",
    "total = CalculBill(12,340)\n",
    "print(total)\n",
    "\n"
   ]
  },
  {
   "cell_type": "code",
   "execution_count": 14,
   "id": "6d139091-9eb9-4e28-9b9c-2a52debaf895",
   "metadata": {},
   "outputs": [
    {
     "name": "stdout",
     "output_type": "stream",
     "text": [
      "7310\n"
     ]
    }
   ],
   "source": [
    "def CalculBill(quantities, prices):\n",
    "    total = 0  # Start from zero\n",
    "    for i in range(len(quantities)):  # Loop by index\n",
    "        total += quantities[i] * prices[i]  # Multiply and add to total\n",
    "    return total\n",
    "\n",
    "quantities = [2, 3, 6, 7, 8]\n",
    "prices = [230, 400, 500, 150, 200]\n",
    "\n",
    "total = CalculBill(quantities, prices)\n",
    "print(total)\n"
   ]
  },
  {
   "cell_type": "code",
   "execution_count": 17,
   "id": "e9cab9fe-12af-4116-bc09-ae1f56aa5943",
   "metadata": {},
   "outputs": [
    {
     "name": "stdout",
     "output_type": "stream",
     "text": [
      "7310.05\n"
     ]
    }
   ],
   "source": [
    "def CalculBill(quantities, prices):\n",
    "    total = 0  \n",
    "    for i in range(len(quantities)):  \n",
    "        total += quantities[i] * prices[i] \n",
    "    return total\n",
    "\n",
    "quantities = [2, 3, 6, 7, 8]\n",
    "prices = [230, 400, 500, 150, 200]\n",
    "\n",
    "total = CalculBill(quantities, prices)\n",
    "Bigtotal= total+0.05\n",
    "print(Bigtotal)\n"
   ]
  },
  {
   "cell_type": "code",
   "execution_count": null,
   "id": "c6e1ed7f-9dd6-42fb-9cfd-4e077ebab506",
   "metadata": {},
   "outputs": [],
   "source": []
  }
 ],
 "metadata": {
  "kernelspec": {
   "display_name": "Python [conda env:base] *",
   "language": "python",
   "name": "conda-base-py"
  },
  "language_info": {
   "codemirror_mode": {
    "name": "ipython",
    "version": 3
   },
   "file_extension": ".py",
   "mimetype": "text/x-python",
   "name": "python",
   "nbconvert_exporter": "python",
   "pygments_lexer": "ipython3",
   "version": "3.13.5"
  }
 },
 "nbformat": 4,
 "nbformat_minor": 5
}
