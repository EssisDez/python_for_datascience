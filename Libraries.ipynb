{
 "cells": [
  {
   "cell_type": "markdown",
   "id": "fbdf316e-9928-4735-a920-8bb5e3d6b51f",
   "metadata": {},
   "source": [
    "## IMPORT lIBRARY"
   ]
  },
  {
   "cell_type": "code",
   "execution_count": 2,
   "id": "c2ac5cfe-79fd-4aec-85cc-2a35c68b36af",
   "metadata": {},
   "outputs": [
    {
     "name": "stdout",
     "output_type": "stream",
     "text": [
      "4\n"
     ]
    }
   ],
   "source": [
    "#libraries math 09/09/25\n",
    "\n",
    "import math\n",
    "x=math.ceil(3.6)\n",
    "print(x)"
   ]
  },
  {
   "cell_type": "code",
   "execution_count": 3,
   "id": "dbdc687a-8414-4c82-9813-e2b456f8eb76",
   "metadata": {},
   "outputs": [
    {
     "name": "stdout",
     "output_type": "stream",
     "text": [
      "3\n"
     ]
    }
   ],
   "source": [
    "#libraries math\n",
    "\n",
    "import math\n",
    "x=math.floor(3.6)\n",
    "print(x)"
   ]
  },
  {
   "cell_type": "code",
   "execution_count": 5,
   "id": "8b559e5b-1556-4363-98fe-ed0daeacf6e8",
   "metadata": {},
   "outputs": [
    {
     "name": "stdout",
     "output_type": "stream",
     "text": [
      "3.141592653589793\n"
     ]
    }
   ],
   "source": [
    "#libraries math\n",
    "\n",
    "import math\n",
    "x=math.pi\n",
    "print(x)"
   ]
  },
  {
   "cell_type": "code",
   "execution_count": 7,
   "id": "1b331b26-9920-4393-b75d-4c1396031344",
   "metadata": {},
   "outputs": [
    {
     "name": "stdout",
     "output_type": "stream",
     "text": [
      "Mode of the given set of data values is 40\n"
     ]
    }
   ],
   "source": [
    "#importing the statistics library\n",
    "\n",
    "import statistics\n",
    "\n",
    "#creating the data set\n",
    "\n",
    "my_set= [10,20,30,40,40,40,50,50,60,50]\n",
    "#estimating the mode of the given set\n",
    "my_mode=statistics.mode(my_set)\n",
    "\n",
    "print(\"Mode of the given set of data values is\",my_mode)"
   ]
  },
  {
   "cell_type": "code",
   "execution_count": null,
   "id": "6a8a3673-7922-4728-93db-648ebc03302e",
   "metadata": {},
   "outputs": [],
   "source": []
  }
 ],
 "metadata": {
  "kernelspec": {
   "display_name": "Python [conda env:base] *",
   "language": "python",
   "name": "conda-base-py"
  },
  "language_info": {
   "codemirror_mode": {
    "name": "ipython",
    "version": 3
   },
   "file_extension": ".py",
   "mimetype": "text/x-python",
   "name": "python",
   "nbconvert_exporter": "python",
   "pygments_lexer": "ipython3",
   "version": "3.13.5"
  }
 },
 "nbformat": 4,
 "nbformat_minor": 5
}
