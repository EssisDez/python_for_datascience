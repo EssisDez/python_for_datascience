{
 "cells": [
  {
   "cell_type": "markdown",
   "id": "569850ca-61d8-4584-88f9-498dd2ced4f5",
   "metadata": {},
   "source": [
    "## Experiment 1: Basic Data Types  \n",
    "**Objective:** To understand integers, floats, strings, etc.  \n",
    "\n",
    "**Theory:**  \n",
    "Python supports several fundamental data types such as `int`, `float`, `bool`, `str`.  \n"
   ]
  },
  {
   "cell_type": "code",
   "execution_count": 1,
   "id": "2726c06f-46ca-42e8-90d6-2faf00d2a622",
   "metadata": {},
   "outputs": [
    {
     "name": "stdin",
     "output_type": "stream",
     "text": [
      "enter number 1:  23\n",
      "enter number 2:  45\n"
     ]
    },
    {
     "name": "stdout",
     "output_type": "stream",
     "text": [
      "68\n"
     ]
    }
   ],
   "source": [
    "#basic calculator\n",
    "\n",
    "#addition\n",
    "\n",
    "a = int (input (\"enter number 1: \"))\n",
    "b = int (input (\"enter number 2: \"))\n",
    "c= a+b\n",
    "print(c)"
   ]
  },
  {
   "cell_type": "code",
   "execution_count": 2,
   "id": "1e052b08-c8a5-4f33-ae40-c90910dc8d6e",
   "metadata": {},
   "outputs": [
    {
     "name": "stdin",
     "output_type": "stream",
     "text": [
      "enter number 1:  12\n",
      "enter number 2:  23\n"
     ]
    },
    {
     "name": "stdout",
     "output_type": "stream",
     "text": [
      "-11\n"
     ]
    }
   ],
   "source": [
    "#basic calculator\n",
    "\n",
    "#Subtraction\n",
    "\n",
    "a = int (input (\"enter number 1: \"))\n",
    "b = int (input (\"enter number 2: \"))\n",
    "c= a-b\n",
    "print(c)"
   ]
  },
  {
   "cell_type": "code",
   "execution_count": 3,
   "id": "bf09cd3a-9116-41d9-b563-c611060415dd",
   "metadata": {},
   "outputs": [
    {
     "name": "stdin",
     "output_type": "stream",
     "text": [
      "enter number 1:  23\n",
      "enter number 2:  789\n"
     ]
    },
    {
     "name": "stdout",
     "output_type": "stream",
     "text": [
      "0.029150823827629912\n"
     ]
    }
   ],
   "source": [
    "#basic calculator\n",
    "\n",
    "#division\n",
    "\n",
    "a = int (input (\"enter number 1: \"))\n",
    "b = int (input (\"enter number 2: \"))\n",
    "c= a/b\n",
    "print(c)"
   ]
  },
  {
   "cell_type": "code",
   "execution_count": 4,
   "id": "563c6e28-5ad0-4496-b455-570e9b02ca6b",
   "metadata": {},
   "outputs": [
    {
     "name": "stdin",
     "output_type": "stream",
     "text": [
      "enter number 1:  23\n",
      "enter number 2:  2\n"
     ]
    },
    {
     "name": "stdout",
     "output_type": "stream",
     "text": [
      "46\n"
     ]
    }
   ],
   "source": [
    "#basic calculator\n",
    "\n",
    "#multiplication\n",
    "\n",
    "a = int (input (\"enter number 1: \"))\n",
    "b = int (input (\"enter number 2: \"))\n",
    "c= a*b\n",
    "print(c)"
   ]
  },
  {
   "cell_type": "code",
   "execution_count": 5,
   "id": "d0118374-7e3d-44d5-bc9b-667cc3ba477c",
   "metadata": {},
   "outputs": [
    {
     "name": "stdin",
     "output_type": "stream",
     "text": [
      "enter number 1:  23\n",
      "enter number 2:  678\n"
     ]
    },
    {
     "name": "stdout",
     "output_type": "stream",
     "text": [
      "23\n"
     ]
    }
   ],
   "source": [
    "#basic calculator\n",
    "\n",
    "#modulos\n",
    "\n",
    "a = int (input (\"enter number 1: \"))\n",
    "b = int (input (\"enter number 2: \"))\n",
    "c= a%b\n",
    "print(c)"
   ]
  },
  {
   "cell_type": "code",
   "execution_count": 10,
   "id": "dbfac966-ce34-4a4c-9293-7c5ca3ebee1d",
   "metadata": {},
   "outputs": [
    {
     "name": "stdin",
     "output_type": "stream",
     "text": [
      "Enter a number 6\n"
     ]
    },
    {
     "name": "stdout",
     "output_type": "stream",
     "text": [
      "a is an Even number\n"
     ]
    }
   ],
   "source": [
    "# ODD/EVEN check\n",
    "\n",
    "a=int(input(\"Enter a number\"))\n",
    "if a%2==0 :\n",
    " print(\"a is an Even number\")\n",
    "else:\n",
    " print(\"a is an Odd number\")"
   ]
  },
  {
   "cell_type": "code",
   "execution_count": 11,
   "id": "c99ba86f-3541-410f-afeb-f42cbeb87bc2",
   "metadata": {},
   "outputs": [
    {
     "name": "stdin",
     "output_type": "stream",
     "text": [
      "Enter a number 7\n"
     ]
    },
    {
     "name": "stdout",
     "output_type": "stream",
     "text": [
      "a is an Odd number\n"
     ]
    }
   ],
   "source": [
    "# ODD/EVEN check\n",
    "\n",
    "a=int(input(\"Enter a number\"))\n",
    "if a%2==0 :\n",
    " print(\"a is an Even number\")\n",
    "else:\n",
    " print(\"a is an Odd number\")"
   ]
  },
  {
   "cell_type": "code",
   "execution_count": 13,
   "id": "104a514a-0a43-4b36-9a5b-4e186d35918f",
   "metadata": {},
   "outputs": [
    {
     "name": "stdin",
     "output_type": "stream",
     "text": [
      "Enter a number principal:  10000\n",
      "Enter a number rate:  87\n",
      "Enter a number time:  5\n"
     ]
    },
    {
     "name": "stdout",
     "output_type": "stream",
     "text": [
      "43500.0\n"
     ]
    }
   ],
   "source": [
    "# float \n",
    "\n",
    "p =int(input(\"Enter a number principal: \"))\n",
    "r =int(input(\"Enter a number rate: \"))\n",
    "t =int(input(\"Enter a number time: \"))\n",
    "si= (p*r*t)/100\n",
    "print(si)"
   ]
  },
  {
   "cell_type": "code",
   "execution_count": null,
   "id": "050a0822-850b-4a52-a30c-c3b6c3a0127b",
   "metadata": {},
   "outputs": [],
   "source": []
  }
 ],
 "metadata": {
  "kernelspec": {
   "display_name": "Python [conda env:base] *",
   "language": "python",
   "name": "conda-base-py"
  },
  "language_info": {
   "codemirror_mode": {
    "name": "ipython",
    "version": 3
   },
   "file_extension": ".py",
   "mimetype": "text/x-python",
   "name": "python",
   "nbconvert_exporter": "python",
   "pygments_lexer": "ipython3",
   "version": "3.13.5"
  }
 },
 "nbformat": 4,
 "nbformat_minor": 5
}
