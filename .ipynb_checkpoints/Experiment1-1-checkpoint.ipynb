{
 "cells": [
  {
   "cell_type": "code",
   "execution_count": null,
   "id": "2726c06f-46ca-42e8-90d6-2faf00d2a622",
   "metadata": {},
   "outputs": [],
   "source": [
    "#basic calculator\n",
    "\n",
    "#addition\n",
    "\n",
    "a = int (input (\"enter number 1: \"))\n",
    "b = int (input (\"enter number 2: \"))\n",
    "c= a+b\n",
    "print(c)"
   ]
  }
 ],
 "metadata": {
  "kernelspec": {
   "display_name": "Python [conda env:base] *",
   "language": "python",
   "name": "conda-base-py"
  },
  "language_info": {
   "codemirror_mode": {
    "name": "ipython",
    "version": 3
   },
   "file_extension": ".py",
   "mimetype": "text/x-python",
   "name": "python",
   "nbconvert_exporter": "python",
   "pygments_lexer": "ipython3",
   "version": "3.13.5"
  }
 },
 "nbformat": 4,
 "nbformat_minor": 5
}
