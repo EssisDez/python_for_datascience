{
 "cells": [
  {
   "cell_type": "markdown",
   "id": "0b59e234-4a5a-40fc-9a6d-d9c5ad32fb98",
   "metadata": {},
   "source": [
    "## Dict\n",
    "\n",
    "24/09/2025"
   ]
  },
  {
   "cell_type": "code",
   "execution_count": 12,
   "id": "a2933f0f-aaf4-4a9f-a945-deb708408382",
   "metadata": {},
   "outputs": [
    {
     "name": "stdout",
     "output_type": "stream",
     "text": [
      "{'brand': 'ford', 'model': 'mustang', 'color': 'red', 'electric': 'false', 'year': 2000}\n"
     ]
    }
   ],
   "source": [
    "#read dictionary\n",
    "\n",
    "a={\"brand\":\"ford\",\"model\":\"mustang\",\"color\":\"red\",\"electric\":\"false\",\"year\":2000}\n",
    "print(a)"
   ]
  },
  {
   "cell_type": "code",
   "execution_count": 11,
   "id": "3bffa99f-777b-4603-ade0-b01454c225fd",
   "metadata": {},
   "outputs": [
    {
     "name": "stdout",
     "output_type": "stream",
     "text": [
      "{'brand': 'ford', 'model': 'mustang', 'color': 'red', 'electric': 'false', 'year': 2000}\n"
     ]
    }
   ],
   "source": [
    "thisdict={\n",
    "    \"brand\":\"ford\",\n",
    "    \"model\":\"mustang\",\n",
    "    \"color\":\"red\",\n",
    "    \"electric\":\"false\",\n",
    "    \"year\":2000}\n",
    "print(thisdict)"
   ]
  },
  {
   "cell_type": "code",
   "execution_count": 19,
   "id": "1a6062c0-8786-4df0-89d6-7f1e25f8bbb0",
   "metadata": {},
   "outputs": [
    {
     "name": "stdout",
     "output_type": "stream",
     "text": [
      "{'brand': 'ford', 'model': 'mustang', 'color': 'red', 'electric': 'false', 'year': 1980}\n"
     ]
    }
   ],
   "source": [
    "#duplicate keep the last one\n",
    "\n",
    "thisdict={\n",
    "    \"brand\":\"ford\",\n",
    "    \"model\":\"mustang\",\n",
    "    \"color\":\"red\",\n",
    "    \"electric\":\"false\",\n",
    "    \"year\":2000,\n",
    "    \"year\":1970,\n",
    "     \"year\":1980\n",
    "}\n",
    "print(thisdict)"
   ]
  },
  {
   "cell_type": "code",
   "execution_count": 14,
   "id": "1e443bdb-30ec-448a-90d0-83fdfcea5c66",
   "metadata": {},
   "outputs": [
    {
     "name": "stdout",
     "output_type": "stream",
     "text": [
      "ford\n"
     ]
    }
   ],
   "source": [
    "thisdict={\n",
    "    \"brand\":\"ford\",\n",
    "    \"model\":\"mustang\",\n",
    "    \"color\":\"red\",\n",
    "    \"electric\":\"false\",\n",
    "    \"year\":1964}\n",
    "print(thisdict[\"brand\"])"
   ]
  },
  {
   "cell_type": "code",
   "execution_count": 21,
   "id": "6c0389e9-5f49-4c1a-970a-34af4e13a54a",
   "metadata": {},
   "outputs": [
    {
     "name": "stdout",
     "output_type": "stream",
     "text": [
      "5\n"
     ]
    }
   ],
   "source": [
    "#dictionary Length\n",
    "thisdict={\n",
    "    \"brand\":\"ford\",\n",
    "    \"model\":\"mustang\",\n",
    "    \"color\":\"red\",\n",
    "    \"electric\":\"false\",\n",
    "    \"year\":1964}\n",
    "print(len(thisdict))"
   ]
  },
  {
   "cell_type": "code",
   "execution_count": 26,
   "id": "33954e65-7887-46b0-a25c-2b525bff4037",
   "metadata": {},
   "outputs": [
    {
     "name": "stdout",
     "output_type": "stream",
     "text": [
      "<class 'dict'>\n"
     ]
    }
   ],
   "source": [
    "#class of data\n",
    "thisdict={\n",
    "    \"brand\":\"ford\",\n",
    "    \"model\":\"mustang\",\n",
    "    \"color\":\"red\",\n",
    "    \"electric\":\"false\",\n",
    "    \"year\":1964}\n",
    "print(type(thisdict))"
   ]
  },
  {
   "cell_type": "code",
   "execution_count": 25,
   "id": "2c5980cc-c5fc-458f-9eb6-8909c7e8e497",
   "metadata": {},
   "outputs": [
    {
     "name": "stdout",
     "output_type": "stream",
     "text": [
      "{'brand': 'ford', 'model': 'mustang', 'color': ['red', 'green'], 'electric': 'false', 'year': 1964}\n"
     ]
    }
   ],
   "source": [
    "#dictionary \n",
    "thisdict={\n",
    "    \"brand\":\"ford\",\n",
    "    \"model\":\"mustang\",\n",
    "    \"color\":[\"red\",\"green\"],\n",
    "    \"electric\":\"false\",\n",
    "    \"year\":1964}\n",
    "print(thisdict)"
   ]
  },
  {
   "cell_type": "code",
   "execution_count": 28,
   "id": "4c4af365-84b7-46cf-b677-7a30f94cfeff",
   "metadata": {},
   "outputs": [
    {
     "name": "stdout",
     "output_type": "stream",
     "text": [
      "mustang\n"
     ]
    }
   ],
   "source": [
    "#x=  a method called get() metho to do same \n",
    "thisdict={\n",
    "    \"brand\":\"ford\",\n",
    "    \"model\":\"mustang\",\n",
    "    \"color\":[\"red\",\"green\"],\n",
    "    \"electric\":\"false\",\n",
    "    \"year\":1964}\n",
    "#get the value of the \"model\" key\n",
    "x=thisdict.get(\"model\")\n",
    "print(x)"
   ]
  },
  {
   "cell_type": "code",
   "execution_count": 29,
   "id": "42e082d9-7d79-4661-a49a-d0a8868beb59",
   "metadata": {},
   "outputs": [
    {
     "name": "stdout",
     "output_type": "stream",
     "text": [
      "dict_keys(['brand', 'model', 'color', 'electric', 'year'])\n"
     ]
    }
   ],
   "source": [
    "#x= get the list of key\n",
    "thisdict={\n",
    "    \"brand\":\"ford\",\n",
    "    \"model\":\"mustang\",\n",
    "    \"color\":[\"red\",\"green\"],\n",
    "    \"electric\":\"false\",\n",
    "    \"year\":1964}\n",
    "#get the value of th \"model\" key\n",
    "x=thisdict.keys()\n",
    "print(x)"
   ]
  },
  {
   "cell_type": "code",
   "execution_count": 5,
   "id": "54a6b335-1c15-4456-a64a-d5fc544a0ee9",
   "metadata": {},
   "outputs": [
    {
     "name": "stdout",
     "output_type": "stream",
     "text": [
      "dict_keys(['brand', 'model', 'electric', 'year'])\n",
      "dict_keys(['brand', 'model', 'electric', 'year', 'color'])\n",
      "{'brand': 'ford', 'model': 'toyota', 'electric': 'false', 'year': 1964, 'color': 'red'}\n"
     ]
    }
   ],
   "source": [
    "#add model key\n",
    "car={\n",
    "    \"brand\":\"ford\",\n",
    "    \"model\":\"mustang\",\n",
    "    \"electric\":\"false\",\n",
    "    \"year\":1964}\n",
    "x= car.keys() #before the change\n",
    "print(x)\n",
    "car[\"model\"]=\"toyota\"\n",
    "car[\"color\"]=\"red\"\n",
    "print(x)\n",
    "print(car)  #after the change"
   ]
  },
  {
   "cell_type": "code",
   "execution_count": 36,
   "id": "01f80970-4391-46c6-8be2-e715d8b0ac49",
   "metadata": {},
   "outputs": [
    {
     "name": "stdout",
     "output_type": "stream",
     "text": [
      "{'brand': 'ford', 'model': 'mustang', 'electric': 'false', 'year': 1964}\n",
      "{'brand': 'ford', 'model': 'mustang', 'electric': 'false', 'year': '2025'}\n"
     ]
    }
   ],
   "source": [
    "#modify key value \n",
    "car={\n",
    "    \"brand\":\"ford\",\n",
    "    \"model\":\"mustang\",\n",
    "    \"electric\":\"false\",\n",
    "    \"year\":1964}\n",
    "x= car.keys() #before the change\n",
    "print(car)\n",
    "car[\"year\"]=\"2025\"\n",
    "print(car)  #after the change"
   ]
  },
  {
   "cell_type": "code",
   "execution_count": 5,
   "id": "0edda2a0-98aa-4041-9ad4-f2241fa23ec7",
   "metadata": {},
   "outputs": [
    {
     "name": "stdout",
     "output_type": "stream",
     "text": [
      "yes 'model' is inside\n"
     ]
    }
   ],
   "source": [
    "#check if a value is in the dict\n",
    "car={\n",
    "    \"brand\":\"ford\",\n",
    "    \"model\":\"mustang\",\n",
    "    \"electric\":\"false\",\n",
    "    \"year\":1964} \n",
    "if \"model\" in car:\n",
    " print(\"yes 'model' is inside\")\n",
    "else:\n",
    "    print(\"Oops lets add it\")"
   ]
  },
  {
   "cell_type": "code",
   "execution_count": 4,
   "id": "bc753943-7686-4791-b040-64e521b8dcdf",
   "metadata": {},
   "outputs": [
    {
     "name": "stdout",
     "output_type": "stream",
     "text": [
      "Oops lets add it\n"
     ]
    }
   ],
   "source": [
    "#check if a value is in the dict\n",
    "car={\n",
    "    \"brand\":\"ford\",\n",
    "    \"electric\":\"false\",\n",
    "    \"year\":1964}\n",
    "if \"model\" in car:\n",
    " print(\"yes 'model' is inside\")\n",
    "else:\n",
    "    print(\"Oops lets add it\")"
   ]
  },
  {
   "cell_type": "code",
   "execution_count": 1,
   "id": "6974a6ef-f18d-4b4d-a6f5-8db3d7332f11",
   "metadata": {},
   "outputs": [
    {
     "name": "stdout",
     "output_type": "stream",
     "text": [
      "Oops lets add it\n"
     ]
    }
   ],
   "source": [
    "#check if a value is in the dict\n",
    "car={\n",
    "    \"brand\":\"ford\",\n",
    "    \"electric\":\"false\",\n",
    "    \"year\":1964}\n",
    "if \"model\" in car:\n",
    " print(\"yes 'model' is inside\")\n",
    "else:\n",
    "    print(\"Oops lets add it\")\n",
    "x=car.keys() #add a key value\n",
    "car[\"model\"]=\"mustang\"\n",
    "print=(x)"
   ]
  },
  {
   "cell_type": "code",
   "execution_count": 6,
   "id": "2d041e1f-e880-45c7-8c63-d2d157016f91",
   "metadata": {},
   "outputs": [
    {
     "name": "stdout",
     "output_type": "stream",
     "text": [
      "{'brand': 'ford', 'model': 'toyota', 'color': 'pink', 'electric': 'false', 'year': 1964}\n"
     ]
    }
   ],
   "source": [
    "thisdict = {\n",
    "    \"brand\": \"ford\",\n",
    "    \"model\": \"mustang\",\n",
    "    \"color\": [\"red\", \"green\"],\n",
    "    \"electric\": \"false\",\n",
    "    \"year\": 1964\n",
    "}\n",
    "\n",
    "# Correct update method\n",
    "thisdict.update({\"model\": \"toyota\"})\n",
    "\n",
    "# Correct way to change color\n",
    "thisdict[\"color\"] = \"pink\"\n",
    "\n",
    "print(thisdict)\n"
   ]
  },
  {
   "cell_type": "code",
   "execution_count": 7,
   "id": "1f5f9f69-fcc1-4fc5-8733-ffab007aa311",
   "metadata": {},
   "outputs": [
    {
     "name": "stdout",
     "output_type": "stream",
     "text": [
      "{'brand': 'ford', 'model': 'mustang', 'color': ['red', 'green'], 'year': 1964}\n"
     ]
    }
   ],
   "source": [
    "thisdict={\n",
    "    \"brand\":\"ford\",\n",
    "    \"model\":\"mustang\",\n",
    "    \"color\":[\"red\",\"green\"],\n",
    "    \"electric\":\"false\",\n",
    "    \"year\":1964}\n",
    "thisdict.pop(\"electric\")\n",
    "print(thisdict)"
   ]
  },
  {
   "cell_type": "code",
   "execution_count": 1,
   "id": "341919b1-b4e4-4717-b151-c9d589b158f0",
   "metadata": {},
   "outputs": [
    {
     "name": "stdout",
     "output_type": "stream",
     "text": [
      "{'k2': 2}\n"
     ]
    }
   ],
   "source": [
    "d= {'k1':1,'k2':2,'k3':3}\n",
    "del d['k1'],d['k3']\n",
    "print(d)"
   ]
  },
  {
   "cell_type": "code",
   "execution_count": null,
   "id": "cee8e3e0-5696-499e-bfd9-6b5f3e318f0a",
   "metadata": {},
   "outputs": [],
   "source": []
  }
 ],
 "metadata": {
  "kernelspec": {
   "display_name": "Python [conda env:base] *",
   "language": "python",
   "name": "conda-base-py"
  },
  "language_info": {
   "codemirror_mode": {
    "name": "ipython",
    "version": 3
   },
   "file_extension": ".py",
   "mimetype": "text/x-python",
   "name": "python",
   "nbconvert_exporter": "python",
   "pygments_lexer": "ipython3",
   "version": "3.13.5"
  }
 },
 "nbformat": 4,
 "nbformat_minor": 5
}
