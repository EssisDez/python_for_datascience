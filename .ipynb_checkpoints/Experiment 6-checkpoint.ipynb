{
 "cells": [
  {
   "cell_type": "markdown",
   "id": "7671a7ec-fb08-408e-8ddc-fec3f018cb08",
   "metadata": {},
   "source": [
    "## FILES Handling\n"
   ]
  },
  {
   "cell_type": "code",
   "execution_count": 6,
   "id": "a2c39cb3-fade-4a55-86cb-cb754becc322",
   "metadata": {},
   "outputs": [
    {
     "ename": "FileNotFoundError",
     "evalue": "[Errno 2] No such file or directory: 'C:/Users/USER/OneDrive/Documents/CU/Programming with python/Pythontest.txt'",
     "output_type": "error",
     "traceback": [
      "\u001b[1;31m---------------------------------------------------------------------------\u001b[0m",
      "\u001b[1;31mFileNotFoundError\u001b[0m                         Traceback (most recent call last)",
      "Cell \u001b[1;32mIn[6], line 3\u001b[0m\n\u001b[0;32m      1\u001b[0m \u001b[38;5;66;03m#open file   #read\u001b[39;00m\n\u001b[1;32m----> 3\u001b[0m f \u001b[38;5;241m=\u001b[39m \u001b[38;5;28mopen\u001b[39m(\u001b[38;5;124m\"\u001b[39m\u001b[38;5;124mC:/Users/USER/OneDrive/Documents/CU/Programming with python/Pythontest.txt\u001b[39m\u001b[38;5;124m\"\u001b[39m)\n\u001b[0;32m      4\u001b[0m \u001b[38;5;28mprint\u001b[39m(f\u001b[38;5;241m.\u001b[39mread())\n",
      "File \u001b[1;32m~\\anaconda3\\Lib\\site-packages\\IPython\\core\\interactiveshell.py:324\u001b[0m, in \u001b[0;36m_modified_open\u001b[1;34m(file, *args, **kwargs)\u001b[0m\n\u001b[0;32m    317\u001b[0m \u001b[38;5;28;01mif\u001b[39;00m file \u001b[38;5;129;01min\u001b[39;00m {\u001b[38;5;241m0\u001b[39m, \u001b[38;5;241m1\u001b[39m, \u001b[38;5;241m2\u001b[39m}:\n\u001b[0;32m    318\u001b[0m     \u001b[38;5;28;01mraise\u001b[39;00m \u001b[38;5;167;01mValueError\u001b[39;00m(\n\u001b[0;32m    319\u001b[0m         \u001b[38;5;124mf\u001b[39m\u001b[38;5;124m\"\u001b[39m\u001b[38;5;124mIPython won\u001b[39m\u001b[38;5;124m'\u001b[39m\u001b[38;5;124mt let you open fd=\u001b[39m\u001b[38;5;132;01m{\u001b[39;00mfile\u001b[38;5;132;01m}\u001b[39;00m\u001b[38;5;124m by default \u001b[39m\u001b[38;5;124m\"\u001b[39m\n\u001b[0;32m    320\u001b[0m         \u001b[38;5;124m\"\u001b[39m\u001b[38;5;124mas it is likely to crash IPython. If you know what you are doing, \u001b[39m\u001b[38;5;124m\"\u001b[39m\n\u001b[0;32m    321\u001b[0m         \u001b[38;5;124m\"\u001b[39m\u001b[38;5;124myou can use builtins\u001b[39m\u001b[38;5;124m'\u001b[39m\u001b[38;5;124m open.\u001b[39m\u001b[38;5;124m\"\u001b[39m\n\u001b[0;32m    322\u001b[0m     )\n\u001b[1;32m--> 324\u001b[0m \u001b[38;5;28;01mreturn\u001b[39;00m io_open(file, \u001b[38;5;241m*\u001b[39margs, \u001b[38;5;241m*\u001b[39m\u001b[38;5;241m*\u001b[39mkwargs)\n",
      "\u001b[1;31mFileNotFoundError\u001b[0m: [Errno 2] No such file or directory: 'C:/Users/USER/OneDrive/Documents/CU/Programming with python/Pythontest.txt'"
     ]
    }
   ],
   "source": [
    "#open file   #read\n",
    "\n",
    "f = open(\"C:/Users/USER/OneDrive/Documents/CU/Programming with python/Pythontest.txt\")\n",
    "print(f.read())"
   ]
  },
  {
   "cell_type": "code",
   "execution_count": 3,
   "id": "84d348d5-6f1a-44a3-83d1-824b67d0d55f",
   "metadata": {},
   "outputs": [
    {
     "name": "stdout",
     "output_type": "stream",
     "text": [
      "Python \n",
      "\n"
     ]
    }
   ],
   "source": [
    "#read one line #readline\n",
    "\n",
    "f = open(\"C:/Users/USER/OneDrive/Documents/CU/Programming with python/Pythontest.txt\")\n",
    "print(f.readline())"
   ]
  },
  {
   "cell_type": "code",
   "execution_count": 4,
   "id": "57d04558-3ee9-4c7a-8937-d39f57209204",
   "metadata": {},
   "outputs": [
    {
     "ename": "FileNotFoundError",
     "evalue": "[Errno 2] No such file or directory: 'C:/Users/USER/OneDrive/Documents/CU/Programming with python/Pythontest.txt'",
     "output_type": "error",
     "traceback": [
      "\u001b[1;31m---------------------------------------------------------------------------\u001b[0m",
      "\u001b[1;31mFileNotFoundError\u001b[0m                         Traceback (most recent call last)",
      "Cell \u001b[1;32mIn[4], line 3\u001b[0m\n\u001b[0;32m      1\u001b[0m \u001b[38;5;66;03m#read one line #readline\u001b[39;00m\n\u001b[1;32m----> 3\u001b[0m f \u001b[38;5;241m=\u001b[39m \u001b[38;5;28mopen\u001b[39m(\u001b[38;5;124m\"\u001b[39m\u001b[38;5;124mC:/Users/USER/OneDrive/Documents/CU/Programming with python/Pythontest.txt\u001b[39m\u001b[38;5;124m\"\u001b[39m)\n\u001b[0;32m      4\u001b[0m \u001b[38;5;28mprint\u001b[39m(f\u001b[38;5;241m.\u001b[39mreadline())\n\u001b[0;32m      5\u001b[0m f\u001b[38;5;241m.\u001b[39mclose\n",
      "File \u001b[1;32m~\\anaconda3\\Lib\\site-packages\\IPython\\core\\interactiveshell.py:324\u001b[0m, in \u001b[0;36m_modified_open\u001b[1;34m(file, *args, **kwargs)\u001b[0m\n\u001b[0;32m    317\u001b[0m \u001b[38;5;28;01mif\u001b[39;00m file \u001b[38;5;129;01min\u001b[39;00m {\u001b[38;5;241m0\u001b[39m, \u001b[38;5;241m1\u001b[39m, \u001b[38;5;241m2\u001b[39m}:\n\u001b[0;32m    318\u001b[0m     \u001b[38;5;28;01mraise\u001b[39;00m \u001b[38;5;167;01mValueError\u001b[39;00m(\n\u001b[0;32m    319\u001b[0m         \u001b[38;5;124mf\u001b[39m\u001b[38;5;124m\"\u001b[39m\u001b[38;5;124mIPython won\u001b[39m\u001b[38;5;124m'\u001b[39m\u001b[38;5;124mt let you open fd=\u001b[39m\u001b[38;5;132;01m{\u001b[39;00mfile\u001b[38;5;132;01m}\u001b[39;00m\u001b[38;5;124m by default \u001b[39m\u001b[38;5;124m\"\u001b[39m\n\u001b[0;32m    320\u001b[0m         \u001b[38;5;124m\"\u001b[39m\u001b[38;5;124mas it is likely to crash IPython. If you know what you are doing, \u001b[39m\u001b[38;5;124m\"\u001b[39m\n\u001b[0;32m    321\u001b[0m         \u001b[38;5;124m\"\u001b[39m\u001b[38;5;124myou can use builtins\u001b[39m\u001b[38;5;124m'\u001b[39m\u001b[38;5;124m open.\u001b[39m\u001b[38;5;124m\"\u001b[39m\n\u001b[0;32m    322\u001b[0m     )\n\u001b[1;32m--> 324\u001b[0m \u001b[38;5;28;01mreturn\u001b[39;00m io_open(file, \u001b[38;5;241m*\u001b[39margs, \u001b[38;5;241m*\u001b[39m\u001b[38;5;241m*\u001b[39mkwargs)\n",
      "\u001b[1;31mFileNotFoundError\u001b[0m: [Errno 2] No such file or directory: 'C:/Users/USER/OneDrive/Documents/CU/Programming with python/Pythontest.txt'"
     ]
    }
   ],
   "source": [
    "#read one line #readline\n",
    "\n",
    "f = open(\"C:/Users/USER/OneDrive/Documents/CU/Programming with python/Pythontest.txt\")\n",
    "print(f.readline())\n",
    "f.close"
   ]
  },
  {
   "cell_type": "code",
   "execution_count": 5,
   "id": "73a70a21-9bff-48d4-8e99-39fbd0ba9a1e",
   "metadata": {},
   "outputs": [
    {
     "ename": "FileNotFoundError",
     "evalue": "[Errno 2] No such file or directory: 'C:/Users/USER/OneDrive/Documents/CU/Programming with python/Pythontest.txt'",
     "output_type": "error",
     "traceback": [
      "\u001b[1;31m---------------------------------------------------------------------------\u001b[0m",
      "\u001b[1;31mFileNotFoundError\u001b[0m                         Traceback (most recent call last)",
      "Cell \u001b[1;32mIn[5], line 3\u001b[0m\n\u001b[0;32m      1\u001b[0m \u001b[38;5;66;03m#read two or more lines line #readline #readline\u001b[39;00m\n\u001b[1;32m----> 3\u001b[0m f \u001b[38;5;241m=\u001b[39m \u001b[38;5;28mopen\u001b[39m(\u001b[38;5;124m\"\u001b[39m\u001b[38;5;124mC:/Users/USER/OneDrive/Documents/CU/Programming with python/Pythontest.txt\u001b[39m\u001b[38;5;124m\"\u001b[39m)\n\u001b[0;32m      4\u001b[0m \u001b[38;5;28mprint\u001b[39m(f\u001b[38;5;241m.\u001b[39mreadline())\n\u001b[0;32m      5\u001b[0m \u001b[38;5;28mprint\u001b[39m(f\u001b[38;5;241m.\u001b[39mreadline())\n",
      "File \u001b[1;32m~\\anaconda3\\Lib\\site-packages\\IPython\\core\\interactiveshell.py:324\u001b[0m, in \u001b[0;36m_modified_open\u001b[1;34m(file, *args, **kwargs)\u001b[0m\n\u001b[0;32m    317\u001b[0m \u001b[38;5;28;01mif\u001b[39;00m file \u001b[38;5;129;01min\u001b[39;00m {\u001b[38;5;241m0\u001b[39m, \u001b[38;5;241m1\u001b[39m, \u001b[38;5;241m2\u001b[39m}:\n\u001b[0;32m    318\u001b[0m     \u001b[38;5;28;01mraise\u001b[39;00m \u001b[38;5;167;01mValueError\u001b[39;00m(\n\u001b[0;32m    319\u001b[0m         \u001b[38;5;124mf\u001b[39m\u001b[38;5;124m\"\u001b[39m\u001b[38;5;124mIPython won\u001b[39m\u001b[38;5;124m'\u001b[39m\u001b[38;5;124mt let you open fd=\u001b[39m\u001b[38;5;132;01m{\u001b[39;00mfile\u001b[38;5;132;01m}\u001b[39;00m\u001b[38;5;124m by default \u001b[39m\u001b[38;5;124m\"\u001b[39m\n\u001b[0;32m    320\u001b[0m         \u001b[38;5;124m\"\u001b[39m\u001b[38;5;124mas it is likely to crash IPython. If you know what you are doing, \u001b[39m\u001b[38;5;124m\"\u001b[39m\n\u001b[0;32m    321\u001b[0m         \u001b[38;5;124m\"\u001b[39m\u001b[38;5;124myou can use builtins\u001b[39m\u001b[38;5;124m'\u001b[39m\u001b[38;5;124m open.\u001b[39m\u001b[38;5;124m\"\u001b[39m\n\u001b[0;32m    322\u001b[0m     )\n\u001b[1;32m--> 324\u001b[0m \u001b[38;5;28;01mreturn\u001b[39;00m io_open(file, \u001b[38;5;241m*\u001b[39margs, \u001b[38;5;241m*\u001b[39m\u001b[38;5;241m*\u001b[39mkwargs)\n",
      "\u001b[1;31mFileNotFoundError\u001b[0m: [Errno 2] No such file or directory: 'C:/Users/USER/OneDrive/Documents/CU/Programming with python/Pythontest.txt'"
     ]
    }
   ],
   "source": [
    "#read two or more lines line #readline #readline\n",
    "\n",
    "f = open(\"C:/Users/USER/OneDrive/Documents/CU/Programming with python/Pythontest.txt\")\n",
    "print(f.readline())\n",
    "print(f.readline())\n"
   ]
  },
  {
   "cell_type": "code",
   "execution_count": 6,
   "id": "31ed4f99-3e70-459f-95f4-1f4290258972",
   "metadata": {},
   "outputs": [
    {
     "name": "stdout",
     "output_type": "stream",
     "text": [
      "Python \n",
      "\n",
      "\n",
      "\n",
      "I lik\n"
     ]
    }
   ],
   "source": [
    "#read two or more lines line #readline #readline #number of letter of the last line \n",
    "\n",
    "f = open(\"C:/Users/USER/OneDrive/Documents/CU/Programming with python/Pythontest.txt\")\n",
    "print(f.readline())\n",
    "print(f.readline())\n",
    "print(f.read(5))\n"
   ]
  },
  {
   "cell_type": "code",
   "execution_count": 5,
   "id": "ddfc2b58-7e92-42e8-8572-c04f837480da",
   "metadata": {},
   "outputs": [
    {
     "name": "stdout",
     "output_type": "stream",
     "text": [
      "Whoops!! I have delete the content\n",
      "\n"
     ]
    }
   ],
   "source": [
    "#read file another way\n",
    "\n",
    "with open(\"C:/Users/USER/OneDrive/Documents/CU/Programming with python/Pythontest.txt\") as f:\n",
    " print(f.read())\n",
    " print(f.read(5))\n",
    " \n"
   ]
  },
  {
   "cell_type": "code",
   "execution_count": 10,
   "id": "00af2180-684d-44c8-892e-8e677a2f6132",
   "metadata": {},
   "outputs": [
    {
     "name": "stdout",
     "output_type": "stream",
     "text": [
      "Python \n",
      "\n",
      "I like to code with python, \n",
      "Write 50 lines of code per day help me to improve myself\n",
      "\n",
      "\n",
      "\n"
     ]
    }
   ],
   "source": [
    "#read two or more lines line #readline #readline\n",
    "\n",
    "with open(\"C:/Users/USER/OneDrive/Documents/CU/Programming with python/Pythontest.txt\") as f:\n",
    " print(f.read())\n",
    " print(f.read())\n",
    " \n"
   ]
  },
  {
   "cell_type": "code",
   "execution_count": 11,
   "id": "f6579486-9cc2-4803-a858-aca45fb159ad",
   "metadata": {},
   "outputs": [
    {
     "name": "stdout",
     "output_type": "stream",
     "text": [
      "\n",
      "I like to code with python, \n",
      "Write 50 lines of code per day help me to improve myself\n",
      "\n",
      "\n"
     ]
    }
   ],
   "source": [
    "#read two or more lines line #readline #readline\n",
    "\n",
    "with open(\"C:/Users/USER/OneDrive/Documents/CU/Programming with python/Pythontest.txt\") as f:\n",
    "    for x in f:\n",
    "       print(f.read())\n",
    "       \n",
    " \n"
   ]
  },
  {
   "cell_type": "code",
   "execution_count": 20,
   "id": "046dc3b3-242c-4dba-afe3-0fede76e7934",
   "metadata": {},
   "outputs": [
    {
     "name": "stdout",
     "output_type": "stream",
     "text": [
      "Python \n",
      "\n",
      "I like to code with python, \n",
      "Write 50 lines of code per day help me to improve myself\n",
      "\n",
      "Now the file hace more contentNow the file hace more contentNow the file hace more contentNow the file have more contentNow the file have more contentNow the file have more content\n"
     ]
    }
   ],
   "source": [
    "#append #using\"a\"\n",
    "\n",
    "with open(\"C:/Users/USER/OneDrive/Documents/CU/Programming with python/Pythontest.txt\",\"a\") as f:\n",
    " f.write(\"Now the file have more content\")\n",
    "\n",
    "with open(\"C:/Users/USER/OneDrive/Documents/CU/Programming with python/Pythontest.txt\") as f:\n",
    " print(f.read())\n"
   ]
  },
  {
   "cell_type": "code",
   "execution_count": 6,
   "id": "adbb7f66-8e5b-4377-8851-9060534f56a3",
   "metadata": {},
   "outputs": [
    {
     "name": "stdout",
     "output_type": "stream",
     "text": [
      "Whoops!! I have delete the content\n"
     ]
    }
   ],
   "source": [
    "## open the file and overwrite the content\n",
    "\n",
    "\n",
    "with open(\"C:/Users/USER/OneDrive/Documents/CU/Programming with python/Pythontest.txt\",\"w\") as f:\n",
    " f.write(\"Whoops!! I have delete the content\")\n",
    "\n",
    "with open(\"C:/Users/USER/OneDrive/Documents/CU/Programming with python/Pythontest.txt\") as f:\n",
    " print(f.read())\n"
   ]
  },
  {
   "cell_type": "markdown",
   "id": "4d296d04-d282-40c0-a057-5e82011bb8e9",
   "metadata": {},
   "source": [
    "## remove the file refait"
   ]
  },
  {
   "cell_type": "code",
   "execution_count": 1,
   "id": "0430b318-aab3-4422-9c25-77457c84e3d6",
   "metadata": {},
   "outputs": [
    {
     "name": "stdout",
     "output_type": "stream",
     "text": [
      "File deleted successfully\n"
     ]
    }
   ],
   "source": [
    "import os\n",
    "\n",
    "file_path = \"C:/Users/USER/OneDrive/Documents/CU/Programming with python/Pythontest.txt\"\n",
    "\n",
    "if os.path.exists(file_path):\n",
    "    os.remove(file_path)\n",
    "    print(\"File deleted successfully\")\n",
    "else:\n",
    "    print(\"File does not exist\")\n"
   ]
  },
  {
   "cell_type": "code",
   "execution_count": null,
   "id": "025b6333-9448-4e17-817a-41d9c052f11d",
   "metadata": {},
   "outputs": [],
   "source": []
  },
  {
   "cell_type": "code",
   "execution_count": null,
   "id": "a0bb4ccb-1218-4caa-8007-7d455d776bc3",
   "metadata": {},
   "outputs": [],
   "source": []
  }
 ],
 "metadata": {
  "kernelspec": {
   "display_name": "Python [conda env:base] *",
   "language": "python",
   "name": "conda-base-py"
  },
  "language_info": {
   "codemirror_mode": {
    "name": "ipython",
    "version": 3
   },
   "file_extension": ".py",
   "mimetype": "text/x-python",
   "name": "python",
   "nbconvert_exporter": "python",
   "pygments_lexer": "ipython3",
   "version": "3.13.5"
  }
 },
 "nbformat": 4,
 "nbformat_minor": 5
}
