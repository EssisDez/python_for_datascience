{
 "cells": [
  {
   "cell_type": "markdown",
   "id": "c8abb2a5-36aa-4373-81f9-d7f139f95902",
   "metadata": {},
   "source": [
    "# --- Experiment 2 : develop programs with conditional statements and loops"
   ]
  },
  {
   "cell_type": "code",
   "execution_count": 1,
   "id": "8ac9bb33-eb1b-4fe9-909b-0fc055baa008",
   "metadata": {},
   "outputs": [
    {
     "name": "stdout",
     "output_type": "stream",
     "text": [
      "1\n",
      "2\n",
      "3\n",
      "4\n",
      "5\n"
     ]
    }
   ],
   "source": [
    "# WHILE loop: Runs as long as a condition is True.\n",
    "# You must update the variable inside the loop, or it will run forever.\n",
    "i = 1\n",
    "while i < 6:\n",
    "    print(i)\n",
    "    i += 1\n",
    "\n",
    "# ----- Here, i starts at 1, increases each time, and stops when i becomes 6.\n",
    "\n"
   ]
  },
  {
   "cell_type": "code",
   "execution_count": 2,
   "id": "2c8ab18e-4700-4f30-a5ab-7b2f2ca92d99",
   "metadata": {},
   "outputs": [
    {
     "name": "stdout",
     "output_type": "stream",
     "text": [
      "1\n",
      "2\n",
      "3\n"
     ]
    }
   ],
   "source": [
    "# Break in while\n",
    "# ----- Stops the loop immediately, even if the condition is still True.\n",
    "\n",
    "i = 1\n",
    "while i < 6:\n",
    "    print(i)\n",
    "    if i == 3:\n",
    "        break\n",
    "    i += 1\n"
   ]
  },
  {
   "cell_type": "code",
   "execution_count": 3,
   "id": "dd321c42-ab94-4dfe-820a-436d47c13aed",
   "metadata": {},
   "outputs": [
    {
     "name": "stdout",
     "output_type": "stream",
     "text": [
      "1\n",
      "2\n",
      "4\n",
      "5\n",
      "6\n"
     ]
    }
   ],
   "source": [
    "# Continue in while\n",
    "# ----Skips the rest of the code for this iteration and moves to the next one.\n",
    "\n",
    "i = 0\n",
    "while i < 6:\n",
    "    i += 1\n",
    "    if i == 3:\n",
    "        continue\n",
    "    print(i)\n"
   ]
  },
  {
   "cell_type": "code",
   "execution_count": 4,
   "id": "6abb57be-651d-4cb8-bbf6-a25655c1ed89",
   "metadata": {},
   "outputs": [
    {
     "name": "stdout",
     "output_type": "stream",
     "text": [
      "1\n",
      "2\n",
      "3\n",
      "4\n",
      "5\n",
      "i is no longer less than 6\n"
     ]
    }
   ],
   "source": [
    "# Else in while\n",
    "# ----Runs when the loop finishes naturally (without break).\n",
    "i = 1\n",
    "while i < 6:\n",
    "    print(i)\n",
    "    i += 1\n",
    "else:\n",
    "    print(\"i is no longer less than 6\")\n"
   ]
  },
  {
   "cell_type": "code",
   "execution_count": 1,
   "id": "7f1b2bf1-7c87-4372-8d15-5ba6e76f3fab",
   "metadata": {},
   "outputs": [
    {
     "name": "stdout",
     "output_type": "stream",
     "text": [
      "apple\n",
      "banana\n",
      "cherry\n"
     ]
    }
   ],
   "source": [
    "# The FOR loop\n",
    "# ---Loops over items in a sequence (list, tuple, set, string, dic).\n",
    "#-- No need to create a counter.\n",
    "\n",
    "fruits = [\"apple\", \"banana\", \"cherry\"]\n",
    "for fruit in fruits:\n",
    "    print(fruit)\n"
   ]
  },
  {
   "cell_type": "code",
   "execution_count": 6,
   "id": "1e8a1e41-40c9-4f8d-90fa-c69f37a2758f",
   "metadata": {},
   "outputs": [
    {
     "name": "stdout",
     "output_type": "stream",
     "text": [
      "b\n",
      "a\n",
      "n\n",
      "a\n",
      "n\n",
      "a\n"
     ]
    }
   ],
   "source": [
    "#Looping over a string\n",
    "\n",
    "for letter in \"banana\":\n",
    "    print(letter)\n"
   ]
  },
  {
   "cell_type": "code",
   "execution_count": 7,
   "id": "d0e5dee6-74b6-40e6-9cae-990cd2366a6c",
   "metadata": {},
   "outputs": [
    {
     "name": "stdout",
     "output_type": "stream",
     "text": [
      "apple\n",
      "banana\n"
     ]
    }
   ],
   "source": [
    "# Break in for \n",
    "\n",
    "for fruit in fruits:\n",
    "    print(fruit)\n",
    "    if fruit == \"banana\":\n",
    "        break\n"
   ]
  },
  {
   "cell_type": "code",
   "execution_count": 8,
   "id": "a10409a8-8178-4b4c-b915-0984c952de00",
   "metadata": {},
   "outputs": [
    {
     "name": "stdout",
     "output_type": "stream",
     "text": [
      "apple\n",
      "cherry\n"
     ]
    }
   ],
   "source": [
    "# Continue in for\n",
    "\n",
    "for fruit in fruits:\n",
    "    if fruit == \"banana\":\n",
    "        continue\n",
    "    print(fruit)\n"
   ]
  },
  {
   "cell_type": "code",
   "execution_count": 9,
   "id": "f2a07dad-c427-4791-aa53-990e472f4c0b",
   "metadata": {},
   "outputs": [
    {
     "name": "stdout",
     "output_type": "stream",
     "text": [
      "2\n",
      "5\n",
      "8\n"
     ]
    }
   ],
   "source": [
    "# Range() in for\n",
    "# Creates a sequence of numbers, useful for repeating code a set number of times.\n",
    "\n",
    "for x in range(2, 10, 3):  # start at 2, end before 10, step of 3\n",
    "    print(x)\n"
   ]
  },
  {
   "cell_type": "code",
   "execution_count": 11,
   "id": "df9ceb85-07f7-4514-80a5-5d2a764671c0",
   "metadata": {},
   "outputs": [
    {
     "name": "stdout",
     "output_type": "stream",
     "text": [
      "0\n",
      "1\n",
      "2\n",
      "3\n",
      "4\n",
      "5\n",
      "Loop finished!\n"
     ]
    }
   ],
   "source": [
    "# Else in for \n",
    "\n",
    "for x in range(6):\n",
    "    print(x)\n",
    "else:\n",
    "    print(\"Loop finished!\")\n",
    "\n"
   ]
  },
  {
   "cell_type": "code",
   "execution_count": 14,
   "id": "87d4285b-74bd-4403-8708-eea97fd1e494",
   "metadata": {},
   "outputs": [
    {
     "name": "stdout",
     "output_type": "stream",
     "text": [
      "b is greater than a\n",
      "b is greater than a\n",
      "b is greater than a\n",
      "B\n"
     ]
    }
   ],
   "source": [
    "#Conditional Statements in Python\n",
    "#Used to make decisions in your program.\n",
    "\n",
    "# IF \n",
    "a = 33\n",
    "b = 200\n",
    "c = 300\n",
    "if b > a:\n",
    "    print(\"b is greater than a\")\n",
    "\n",
    "\n",
    "# ELIF  Runs if the previous condition(s) were False.\n",
    "if b > a:\n",
    "    print(\"b is greater than a\")\n",
    "elif a == b:\n",
    "    print(\"a and b are equal\")\n",
    "\n",
    "#ELSE Runs if all previous conditions were False.\n",
    "\n",
    "if b > a:\n",
    "    print(\"b is greater than a\")\n",
    "elif a == b:\n",
    "    print(\"a and b are equal\")\n",
    "else:\n",
    "    print(\"a is greater than b\")\n",
    "\n",
    "#One-line if (Ternary Operator)\n",
    "\n",
    "print(\"A\") if a > b else print(\"B\")\n",
    "\n",
    "\n",
    "\n"
   ]
  },
  {
   "cell_type": "code",
   "execution_count": 9,
   "id": "483b5373-2d41-442b-b61d-4d41a1f01466",
   "metadata": {},
   "outputs": [
    {
     "name": "stdout",
     "output_type": "stream",
     "text": [
      "At least one condition is True\n"
     ]
    }
   ],
   "source": [
    "#Logical Operators\n",
    "#and → both conditions must be True\n",
    "#or → at least one condition must be True\n",
    "a = 1000\n",
    "b = 200\n",
    "c = 300\n",
    "if a > b and c > a:\n",
    "    print(\"Both conditions are True\")\n",
    "\n",
    "if a > b or a > c:\n",
    "    print(\"At least one condition is True\")"
   ]
  },
  {
   "cell_type": "code",
   "execution_count": 18,
   "id": "6e1b7a63-9953-4d97-942c-39e64c195eed",
   "metadata": {},
   "outputs": [
    {
     "name": "stdout",
     "output_type": "stream",
     "text": [
      "m\n",
      "a\n",
      "n\n",
      "g\n",
      "o\n",
      "e\n",
      "s\n"
     ]
    }
   ],
   "source": [
    "\n",
    "for x in \"mangoes\":\n",
    "  print (x)"
   ]
  },
  {
   "cell_type": "code",
   "execution_count": 30,
   "id": "b1a358d4-1231-4278-bf3c-c5ca669d1829",
   "metadata": {},
   "outputs": [
    {
     "name": "stdin",
     "output_type": "stream",
     "text": [
      "enter number 1 789\n",
      "enter number 2 90\n",
      "enter number 3 789\n",
      "enter number 4 95\n"
     ]
    },
    {
     "name": "stdout",
     "output_type": "stream",
     "text": [
      "the largest is  95\n"
     ]
    }
   ],
   "source": [
    "x= int(input (\"enter number 1\"))\n",
    "y= int(input (\"enter number 2\"))\n",
    "z= int(input (\"enter number 3\"))\n",
    "d= int(input (\"enter number 4\"))\n",
    "\n",
    "if x > y and x > z and x>d :\n",
    "   largest = x\n",
    "elif y > x and y > z and y>d :\n",
    "   largest = y\n",
    "elif z > x and z > y and z>d :\n",
    "   largest = z\n",
    "else :\n",
    "    largest = d\n",
    " \n",
    "print (\"the largest is \", largest)"
   ]
  },
  {
   "cell_type": "code",
   "execution_count": 5,
   "id": "96406147-a259-42ed-8d97-873897977660",
   "metadata": {},
   "outputs": [
    {
     "name": "stdout",
     "output_type": "stream",
     "text": [
      "True\n"
     ]
    }
   ],
   "source": [
    "a = 33\n",
    "b = 200\n",
    "\n",
    "x = True\n",
    "y = False\n",
    "\n",
    "if b > a:\n",
    "    print(x)   # Prints True\n",
    "else:\n",
    "    print(y)   # Prints False\n"
   ]
  },
  {
   "cell_type": "code",
   "execution_count": 38,
   "id": "8b1260a0-e6f1-4d76-b633-57e7d1acb12a",
   "metadata": {},
   "outputs": [
    {
     "name": "stdout",
     "output_type": "stream",
     "text": [
      "b is greater than a\n"
     ]
    }
   ],
   "source": [
    "a = 33\n",
    "b = 200\n",
    "\n",
    "if b > a:\n",
    "    print(\"b is greater than a\")   # Prints True\n",
    "elif  a==b :\n",
    "    print(\"a and b are equal\")   # Prints False\n"
   ]
  },
  {
   "cell_type": "code",
   "execution_count": 39,
   "id": "34d839e1-79c5-4a08-983c-b1994883028e",
   "metadata": {},
   "outputs": [
    {
     "name": "stdout",
     "output_type": "stream",
     "text": [
      "B\n"
     ]
    }
   ],
   "source": [
    "a = 2\n",
    "b = 300\n",
    "\n",
    "print(\"A\") if a > b else print (\"B\")\n",
    "    \n",
    "# short hand if....else"
   ]
  },
  {
   "cell_type": "code",
   "execution_count": 40,
   "id": "570ee51f-963c-4b46-8c72-2ff626bfdda4",
   "metadata": {},
   "outputs": [
    {
     "name": "stdin",
     "output_type": "stream",
     "text": [
      "number 1 30\n",
      "number 2 40\n",
      "number 3 35\n"
     ]
    },
    {
     "name": "stdout",
     "output_type": "stream",
     "text": [
      "condition not true\n"
     ]
    }
   ],
   "source": [
    "x=int(input (\"number 1\"))\n",
    "y=int(input (\"number 2\"))\n",
    "z=int(input (\"number 3\"))\n",
    "if x> y and z>a:\n",
    "    print (\"both condition are true\")\n",
    "else :\n",
    "    print (\"condition not true\")\n"
   ]
  },
  {
   "cell_type": "code",
   "execution_count": 41,
   "id": "7d4ed808-9fe3-4659-a2d8-3ed33fce4a94",
   "metadata": {},
   "outputs": [
    {
     "name": "stdin",
     "output_type": "stream",
     "text": [
      "number 1 30\n",
      "number 2 40\n",
      "number 3 56\n"
     ]
    },
    {
     "name": "stdout",
     "output_type": "stream",
     "text": [
      "condition not true\n"
     ]
    }
   ],
   "source": [
    "x=int(input (\"number 1\"))\n",
    "y=int(input (\"number 2\"))\n",
    "z=int(input (\"number 3\"))\n",
    "if x> y or a>z :\n",
    "    print (\"at least one condition is true\")\n",
    "else :\n",
    "    print (\"condition not true\")\n"
   ]
  },
  {
   "cell_type": "code",
   "execution_count": 42,
   "id": "a4e5ca0a-c41f-43d8-b008-542d4a6bc88c",
   "metadata": {},
   "outputs": [
    {
     "name": "stdout",
     "output_type": "stream",
     "text": [
      "red apple\n",
      "red banana\n",
      "red cherries\n",
      "big apple\n",
      "big banana\n",
      "big cherries\n",
      "sweet apple\n",
      "sweet banana\n",
      "sweet cherries\n"
     ]
    }
   ],
   "source": [
    "#nested loop\n",
    "\n",
    "adj =[\"red\",\"big\",\"sweet\"]\n",
    "fruits =[\"apple\",\"banana\",\"cherries\"]\n",
    "for x in  adj:\n",
    "    for y in  fruits:\n",
    "        print(x,y)\n"
   ]
  },
  {
   "cell_type": "code",
   "execution_count": 43,
   "id": "4d030b15-c129-465e-91fb-e62c983da7b7",
   "metadata": {},
   "outputs": [
    {
     "name": "stdout",
     "output_type": "stream",
     "text": [
      "above ten,\n",
      "and also above 20!\n"
     ]
    }
   ],
   "source": [
    "#nested if\n",
    "\n",
    "x=41\n",
    "\n",
    "if x>10 :\n",
    "    print (\"above ten,\")\n",
    "if x>20 :\n",
    "    print (\"and also above 20!\")\n",
    "else :\n",
    "    print (\"but not above 20\")\n"
   ]
  },
  {
   "cell_type": "code",
   "execution_count": 11,
   "id": "a7f592df-72b1-4e2d-9854-f2eb1501c8af",
   "metadata": {},
   "outputs": [],
   "source": [
    "#the pass statement\n",
    "# understand it\n",
    "a =33\n",
    "b= 200\n",
    "if b>a :\n",
    "    pass\n"
   ]
  },
  {
   "cell_type": "code",
   "execution_count": 45,
   "id": "1adea292-23f2-4adc-b9fe-eba3e88f25b4",
   "metadata": {},
   "outputs": [
    {
     "name": "stdout",
     "output_type": "stream",
     "text": [
      "0\n",
      "1\n",
      "2\n",
      "3\n",
      "4\n",
      "5\n"
     ]
    }
   ],
   "source": [
    "#range\n",
    "\n",
    "for x in range (6):\n",
    "   print(x)\n"
   ]
  },
  {
   "cell_type": "code",
   "execution_count": 46,
   "id": "88cee709-04ea-4a3a-af6e-5ea1de4539b1",
   "metadata": {},
   "outputs": [
    {
     "name": "stdout",
     "output_type": "stream",
     "text": [
      "1\n",
      "2\n",
      "3\n",
      "4\n",
      "5\n"
     ]
    }
   ],
   "source": [
    "#while loop\n",
    "\n",
    "i=1\n",
    "while i<6 :\n",
    "    print (i)\n",
    "    i+=1\n"
   ]
  },
  {
   "cell_type": "code",
   "execution_count": 47,
   "id": "9fe7ab21-2a59-46f3-8083-06d053a3a78a",
   "metadata": {},
   "outputs": [
    {
     "name": "stdout",
     "output_type": "stream",
     "text": [
      "1\n",
      "2\n",
      "3\n"
     ]
    }
   ],
   "source": [
    "#while loop with break\n",
    "# stop even if the while condition is still true\n",
    "\n",
    "\n",
    "i = 1\n",
    "while i < 6:\n",
    "    print(i)\n",
    "    if i == 3:\n",
    "        break\n",
    "    i += 1\n"
   ]
  },
  {
   "cell_type": "code",
   "execution_count": 48,
   "id": "4a9daa27-255e-44b5-ac9c-128204e81bcd",
   "metadata": {},
   "outputs": [
    {
     "name": "stdout",
     "output_type": "stream",
     "text": [
      "1\n",
      "2\n",
      "4\n",
      "5\n",
      "6\n"
     ]
    }
   ],
   "source": [
    "#while loop with continue\n",
    "# stop the curent siyuation\n",
    "\n",
    "\n",
    "i = 0\n",
    "while i < 6:\n",
    "    i+=1\n",
    "    if i == 3:\n",
    "        continue\n",
    "    print(i)\n"
   ]
  },
  {
   "cell_type": "code",
   "execution_count": 49,
   "id": "992b74ac-c494-4422-a720-51d933c30270",
   "metadata": {},
   "outputs": [
    {
     "name": "stdout",
     "output_type": "stream",
     "text": [
      "1\n",
      "2\n",
      "4\n",
      "5\n",
      "6\n"
     ]
    }
   ],
   "source": [
    "#while loop with continue\n",
    "# stop the curent situation\n",
    "\n",
    "\n",
    "i = 0\n",
    "while i < 6:\n",
    "    i+=1\n",
    "    if i == 3:\n",
    "        continue\n",
    "    print(i)\n"
   ]
  },
  {
   "cell_type": "code",
   "execution_count": 51,
   "id": "934d6542-c246-4744-8682-49b9ca459752",
   "metadata": {},
   "outputs": [
    {
     "name": "stdout",
     "output_type": "stream",
     "text": [
      "1\n",
      "2\n",
      "3\n",
      "4\n",
      "5\n",
      "i is no longer less than 6\n"
     ]
    }
   ],
   "source": [
    "#while loop with else statement\n",
    "# stop the curent situation\n",
    "\n",
    "\n",
    "i = 1\n",
    "while i < 6:\n",
    "    print(i)\n",
    "    i+=1\n",
    "else: \n",
    "    print (\"i is no longer less than 6\")\n",
    "    \n"
   ]
  },
  {
   "cell_type": "code",
   "execution_count": 50,
   "id": "85b48561-91f5-4656-80c7-b614bec65ee4",
   "metadata": {},
   "outputs": [
    {
     "name": "stdout",
     "output_type": "stream",
     "text": [
      "0\n"
     ]
    }
   ],
   "source": [
    "#while loop with continue\n",
    "# stop the curent situation\n",
    "\n",
    "\n",
    "i = 0\n",
    "print(i)\n",
    "while i < 6:\n",
    "    i+=1\n",
    "    if i == 3:\n",
    "        continue\n",
    "    \n"
   ]
  },
  {
   "cell_type": "code",
   "execution_count": 4,
   "id": "8a400832-082c-4e50-acae-927edd187d55",
   "metadata": {},
   "outputs": [
    {
     "name": "stdout",
     "output_type": "stream",
     "text": [
      "apple\n",
      "banana\n"
     ]
    }
   ],
   "source": [
    "#the break statement 21/08/2025\n",
    "fruits= [\"apple\",\"banana\",\"cherry\"]\n",
    "for x in fruits:\n",
    "    print (x)\n",
    "    if x==\"banana\":\n",
    "        break"
   ]
  },
  {
   "cell_type": "code",
   "execution_count": 6,
   "id": "f8aa7ea2-1439-45bd-9e5d-418b78875548",
   "metadata": {},
   "outputs": [
    {
     "name": "stdout",
     "output_type": "stream",
     "text": [
      "apple\n"
     ]
    }
   ],
   "source": [
    "#the break statement\n",
    "fruits= [\"apple\",\"banana\",\"cherry\"]\n",
    "for x in fruits:\n",
    "    if x==\"banana\":\n",
    "        break\n",
    "    print (x) "
   ]
  },
  {
   "cell_type": "code",
   "execution_count": 7,
   "id": "63417cdd-4e60-4ea7-b9b2-18578359b586",
   "metadata": {},
   "outputs": [
    {
     "name": "stdout",
     "output_type": "stream",
     "text": [
      "apple\n",
      "cherry\n"
     ]
    }
   ],
   "source": [
    "#the continue statement\n",
    "fruits= [\"apple\",\"banana\",\"cherry\"]\n",
    "for x in fruits:\n",
    "    if x==\"banana\":\n",
    "        continue\n",
    "    print (x) "
   ]
  },
  {
   "cell_type": "code",
   "execution_count": 8,
   "id": "8b14999e-9f8c-48f5-a161-e57c2b9d2b61",
   "metadata": {},
   "outputs": [
    {
     "name": "stdout",
     "output_type": "stream",
     "text": [
      "apple\n",
      "banana\n",
      "cherry\n"
     ]
    }
   ],
   "source": [
    "#the continue statement\n",
    "fruits= [\"apple\",\"banana\",\"cherry\"]\n",
    "for x in fruits:\n",
    "    print (x)\n",
    "    if x==\"banana\":\n",
    "        continue\n",
    "     "
   ]
  },
  {
   "cell_type": "code",
   "execution_count": 11,
   "id": "a924f705-d9ba-45b8-b2e1-97f0c6556a19",
   "metadata": {},
   "outputs": [
    {
     "name": "stdout",
     "output_type": "stream",
     "text": [
      "0\n",
      "1\n",
      "2\n",
      "3\n",
      "4\n",
      "5\n",
      "6\n",
      "7\n",
      "8\n"
     ]
    }
   ],
   "source": [
    "for x in range(9):\n",
    " print (x)"
   ]
  },
  {
   "cell_type": "code",
   "execution_count": 13,
   "id": "be578874-8410-4f07-86b7-cef67cf68da7",
   "metadata": {},
   "outputs": [
    {
     "name": "stdout",
     "output_type": "stream",
     "text": [
      "2\n",
      "4\n",
      "6\n",
      "8\n",
      "10\n",
      "12\n",
      "14\n",
      "16\n",
      "18\n",
      "20\n",
      "22\n",
      "24\n",
      "26\n",
      "28\n",
      "30\n",
      "32\n",
      "34\n",
      "36\n",
      "38\n"
     ]
    }
   ],
   "source": [
    "for x in range(2,40,2):\n",
    " print (x)"
   ]
  },
  {
   "cell_type": "markdown",
   "id": "24bb5ec1-a9c1-4389-988e-0a7957ef6468",
   "metadata": {},
   "source": [
    "#refaire les codes"
   ]
  },
  {
   "cell_type": "code",
   "execution_count": 23,
   "id": "ec3d8c6f-2c00-46a2-9aef-d44808364453",
   "metadata": {},
   "outputs": [
    {
     "name": "stdout",
     "output_type": "stream",
     "text": [
      "0\n",
      "1\n",
      "2\n"
     ]
    }
   ],
   "source": [
    "# break statement\n",
    "for x in range (6):\n",
    " if x == 3:break\n",
    " print (x)\n",
    "    \n",
    "else :\n",
    "    print(\"finally finished\")"
   ]
  },
  {
   "cell_type": "code",
   "execution_count": 49,
   "id": "8b03bfa5-135e-4a34-ae8b-c6de8b8b531d",
   "metadata": {},
   "outputs": [
    {
     "name": "stdout",
     "output_type": "stream",
     "text": [
      "\n",
      "G\n",
      "Ge\n",
      "Get\n"
     ]
    }
   ],
   "source": [
    "# break statement\n",
    "\n",
    "text = \"Get attendance\"\n",
    "for i in range (len(text)):\n",
    "    print (text[:i])\n",
    "    if text[i]==\" \": break\n",
    "       \n",
    "else:\n",
    "    print (text)"
   ]
  },
  {
   "cell_type": "code",
   "execution_count": 52,
   "id": "8bcb699d-bfe9-4f9a-88ce-3ff38978a800",
   "metadata": {},
   "outputs": [
    {
     "name": "stdout",
     "output_type": "stream",
     "text": [
      "2\n"
     ]
    }
   ],
   "source": [
    "#pass statement\n",
    "for x in [0,1,2]:\n",
    "    pass\n",
    "print (x)"
   ]
  },
  {
   "cell_type": "code",
   "execution_count": 53,
   "id": "62e14e4a-c213-47ed-8174-d8c2d016f305",
   "metadata": {},
   "outputs": [],
   "source": [
    "#pass statement\n",
    "for x in [0,1,2]:\n",
    "    pass\n"
   ]
  },
  {
   "cell_type": "code",
   "execution_count": null,
   "id": "206a7920-9bd6-463b-aff8-cecd288a6c58",
   "metadata": {},
   "outputs": [],
   "source": [
    "# List of numbers\n",
    "numbers = [1, 4, 6, 7, 12, 15, 19]\n",
    "\n",
    "# Sort the list\n",
    "numbers.sort()\n",
    "\n",
    "# Calculate length\n",
    "n = len(numbers)\n",
    "\n",
    "# Calculate median\n",
    "if n % 2 == 0:\n",
    "    median1 = numbers[n//2]\n",
    "    median2 = numbers[n//2-1]\n",
    "    median = (median1 + median2)/2\n",
    "else:\n",
    "    median = numbers[n//2]  # Fixed: changed () to []\n",
    "\n",
    "print(\"Sorted list:\", numbers)\n",
    "print(\"Length:\", n)\n",
    "print(\"Median:\", median)"
   ]
  }
 ],
 "metadata": {
  "kernelspec": {
   "display_name": "Python [conda env:base] *",
   "language": "python",
   "name": "conda-base-py"
  },
  "language_info": {
   "codemirror_mode": {
    "name": "ipython",
    "version": 3
   },
   "file_extension": ".py",
   "mimetype": "text/x-python",
   "name": "python",
   "nbconvert_exporter": "python",
   "pygments_lexer": "ipython3",
   "version": "3.13.5"
  }
 },
 "nbformat": 4,
 "nbformat_minor": 5
}
