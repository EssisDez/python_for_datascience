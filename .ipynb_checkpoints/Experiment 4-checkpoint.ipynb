{
 "cells": [
  {
   "cell_type": "markdown",
   "id": "460ac9f5-6fb5-4a9e-a8f9-305d3d116d34",
   "metadata": {},
   "source": [
    "# MATHEMATICAL 28/08/25\n",
    "\n",
    "Experiment 1.4"
   ]
  },
  {
   "cell_type": "code",
   "execution_count": 3,
   "id": "37a6720c-b29b-4499-9b42-936fd9743fdd",
   "metadata": {},
   "outputs": [
    {
     "name": "stdout",
     "output_type": "stream",
     "text": [
      "4.0\n"
     ]
    }
   ],
   "source": [
    "#Mathematical ------------ Average 28/08/25\n",
    "number= [1,2,3,4,5,6,7]\n",
    "sum=sum(number)\n",
    "n=len(number)\n",
    "average= sum/n\n",
    "print(average)\n"
   ]
  },
  {
   "cell_type": "code",
   "execution_count": 1,
   "id": "f238df50-975c-42c2-bb3f-0f07045bbe51",
   "metadata": {},
   "outputs": [
    {
     "name": "stdout",
     "output_type": "stream",
     "text": [
      "median is : 7\n"
     ]
    }
   ],
   "source": [
    "#median #odd even\n",
    "number= [1,4,6,7,12,15,19]\n",
    "number.sort()  #sorted list\n",
    "n=len(number)  #number of elements in the list number\n",
    "if n%2==0:            #check if it is even \n",
    "  median1 = number[n//2]  \n",
    "  median2 = number[n//2-1]\n",
    "  median= (median1 + median2)/2\n",
    "else:           #if not its odd \n",
    "     median= number[n//2]\n",
    "print(\"median is :\", (median))\n",
    "    \n"
   ]
  },
  {
   "cell_type": "code",
   "execution_count": 2,
   "id": "ca4b4c24-4d8f-46f6-9276-c7861c97b212",
   "metadata": {},
   "outputs": [
    {
     "name": "stdout",
     "output_type": "stream",
     "text": [
      "The mean is : 13.0\n"
     ]
    }
   ],
   "source": [
    "#09/10/25 #mean and median\n",
    "#mean\n",
    "\n",
    "listmean= [2,4,5,7,8,9,56]\n",
    "n=len(listmean)\n",
    "sumlist=sum(listmean)\n",
    "getmean=sumlist/n\n",
    "\n",
    "print(\"The mean is :\",getmean)\n",
    "\n",
    "\n"
   ]
  },
  {
   "cell_type": "code",
   "execution_count": 3,
   "id": "2362ae55-67f4-4487-be4d-e3ec15182421",
   "metadata": {},
   "outputs": [
    {
     "name": "stdout",
     "output_type": "stream",
     "text": [
      "4\n"
     ]
    }
   ],
   "source": [
    "#Min \n",
    "\n",
    "x=min(23,4,56,7899,34,5,6,7)\n",
    "print(x)"
   ]
  },
  {
   "cell_type": "code",
   "execution_count": 4,
   "id": "d9ded52e-2347-4d39-ba0c-9f4e2f8c2b64",
   "metadata": {},
   "outputs": [
    {
     "name": "stdout",
     "output_type": "stream",
     "text": [
      "7899\n"
     ]
    }
   ],
   "source": [
    "#Max \n",
    "\n",
    "y=max(23,4,56,7899,34,5,6,7)\n",
    "print(y)"
   ]
  },
  {
   "cell_type": "code",
   "execution_count": 5,
   "id": "452a0130-440b-4e52-ae7c-9716f1584b6e",
   "metadata": {},
   "outputs": [
    {
     "name": "stdout",
     "output_type": "stream",
     "text": [
      "7.8\n"
     ]
    }
   ],
   "source": [
    "#Absolute \n",
    "\n",
    "x=abs(-7.8)\n",
    "print(x)"
   ]
  },
  {
   "cell_type": "code",
   "execution_count": 7,
   "id": "ccdd1f88-acfe-4e90-8ae3-cd3a82cbccb0",
   "metadata": {},
   "outputs": [
    {
     "name": "stdout",
     "output_type": "stream",
     "text": [
      "16384\n"
     ]
    }
   ],
   "source": [
    "#pow\n",
    "\n",
    "x=pow(4,7) \n",
    "print(x)"
   ]
  },
  {
   "cell_type": "markdown",
   "id": "5c9876d2-47ef-4974-9dc2-d3c85f821fbe",
   "metadata": {},
   "source": [
    "## Errors"
   ]
  },
  {
   "cell_type": "code",
   "execution_count": 10,
   "id": "91b52cc8-adda-4f7b-b1fd-75d22bc37dd6",
   "metadata": {},
   "outputs": [
    {
     "ename": "_IncompleteInputError",
     "evalue": "incomplete input (3772231833.py, line 4)",
     "output_type": "error",
     "traceback": [
      "\u001b[1;36m  Cell \u001b[1;32mIn[10], line 4\u001b[1;36m\u001b[0m\n\u001b[1;33m    \u001b[0m\n\u001b[1;37m    ^\u001b[0m\n\u001b[1;31m_IncompleteInputError\u001b[0m\u001b[1;31m:\u001b[0m incomplete input\n"
     ]
    }
   ],
   "source": [
    "try:\n",
    "    print(x)\n",
    "except:\n",
    " "
   ]
  },
  {
   "cell_type": "code",
   "execution_count": 13,
   "id": "56b08eb2-839a-4d89-a214-fa74127d0656",
   "metadata": {},
   "outputs": [
    {
     "ename": "_IncompleteInputError",
     "evalue": "incomplete input (651929213.py, line 2)",
     "output_type": "error",
     "traceback": [
      "\u001b[1;36m  Cell \u001b[1;32mIn[13], line 2\u001b[1;36m\u001b[0m\n\u001b[1;33m    print(x)\u001b[0m\n\u001b[1;37m            ^\u001b[0m\n\u001b[1;31m_IncompleteInputError\u001b[0m\u001b[1;31m:\u001b[0m incomplete input\n"
     ]
    }
   ],
   "source": [
    "\n",
    "try:\n",
    "    print(x)\n"
   ]
  },
  {
   "cell_type": "code",
   "execution_count": 39,
   "id": "316ec584-2cba-42e2-b3c8-3c77f3bd3f52",
   "metadata": {},
   "outputs": [
    {
     "name": "stdout",
     "output_type": "stream",
     "text": [
      "An exception occured\n"
     ]
    }
   ],
   "source": [
    "\n",
    "try:\n",
    "    print(z)\n",
    "except:\n",
    " \n",
    "    print(\"An exception occured\")"
   ]
  },
  {
   "cell_type": "code",
   "execution_count": 14,
   "id": "0075ce7d-2580-479a-b712-5e11c8e5f918",
   "metadata": {},
   "outputs": [
    {
     "name": "stdout",
     "output_type": "stream",
     "text": [
      "16384\n"
     ]
    }
   ],
   "source": [
    "print(x)"
   ]
  },
  {
   "cell_type": "code",
   "execution_count": 15,
   "id": "3d9f5515-2b73-4218-b2b4-28df68c97cba",
   "metadata": {},
   "outputs": [
    {
     "name": "stdout",
     "output_type": "stream",
     "text": [
      "16384\n"
     ]
    }
   ],
   "source": [
    "try:\n",
    "    print(x)\n",
    "except NameError:\n",
    "    print(\"Variable x is not defined\")\n",
    "except:\n",
    "    print(\"Something else went wrong\")"
   ]
  },
  {
   "cell_type": "code",
   "execution_count": 16,
   "id": "cf75d026-53f1-4842-9fc8-5eef980eaacb",
   "metadata": {},
   "outputs": [
    {
     "name": "stdout",
     "output_type": "stream",
     "text": [
      "Variable d is not defined\n"
     ]
    }
   ],
   "source": [
    "try:\n",
    "    print(d)\n",
    "except NameError:\n",
    "    print(\"Variable d is not defined\")\n",
    "except:\n",
    "    print(\"Something else went wrong\")"
   ]
  },
  {
   "cell_type": "code",
   "execution_count": 17,
   "id": "555b787e-bda1-46ef-b7cf-74bbd39077b8",
   "metadata": {},
   "outputs": [
    {
     "name": "stdout",
     "output_type": "stream",
     "text": [
      "Hello\n",
      "Nothing  went wrong\n"
     ]
    }
   ],
   "source": [
    "#Else : Define a block of code to executate if no errors\n",
    "\n",
    "try:\n",
    "    print(\"Hello\")\n",
    "except NameError:\n",
    "    print(\"Something else went wrong\")\n",
    "else:\n",
    "    print(\"Nothing  went wrong\")\n",
    "    "
   ]
  },
  {
   "cell_type": "code",
   "execution_count": 19,
   "id": "bda8769b-6b4f-4c6a-8b3c-e5847f3c820c",
   "metadata": {},
   "outputs": [
    {
     "name": "stdout",
     "output_type": "stream",
     "text": [
      "r\n",
      "Nothing  went wrong\n"
     ]
    }
   ],
   "source": [
    "#Finally : gets executed no matter if the try block raises any errors or not\n",
    "\n",
    "try:\n",
    "    print(\"r\")\n",
    "except NameError:\n",
    "    print(\"Something else went wrong\")\n",
    "finally:\n",
    "    print(\"Nothing  went wrong\")\n",
    "    "
   ]
  },
  {
   "cell_type": "code",
   "execution_count": 21,
   "id": "21add7e9-01a8-4434-afe1-5046ded8b76f",
   "metadata": {},
   "outputs": [
    {
     "ename": "_IncompleteInputError",
     "evalue": "incomplete input (3145270825.py, line 5)",
     "output_type": "error",
     "traceback": [
      "\u001b[1;36m  Cell \u001b[1;32mIn[21], line 5\u001b[1;36m\u001b[0m\n\u001b[1;33m    if x <0:\u001b[0m\n\u001b[1;37m            ^\u001b[0m\n\u001b[1;31m_IncompleteInputError\u001b[0m\u001b[1;31m:\u001b[0m incomplete input\n"
     ]
    }
   ],
   "source": [
    "#Raise an exception\n",
    "\n",
    "x=-1\n",
    "\n",
    "if x <0:\n",
    "    "
   ]
  },
  {
   "cell_type": "code",
   "execution_count": 28,
   "id": "aa208ac5-0915-4c33-8d8f-287a083743ae",
   "metadata": {},
   "outputs": [
    {
     "ename": "Exception",
     "evalue": "Sory, no numbers below zero",
     "output_type": "error",
     "traceback": [
      "\u001b[1;31m---------------------------------------------------------------------------\u001b[0m",
      "\u001b[1;31mException\u001b[0m                                 Traceback (most recent call last)",
      "Cell \u001b[1;32mIn[28], line 4\u001b[0m\n\u001b[0;32m      2\u001b[0m x\u001b[38;5;241m=\u001b[39m\u001b[38;5;241m-\u001b[39m\u001b[38;5;241m1\u001b[39m\n\u001b[0;32m      3\u001b[0m \u001b[38;5;28;01mif\u001b[39;00m x \u001b[38;5;241m<\u001b[39m\u001b[38;5;241m0\u001b[39m:\n\u001b[1;32m----> 4\u001b[0m  \u001b[38;5;28;01mraise\u001b[39;00m \u001b[38;5;167;01mException\u001b[39;00m (\u001b[38;5;124m\"\u001b[39m\u001b[38;5;124mSory, no numbers below zero\u001b[39m\u001b[38;5;124m\"\u001b[39m)\n",
      "\u001b[1;31mException\u001b[0m: Sory, no numbers below zero"
     ]
    }
   ],
   "source": [
    "#Raise an exception\n",
    "x=-1\n",
    "if x <0:\n",
    " raise Exception (\"Sory, no numbers below zero\")\n",
    "    "
   ]
  },
  {
   "cell_type": "code",
   "execution_count": 29,
   "id": "656c264b-f3c1-4f07-b1a2-397b086c47f5",
   "metadata": {},
   "outputs": [
    {
     "ename": "TypeError",
     "evalue": "Only integgers are allowed",
     "output_type": "error",
     "traceback": [
      "\u001b[1;31m---------------------------------------------------------------------------\u001b[0m",
      "\u001b[1;31mTypeError\u001b[0m                                 Traceback (most recent call last)",
      "Cell \u001b[1;32mIn[29], line 3\u001b[0m\n\u001b[0;32m      1\u001b[0m x\u001b[38;5;241m=\u001b[39m\u001b[38;5;124m\"\u001b[39m\u001b[38;5;124mhello\u001b[39m\u001b[38;5;124m\"\u001b[39m\n\u001b[0;32m      2\u001b[0m \u001b[38;5;28;01mif\u001b[39;00m \u001b[38;5;129;01mnot\u001b[39;00m \u001b[38;5;28mtype\u001b[39m(x) \u001b[38;5;129;01mis\u001b[39;00m \u001b[38;5;28mint\u001b[39m:\n\u001b[1;32m----> 3\u001b[0m     \u001b[38;5;28;01mraise\u001b[39;00m \u001b[38;5;167;01mTypeError\u001b[39;00m(\u001b[38;5;124m\"\u001b[39m\u001b[38;5;124mOnly integgers are allowed\u001b[39m\u001b[38;5;124m\"\u001b[39m)\n",
      "\u001b[1;31mTypeError\u001b[0m: Only integgers are allowed"
     ]
    }
   ],
   "source": [
    "x=\"hello\"\n",
    "if not type(x) is int:\n",
    "    raise TypeError(\"Only integgers are allowed\")"
   ]
  },
  {
   "cell_type": "code",
   "execution_count": 33,
   "id": "599e5648-d95a-4420-9d34-74116399f490",
   "metadata": {},
   "outputs": [],
   "source": [
    "x=\"hello\"\n",
    "if not type(x) is str:\n",
    "    raise TypeError(\"Only integgers are allowed\")"
   ]
  },
  {
   "cell_type": "code",
   "execution_count": null,
   "id": "d01f0c5e-9eb8-457c-ae7c-87a68ed41f5f",
   "metadata": {},
   "outputs": [],
   "source": [
    "#finally : Execute code, regardless of the result of the try and except blocks\n",
    "\n"
   ]
  },
  {
   "cell_type": "code",
   "execution_count": 40,
   "id": "647f66e8-2098-4c2c-9683-c30a7725ba83",
   "metadata": {},
   "outputs": [
    {
     "name": "stdout",
     "output_type": "stream",
     "text": [
      "Python \n",
      "\n",
      "I like to code with python, \n",
      "Write 50 lines of code per day help me to improve myself\n",
      "\n",
      "\n"
     ]
    }
   ],
   "source": [
    "f = open(\"C:/Users/USER/OneDrive/Documents/CU/Programming with python/Pythontest.txt\")\n",
    "print(f.read())"
   ]
  },
  {
   "cell_type": "code",
   "execution_count": null,
   "id": "b3f7c505-ecf4-48ca-a79f-1069db978537",
   "metadata": {},
   "outputs": [],
   "source": [
    "class MyClass:\n",
    "  x = 5"
   ]
  }
 ],
 "metadata": {
  "kernelspec": {
   "display_name": "Python [conda env:base] *",
   "language": "python",
   "name": "conda-base-py"
  },
  "language_info": {
   "codemirror_mode": {
    "name": "ipython",
    "version": 3
   },
   "file_extension": ".py",
   "mimetype": "text/x-python",
   "name": "python",
   "nbconvert_exporter": "python",
   "pygments_lexer": "ipython3",
   "version": "3.13.5"
  }
 },
 "nbformat": 4,
 "nbformat_minor": 5
}
