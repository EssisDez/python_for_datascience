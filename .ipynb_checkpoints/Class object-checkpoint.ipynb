{
 "cells": [
  {
   "cell_type": "markdown",
   "id": "46ce379b-c988-4775-a27d-2312f707ea51",
   "metadata": {},
   "source": [
    "## Class Object"
   ]
  },
  {
   "cell_type": "code",
   "execution_count": 1,
   "id": "6791f940-d333-47da-9e42-d45f2b110055",
   "metadata": {},
   "outputs": [
    {
     "name": "stdout",
     "output_type": "stream",
     "text": [
      "5\n"
     ]
    }
   ],
   "source": [
    "class MyClass:\n",
    "    x=5\n",
    "\n",
    "p1 = MyClass()\n",
    "print(p1.x)"
   ]
  },
  {
   "cell_type": "code",
   "execution_count": 1,
   "id": "b148fa4d-07e9-4bcb-a866-4a639903d729",
   "metadata": {},
   "outputs": [
    {
     "name": "stdout",
     "output_type": "stream",
     "text": [
      "25\n",
      "Desi\n"
     ]
    }
   ],
   "source": [
    "# Class person\n",
    "\n",
    "class Person:\n",
    "    def __init__(self, age, name):  # Fixed method name with double underscores\n",
    "        self.name = name \n",
    "        self.age = age\n",
    "\n",
    "# These statements should be outside the class definition\n",
    "p1 = Person(\"Desi\",25)  # Create Person instance\n",
    "print(p1.name)  # Print name attribute\n",
    "print(p1.age)   # Print age attribute"
   ]
  },
  {
   "cell_type": "code",
   "execution_count": 4,
   "id": "953ef7f4-9bf4-44f7-98cb-fcac3ccfc47f",
   "metadata": {},
   "outputs": [],
   "source": [
    "class Person:                    \n",
    "    def __init__(self, name):   \n",
    "        self.name = name         \n",
    "\n",
    "    def say_hi(self):            # a method (function) using self\n",
    "        print(\"Hi, my name is\", self.name)\n",
    "\n",
    "p = Person(\"Dési\")              \n",
    "p.say_hi()                      \n"
   ]
  },
  {
   "cell_type": "code",
   "execution_count": null,
   "id": "d3da96ef-8b7e-4d3c-a846-c3adbcaca6b2",
   "metadata": {},
   "outputs": [],
   "source": []
  },
  {
   "cell_type": "code",
   "execution_count": null,
   "id": "8b38a3fc-ed55-4376-8063-e9ed5785f8d7",
   "metadata": {},
   "outputs": [],
   "source": []
  }
 ],
 "metadata": {
  "kernelspec": {
   "display_name": "Python [conda env:base] *",
   "language": "python",
   "name": "conda-base-py"
  },
  "language_info": {
   "codemirror_mode": {
    "name": "ipython",
    "version": 3
   },
   "file_extension": ".py",
   "mimetype": "text/x-python",
   "name": "python",
   "nbconvert_exporter": "python",
   "pygments_lexer": "ipython3",
   "version": "3.13.5"
  }
 },
 "nbformat": 4,
 "nbformat_minor": 5
}
