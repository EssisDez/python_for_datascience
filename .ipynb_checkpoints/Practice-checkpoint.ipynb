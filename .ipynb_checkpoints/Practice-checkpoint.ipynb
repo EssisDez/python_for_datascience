{
 "cells": [
  {
   "cell_type": "code",
   "execution_count": 1,
   "id": "3b8b9614-8691-43b2-a894-1497557e2526",
   "metadata": {},
   "outputs": [
    {
     "name": "stdout",
     "output_type": "stream",
     "text": [
      "Hello, Python!\n"
     ]
    }
   ],
   "source": [
    "print(\"Hello, Python!\")\n",
    "\n"
   ]
  },
  {
   "cell_type": "code",
   "execution_count": 2,
   "id": "d786184f-385e-4632-8c3f-b893b2f2e402",
   "metadata": {},
   "outputs": [
    {
     "name": "stdout",
     "output_type": "stream",
     "text": [
      "apple\n"
     ]
    }
   ],
   "source": [
    "fruits = [\"apple\",\"banana\"]\n",
    "print(fruits[0])   # prints apple\n",
    "\n"
   ]
  },
  {
   "cell_type": "code",
   "execution_count": 4,
   "id": "3677adf3-55e2-4402-a0ea-41ab0c14e3fc",
   "metadata": {},
   "outputs": [
    {
     "name": "stdout",
     "output_type": "stream",
     "text": [
      "Hello, Desi\n"
     ]
    }
   ],
   "source": [
    "name = \"Desi\"\n",
    "greet = \"Hello, \" + name\n",
    "print(greet)\n"
   ]
  },
  {
   "cell_type": "code",
   "execution_count": 5,
   "id": "4cba7a27-5e44-415c-b0a8-882210ba9907",
   "metadata": {},
   "outputs": [
    {
     "name": "stdout",
     "output_type": "stream",
     "text": [
      "5\n"
     ]
    }
   ],
   "source": [
    "a = \"hello\"\n",
    "print(len(a))"
   ]
  },
  {
   "cell_type": "code",
   "execution_count": 6,
   "id": "8f72edc0-6f53-4b73-960e-30daeabe7ce9",
   "metadata": {},
   "outputs": [
    {
     "name": "stdout",
     "output_type": "stream",
     "text": [
      "False\n"
     ]
    }
   ],
   "source": [
    "text= \"I love python\"\n",
    "print(\"Love\" in text)"
   ]
  },
  {
   "cell_type": "code",
   "execution_count": 7,
   "id": "e4e86276-d3cd-4292-837c-797aa00b20b3",
   "metadata": {},
   "outputs": [
    {
     "name": "stdout",
     "output_type": "stream",
     "text": [
      "True\n"
     ]
    }
   ],
   "source": [
    "text= \"I love python\"\n",
    "print(\"love\" in text)"
   ]
  },
  {
   "cell_type": "code",
   "execution_count": 10,
   "id": "749740cd-5caf-42b2-bb37-28719938e740",
   "metadata": {},
   "outputs": [
    {
     "name": "stdout",
     "output_type": "stream",
     "text": [
      "You love python\n"
     ]
    }
   ],
   "source": [
    "text= \"I love python\"\n",
    "print(text.replace(\"I\",\"You\"))"
   ]
  },
  {
   "cell_type": "code",
   "execution_count": 12,
   "id": "7f7d560f-3d32-4c9f-bda2-02c6677b7047",
   "metadata": {},
   "outputs": [
    {
     "name": "stdout",
     "output_type": "stream",
     "text": [
      "My name is john, i am 36\n"
     ]
    }
   ],
   "source": [
    "age = 36\n",
    "text = \"My name is john, i am {}\"\n",
    "print (text.format(age))"
   ]
  },
  {
   "cell_type": "code",
   "execution_count": 1,
   "id": "77a57af8-8ae3-4b5a-b623-7709a214fe40",
   "metadata": {},
   "outputs": [
    {
     "name": "stdout",
     "output_type": "stream",
     "text": [
      "I want 49.95 pieces  of item 3 for 567 dollars\n"
     ]
    }
   ],
   "source": [
    "quantity = 3\n",
    "itemno = 567\n",
    "price = 49.95\n",
    "\n",
    "myorder = \"I want {2} pieces  of item {0} for {1} dollars\"\n",
    "print (myorder.format(quantity, itemno, price)) # use index to change the rank"
   ]
  },
  {
   "cell_type": "code",
   "execution_count": 2,
   "id": "73ab95ab-411d-4fc2-ab67-495708bda006",
   "metadata": {},
   "outputs": [
    {
     "name": "stdout",
     "output_type": "stream",
     "text": [
      "still on it\n",
      "still on it\n",
      "still on it\n"
     ]
    }
   ],
   "source": [
    "i=1\n",
    "while i<=3:\n",
    "    print(\"still on it\")    \n",
    "    i+=1"
   ]
  },
  {
   "cell_type": "code",
   "execution_count": 3,
   "id": "c7204fde-efe5-4d43-a87f-6e367e54a560",
   "metadata": {},
   "outputs": [
    {
     "name": "stdout",
     "output_type": "stream",
     "text": [
      "1\n",
      "2\n",
      "3\n"
     ]
    }
   ],
   "source": [
    "i=1\n",
    "while i<=3:\n",
    "    print(i)    \n",
    "    i+=1"
   ]
  },
  {
   "cell_type": "code",
   "execution_count": 4,
   "id": "9dc5032a-9c57-466b-8860-fd0706442e9d",
   "metadata": {},
   "outputs": [
    {
     "name": "stdout",
     "output_type": "stream",
     "text": [
      "2\n",
      "3\n",
      "4\n"
     ]
    }
   ],
   "source": [
    "i=1\n",
    "while i<=3:\n",
    "    i+=1\n",
    "    print(i)    \n",
    "    "
   ]
  },
  {
   "cell_type": "code",
   "execution_count": 5,
   "id": "b6c11ba4-63ed-4636-b947-fd2d2aba291b",
   "metadata": {},
   "outputs": [
    {
     "name": "stdout",
     "output_type": "stream",
     "text": [
      "1\n",
      "2\n",
      "3\n"
     ]
    }
   ],
   "source": [
    "# Break in while\n",
    "# ----- Stops the loop immediately, even if the condition is still True.\n",
    "\n",
    "i = 1\n",
    "while i < 6:\n",
    "    print(i)\n",
    "    if i == 3:\n",
    "        break\n",
    "    i += 1\n"
   ]
  },
  {
   "cell_type": "code",
   "execution_count": 1,
   "id": "3e54ef1c-e55b-4e3f-a6b5-78d9868455f0",
   "metadata": {},
   "outputs": [
    {
     "name": "stdout",
     "output_type": "stream",
     "text": [
      "1\n",
      "2\n",
      "4\n",
      "5\n",
      "6\n"
     ]
    }
   ],
   "source": [
    "\n",
    "i = 0\n",
    "while i < 6:\n",
    "    i += 1\n",
    "    if i == 3:\n",
    "        continue\n",
    "    print(i)\n"
   ]
  },
  {
   "cell_type": "code",
   "execution_count": 3,
   "id": "69c6f469-cac7-4ac9-b964-d113997d785d",
   "metadata": {},
   "outputs": [
    {
     "name": "stdout",
     "output_type": "stream",
     "text": [
      "1\n",
      "2\n",
      "3\n",
      "4\n",
      "5\n",
      "i is no longer less than 6\n"
     ]
    }
   ],
   "source": [
    "i = 1\n",
    "while i < 6:\n",
    "    print(i)\n",
    "    i += 1\n",
    "else:\n",
    "    print(\"i is no longer less than 6\")"
   ]
  },
  {
   "cell_type": "code",
   "execution_count": 4,
   "id": "1c4de59e-6dde-49ab-92a0-c16680a04c62",
   "metadata": {},
   "outputs": [
    {
     "name": "stdout",
     "output_type": "stream",
     "text": [
      "apple\n",
      "banana\n",
      "cherry\n"
     ]
    }
   ],
   "source": [
    "# The FOR loop\n",
    "# ---Loops over items in a sequence (list, tuple, set, string, dic).\n",
    "#-- No need to create a counter.\n",
    "\n",
    "fruits = [\"apple\", \"banana\", \"cherry\"]\n",
    "for fruit in fruits:\n",
    "    print(fruit)\n"
   ]
  },
  {
   "cell_type": "code",
   "execution_count": 7,
   "id": "01734451-8d74-4adb-a08e-bb6ea5199691",
   "metadata": {},
   "outputs": [
    {
     "name": "stdout",
     "output_type": "stream",
     "text": [
      "p\n",
      "a\n",
      "h\n"
     ]
    }
   ],
   "source": [
    "# The FOR loop\n",
    "# ---Loops over items in a sequence (list, tuple, set, string, dic).\n",
    "#-- No need to create a counter.\n",
    "\n",
    "fruits = [\"apple\", \"banana\", \"cherry\"]\n",
    "for fruit in fruits:\n",
    "    print(fruit[1])\n"
   ]
  },
  {
   "cell_type": "code",
   "execution_count": 6,
   "id": "8c3f122f-48e4-4b04-8cb2-b59b888f257a",
   "metadata": {},
   "outputs": [
    {
     "name": "stdout",
     "output_type": "stream",
     "text": [
      "Hello Dési, you are 21 years old\n"
     ]
    }
   ],
   "source": [
    "def welcome(name, age):\n",
    "    print(f\"Hello {name}, you are {age} years old\")\n",
    "\n",
    "welcome(\"Dési\", 21)\n"
   ]
  },
  {
   "cell_type": "code",
   "execution_count": 7,
   "id": "c266ebad-4717-47ef-90bc-14017a296076",
   "metadata": {},
   "outputs": [
    {
     "name": "stdout",
     "output_type": "stream",
     "text": [
      "Hello Dési  you are 21  years old\n"
     ]
    }
   ],
   "source": [
    "def welcome(name, age):\n",
    "    print(\"Hello\",name,\" you are\",age,\" years old\")\n",
    "\n",
    "welcome(\"Dési\", 21)\n"
   ]
  },
  {
   "cell_type": "code",
   "execution_count": 9,
   "id": "525a50d7-4f50-45a5-b31e-586dc5a8db0d",
   "metadata": {},
   "outputs": [
    {
     "name": "stdout",
     "output_type": "stream",
     "text": [
      "Hi desi\n"
     ]
    }
   ],
   "source": [
    "def greet(name):\n",
    "    print(\"Hi\", name)\n",
    "greet(\"desi\")\n"
   ]
  },
  {
   "cell_type": "code",
   "execution_count": 10,
   "id": "3c4847b9-8bb5-44fa-8a59-6d4fe5b4a9dd",
   "metadata": {},
   "outputs": [],
   "source": [
    "def give_number():\n",
    "    return 42\n"
   ]
  },
  {
   "cell_type": "code",
   "execution_count": null,
   "id": "d35e17ef-f3a7-49f1-afe4-3d87a504d301",
   "metadata": {},
   "outputs": [],
   "source": []
  }
 ],
 "metadata": {
  "kernelspec": {
   "display_name": "Python [conda env:base] *",
   "language": "python",
   "name": "conda-base-py"
  },
  "language_info": {
   "codemirror_mode": {
    "name": "ipython",
    "version": 3
   },
   "file_extension": ".py",
   "mimetype": "text/x-python",
   "name": "python",
   "nbconvert_exporter": "python",
   "pygments_lexer": "ipython3",
   "version": "3.13.5"
  }
 },
 "nbformat": 4,
 "nbformat_minor": 5
}
