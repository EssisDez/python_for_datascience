{
 "cells": [
  {
   "cell_type": "code",
   "execution_count": 2,
   "id": "d9182435-4caa-45d7-9fe5-8b5abf231f86",
   "metadata": {},
   "outputs": [
    {
     "name": "stdout",
     "output_type": "stream",
     "text": [
      "10 <class 'int'>\n",
      "-5 <class 'int'>\n",
      "3.14159 <class 'float'>\n",
      "98.6 <class 'float'>\n",
      "(2+3j) <class 'complex'>\n",
      "True <class 'bool'>\n",
      "False <class 'bool'>\n",
      "Alice <class 'str'>\n",
      "Hello, World! <class 'str'>\n",
      "[1, 2, 3, 4, 5] <class 'list'>\n",
      "['apple', 'banana', 'cherry'] <class 'list'>\n",
      "(10, 20) <class 'tuple'>\n",
      "('red', 'green', 'blue') <class 'tuple'>\n",
      "{1, 2, 3, 4, 5} <class 'set'>\n",
      "{'c', 'e', 'a', 'd', 'b'} <class 'set'>\n",
      "{'name': 'Bob', 'age': 30, 'city': 'New York'} <class 'dict'>\n",
      "None <class 'NoneType'>\n",
      "Somme âge + 5: 35\n",
      "Prix après réduction 10%: 89.991\n",
      "Hello, Alice\n",
      "Est plus âgé que 25 ? True\n",
      "42\n",
      "43\n"
     ]
    }
   ],
   "source": [
    "# --- Experiment 1.1 : basic Python scripts using fundamental data types:\n",
    "\n",
    "# ----- 1.  (int) -----\n",
    "x = 10\n",
    "y = -5\n",
    "print(x, type(x))  # show value and  type of x\n",
    "print(y, type(y))\n",
    "\n",
    "# ----- 2. decimal number (float) -----\n",
    "pi = 3.14159\n",
    "temp = 98.6\n",
    "print(pi, type(pi))\n",
    "print(temp, type(temp))\n",
    "\n",
    "# ----- 3. complex number (complex) -----\n",
    "z = 2 + 3j\n",
    "print(z, type(z))\n",
    "\n",
    "# ----- 4. Booleans (bool) -----\n",
    "is_active = True\n",
    "has_permission = False\n",
    "print(is_active, type(is_active))\n",
    "print(has_permission, type(has_permission))\n",
    "\n",
    "# ----- 5. string (str) -----\n",
    "name = \"Alice\"\n",
    "message = 'Hello, World!'\n",
    "print(name, type(name))\n",
    "print(message, type(message))\n",
    "\n",
    "# ----- 6. Listes (list) -----\n",
    "numbers = [1, 2, 3, 4, 5]\n",
    "fruits = [\"apple\", \"banana\", \"cherry\"]\n",
    "print(numbers, type(numbers))\n",
    "print(fruits, type(fruits))\n",
    "\n",
    "# ----- 7. Tuples (tuple) -----\n",
    "point = (10, 20)\n",
    "colors = (\"red\", \"green\", \"blue\")\n",
    "print(point, type(point))\n",
    "print(colors, type(colors))\n",
    "\n",
    "# ----- 8. Ensembles (set) -----\n",
    "unique_numbers = {1, 2, 3, 4, 5}\n",
    "letters = set(\"abcde\")\n",
    "print(unique_numbers, type(unique_numbers))\n",
    "print(letters, type(letters))\n",
    "\n",
    "# ----- 9. Dictionnaires (dict) -----\n",
    "person = {\"name\": \"Bob\", \"age\": 30, \"city\": \"New York\"}\n",
    "print(person, type(person))\n",
    "\n",
    "# ----- 10. Autres exemples -----\n",
    "no_value = None  # Valeur vide\n",
    "print(no_value, type(no_value))\n",
    "\n",
    "# ----- 11. Opérations simples -----\n",
    "age = 30\n",
    "price = 99.99\n",
    "greeting = \"Hello, \" + name\n",
    "is_older = age > 25\n",
    "\n",
    "print(\"Somme âge + 5:\", age + 5)\n",
    "print(\"Prix après réduction 10%:\", price * 0.9)\n",
    "print(greeting)\n",
    "print(\"Est plus âgé que 25 ?\", is_older)\n",
    "\n",
    "# ----- 12. Conversion de types -----\n",
    "print(int(42.0))       # Conversion float -> int\n",
    "print(int(\"43\"))\n"
   ]
  },
  {
   "cell_type": "code",
   "execution_count": 3,
   "id": "639e1330-ef8f-4022-9eac-616782175608",
   "metadata": {},
   "outputs": [
    {
     "name": "stdout",
     "output_type": "stream",
     "text": [
      "h\n"
     ]
    }
   ],
   "source": [
    "a = \"hello world !\"\n",
    "print(a[0])"
   ]
  },
  {
   "cell_type": "code",
   "execution_count": 4,
   "id": "4e823ef4-6d8d-4036-b9b1-d46a3f454dea",
   "metadata": {},
   "outputs": [
    {
     "name": "stdout",
     "output_type": "stream",
     "text": [
      "!\n"
     ]
    }
   ],
   "source": [
    "a = \"hello world !\"\n",
    "print(a[-1])"
   ]
  },
  {
   "cell_type": "code",
   "execution_count": 6,
   "id": "c84386c1-4cfb-4291-8023-a2fdf6780f17",
   "metadata": {},
   "outputs": [
    {
     "name": "stdout",
     "output_type": "stream",
     "text": [
      " \n"
     ]
    }
   ],
   "source": [
    "a = \"hello world !\"\n",
    "print(a[-2])"
   ]
  },
  {
   "cell_type": "code",
   "execution_count": 7,
   "id": "6ce13ef3-7046-4c69-884b-3e6f5a3b1daf",
   "metadata": {},
   "outputs": [
    {
     "name": "stdout",
     "output_type": "stream",
     "text": [
      "13\n"
     ]
    }
   ],
   "source": [
    "a = \"hello world !\"\n",
    "print(len(a))"
   ]
  },
  {
   "cell_type": "code",
   "execution_count": 8,
   "id": "c15b4348-8ad9-4aa2-bae5-b790e0eaaa2e",
   "metadata": {},
   "outputs": [
    {
     "name": "stdout",
     "output_type": "stream",
     "text": [
      "True\n"
     ]
    }
   ],
   "source": [
    "text = \"The best things in life are free!\"\n",
    "\n",
    "print (\"free\" in text)"
   ]
  },
  {
   "cell_type": "code",
   "execution_count": 9,
   "id": "60db4794-2d46-4e9e-b165-b97b292161ea",
   "metadata": {},
   "outputs": [
    {
     "name": "stdout",
     "output_type": "stream",
     "text": [
      "True\n"
     ]
    }
   ],
   "source": [
    "text = \"The best things in life are free!\"\n",
    "\n",
    "print (\"life\" in text)"
   ]
  },
  {
   "cell_type": "code",
   "execution_count": 10,
   "id": "ac866284-c68e-4fba-a295-1582862641f1",
   "metadata": {},
   "outputs": [
    {
     "name": "stdout",
     "output_type": "stream",
     "text": [
      "False\n"
     ]
    }
   ],
   "source": [
    "text = \"The best things in life are free!\"\n",
    "\n",
    "print (\"ok\" in text)"
   ]
  },
  {
   "cell_type": "code",
   "execution_count": 18,
   "id": "5b39b216-86c0-41e8-a549-0c1413464b8c",
   "metadata": {},
   "outputs": [
    {
     "name": "stdout",
     "output_type": "stream",
     "text": [
      "Oops\n"
     ]
    }
   ],
   "source": [
    "text = \"The best things in life are free!\"\n",
    "\n",
    "if \"math\" in text:\n",
    "    print(\"math is in text\")\n",
    "else:\n",
    "    print(\"Oops\")\n"
   ]
  },
  {
   "cell_type": "code",
   "execution_count": 17,
   "id": "9aebb01d-44da-4db7-abbf-f19de5c1a93c",
   "metadata": {},
   "outputs": [
    {
     "name": "stdout",
     "output_type": "stream",
     "text": [
      "llo\n"
     ]
    }
   ],
   "source": [
    "b = \"Hello, world\"\n",
    "print (b[2:5])"
   ]
  },
  {
   "cell_type": "code",
   "execution_count": 19,
   "id": "f1bf6e7d-1946-4f73-8ab2-088be13342e1",
   "metadata": {},
   "outputs": [
    {
     "name": "stdout",
     "output_type": "stream",
     "text": [
      "Hello\n"
     ]
    }
   ],
   "source": [
    "b = \"Hello, world\"\n",
    "print (b[:5])"
   ]
  },
  {
   "cell_type": "code",
   "execution_count": 20,
   "id": "348d60b0-0004-4285-93f4-f1417cce7d9a",
   "metadata": {},
   "outputs": [
    {
     "name": "stdout",
     "output_type": "stream",
     "text": [
      "llo, world\n"
     ]
    }
   ],
   "source": [
    "b = \"Hello, world\"\n",
    "print (b[2:])"
   ]
  },
  {
   "cell_type": "code",
   "execution_count": 24,
   "id": "1cddb2a7-bf21-4d05-b178-d9c76353ee8b",
   "metadata": {},
   "outputs": [
    {
     "name": "stdout",
     "output_type": "stream",
     "text": [
      "orl\n"
     ]
    }
   ],
   "source": [
    "b = \"Hello, world!\"\n",
    "print (b[-5:-2])"
   ]
  },
  {
   "cell_type": "code",
   "execution_count": 25,
   "id": "2c0530f5-2c59-4db1-ab13-c04cda1b9cf9",
   "metadata": {},
   "outputs": [
    {
     "name": "stdout",
     "output_type": "stream",
     "text": [
      "HELLO, WORLD!\n"
     ]
    }
   ],
   "source": [
    "a = \"Hello, world!\"\n",
    "print(a.upper()) # pu it in upper case"
   ]
  },
  {
   "cell_type": "code",
   "execution_count": 26,
   "id": "5b5edbe8-d7fe-43e9-bf2e-4a20ea317b6c",
   "metadata": {},
   "outputs": [
    {
     "name": "stdout",
     "output_type": "stream",
     "text": [
      "hello, world!\n"
     ]
    }
   ],
   "source": [
    "a = \"Hello, world!\"\n",
    "print(a.lower()) # put in lower case"
   ]
  },
  {
   "cell_type": "code",
   "execution_count": 28,
   "id": "6bd546d2-9b0f-4ec4-9525-a19845f701ab",
   "metadata": {},
   "outputs": [
    {
     "name": "stdout",
     "output_type": "stream",
     "text": [
      "Hello, world!\n"
     ]
    }
   ],
   "source": [
    "a = \" Hello, world! \"\n",
    "print(a.strip())   # removes whitespace form the begining or the end"
   ]
  },
  {
   "cell_type": "code",
   "execution_count": 32,
   "id": "c4a6de8a-b3d3-4244-83e4-4aa15c86dcae",
   "metadata": {},
   "outputs": [
    {
     "name": "stdout",
     "output_type": "stream",
     "text": [
      "jello, world!\n"
     ]
    }
   ],
   "source": [
    "a = \"Hello, world!\"\n",
    "print(a.replace(\"H\",\"j\")) # replace letter "
   ]
  },
  {
   "cell_type": "code",
   "execution_count": 29,
   "id": "23cc7060-9708-4d97-b1bc-aa1182c4f878",
   "metadata": {},
   "outputs": [
    {
     "name": "stdout",
     "output_type": "stream",
     "text": [
      "helloRaj\n"
     ]
    }
   ],
   "source": [
    "a = \"hello\"\n",
    "b = \"Raj\"\n",
    "c= a+b\n",
    "print(c) # removes the gap"
   ]
  },
  {
   "cell_type": "code",
   "execution_count": 30,
   "id": "8d2f7510-bbe4-4833-9df7-c21f2da395dc",
   "metadata": {},
   "outputs": [
    {
     "name": "stdout",
     "output_type": "stream",
     "text": [
      "hello Raj\n"
     ]
    }
   ],
   "source": [
    "a = \"hello\"\n",
    "b = \"Raj\"\n",
    "c= a+ \" \" +b\n",
    "print(c) # put gap"
   ]
  },
  {
   "cell_type": "code",
   "execution_count": 35,
   "id": "f94e44fa-2b61-4739-93bd-96973f8060d2",
   "metadata": {},
   "outputs": [
    {
     "name": "stdout",
     "output_type": "stream",
     "text": [
      "['Hello', ' world!']\n"
     ]
    }
   ],
   "source": [
    "a = \"Hello, world!\"\n",
    "print(a.split(\",\")) # put quote"
   ]
  },
  {
   "cell_type": "code",
   "execution_count": 40,
   "id": "0a14394f-4943-43c3-9380-63541e4b4779",
   "metadata": {},
   "outputs": [
    {
     "name": "stdout",
     "output_type": "stream",
     "text": [
      "My name is john, i am 36\n"
     ]
    }
   ],
   "source": [
    "age = 36\n",
    "text = \"My name is john, i am {}\"\n",
    "print (text.format(age))"
   ]
  },
  {
   "cell_type": "code",
   "execution_count": 42,
   "id": "7fb4ad5b-4fed-4d4d-b12f-bb1a72720414",
   "metadata": {},
   "outputs": [
    {
     "name": "stdout",
     "output_type": "stream",
     "text": [
      "I want 3 of item 567 for 49.95 dollars\n"
     ]
    }
   ],
   "source": [
    "quantity = 3\n",
    "itemno = 567\n",
    "price = 49.95\n",
    "\n",
    "myorder = \"I want {} pieces  of item {} for {} dollars\"\n",
    "print (myorder.format(quantity, itemno, price))"
   ]
  },
  {
   "cell_type": "code",
   "execution_count": 43,
   "id": "26bf2072-5221-4651-a279-0cb172729b6b",
   "metadata": {},
   "outputs": [
    {
     "name": "stdout",
     "output_type": "stream",
     "text": [
      "I want 49.95 pieces  of item 3 for 567 dollars\n"
     ]
    }
   ],
   "source": [
    "quantity = 3\n",
    "itemno = 567\n",
    "price = 49.95\n",
    "\n",
    "myorder = \"I want {2} pieces  of item {0} for {1} dollars\"\n",
    "print (myorder.format(quantity, itemno, price)) # use index to change the rank"
   ]
  },
  {
   "cell_type": "code",
   "execution_count": null,
   "id": "b741cdf5-945a-4543-92ea-d5d96b7f05a7",
   "metadata": {},
   "outputs": [],
   "source": []
  }
 ],
 "metadata": {
  "kernelspec": {
   "display_name": "Python [conda env:base] *",
   "language": "python",
   "name": "conda-base-py"
  },
  "language_info": {
   "codemirror_mode": {
    "name": "ipython",
    "version": 3
   },
   "file_extension": ".py",
   "mimetype": "text/x-python",
   "name": "python",
   "nbconvert_exporter": "python",
   "pygments_lexer": "ipython3",
   "version": "3.13.5"
  }
 },
 "nbformat": 4,
 "nbformat_minor": 5
}
