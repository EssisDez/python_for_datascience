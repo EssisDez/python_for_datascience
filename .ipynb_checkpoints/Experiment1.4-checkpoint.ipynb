{
 "cells": [
  {
   "cell_type": "markdown",
   "id": "460ac9f5-6fb5-4a9e-a8f9-305d3d116d34",
   "metadata": {},
   "source": [
    "# MATHEMATICAL 28/08/25\n",
    "\n",
    "Experiment 1.4"
   ]
  },
  {
   "cell_type": "code",
   "execution_count": 3,
   "id": "37a6720c-b29b-4499-9b42-936fd9743fdd",
   "metadata": {},
   "outputs": [
    {
     "name": "stdout",
     "output_type": "stream",
     "text": [
      "4.0\n"
     ]
    }
   ],
   "source": [
    "#Mathematical ------------ Average 28/08/25\n",
    "number= [1,2,3,4,5,6,7]\n",
    "sum=sum(number)\n",
    "n=len(number)\n",
    "average= sum/n\n",
    "print(average)\n"
   ]
  },
  {
   "cell_type": "code",
   "execution_count": 21,
   "id": "f238df50-975c-42c2-bb3f-0f07045bbe51",
   "metadata": {},
   "outputs": [
    {
     "name": "stdout",
     "output_type": "stream",
     "text": [
      "median is : 7\n"
     ]
    }
   ],
   "source": [
    "#median #odd even\n",
    "number= [1,4,6,7,12,15,19]\n",
    "number.sort()  #sorted list\n",
    "n=len(number)  #number of elements in the list number\n",
    "if n%2==0:            #check if it is even \n",
    "  median1 = number[n//2]  \n",
    "  median2 = number[n//2-1]\n",
    "  median= (median1 + median2)/2\n",
    "else:           #if not its odd \n",
    "     median= number[n//2]\n",
    "print(\"median is :\", (median))\n",
    "    \n"
   ]
  },
  {
   "cell_type": "code",
   "execution_count": null,
   "id": "ca4b4c24-4d8f-46f6-9276-c7861c97b212",
   "metadata": {},
   "outputs": [],
   "source": []
  }
 ],
 "metadata": {
  "kernelspec": {
   "display_name": "Python [conda env:base] *",
   "language": "python",
   "name": "conda-base-py"
  },
  "language_info": {
   "codemirror_mode": {
    "name": "ipython",
    "version": 3
   },
   "file_extension": ".py",
   "mimetype": "text/x-python",
   "name": "python",
   "nbconvert_exporter": "python",
   "pygments_lexer": "ipython3",
   "version": "3.13.5"
  }
 },
 "nbformat": 4,
 "nbformat_minor": 5
}
