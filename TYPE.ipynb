{
 "cells": [
  {
   "cell_type": "markdown",
   "id": "dd1723aa-93ef-4635-9a88-66635fec30c0",
   "metadata": {},
   "source": [
    "## LIST / TUPLE / DICTIONARY in python\n",
    "ordered and changeable"
   ]
  },
  {
   "cell_type": "code",
   "execution_count": 2,
   "id": "70e0c550-9672-412f-98d3-fcded0ff8d84",
   "metadata": {},
   "outputs": [
    {
     "name": "stdout",
     "output_type": "stream",
     "text": [
      "skrit\n"
     ]
    }
   ],
   "source": [
    "list=[\"pant\",\"skrit\",\"teeshirt\",\"shoes\"]\n",
    "print(list[1])"
   ]
  },
  {
   "cell_type": "code",
   "execution_count": 4,
   "id": "7cbb6bc3-34a8-46cc-8b72-f5317db8890b",
   "metadata": {},
   "outputs": [
    {
     "name": "stdout",
     "output_type": "stream",
     "text": [
      "4\n"
     ]
    }
   ],
   "source": [
    "list=[\"pant\",\"skrit\",\"teeshirt\",\"shoes\"]\n",
    "x=len(list)\n",
    "print(x)"
   ]
  },
  {
   "cell_type": "code",
   "execution_count": 6,
   "id": "ed2d640c-e4ac-4e96-843d-5f34b9cbb72d",
   "metadata": {},
   "outputs": [
    {
     "name": "stdout",
     "output_type": "stream",
     "text": [
      "4\n"
     ]
    }
   ],
   "source": [
    "list=[\"pant\",\"skrit\",\"teeshirt\",\"shoes\"]\n",
    "print (len(list))"
   ]
  },
  {
   "cell_type": "code",
   "execution_count": 7,
   "id": "5933595f-cf59-4941-8d10-1a26993357dd",
   "metadata": {},
   "outputs": [
    {
     "name": "stdout",
     "output_type": "stream",
     "text": [
      "<class 'list'>\n"
     ]
    }
   ],
   "source": [
    "list=[\"pant\",\"skrit\",\"teeshirt\",\"shoes\"]\n",
    "print (type(list))"
   ]
  },
  {
   "cell_type": "code",
   "execution_count": null,
   "id": "acc70c1c-9da0-4242-9f86-0cca59ab0ac6",
   "metadata": {},
   "outputs": [],
   "source": []
  }
 ],
 "metadata": {
  "kernelspec": {
   "display_name": "Python [conda env:base] *",
   "language": "python",
   "name": "conda-base-py"
  },
  "language_info": {
   "codemirror_mode": {
    "name": "ipython",
    "version": 3
   },
   "file_extension": ".py",
   "mimetype": "text/x-python",
   "name": "python",
   "nbconvert_exporter": "python",
   "pygments_lexer": "ipython3",
   "version": "3.13.5"
  }
 },
 "nbformat": 4,
 "nbformat_minor": 5
}
