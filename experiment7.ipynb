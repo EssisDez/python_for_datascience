{
 "cells": [
  {
   "cell_type": "markdown",
   "id": "45349c44-d3a7-4a2a-b440-f7cdafc56f2e",
   "metadata": {},
   "source": [
    "## DATETIME\n",
    "18/09/25"
   ]
  },
  {
   "cell_type": "code",
   "execution_count": 8,
   "id": "6cd785d9-284b-40ea-aa00-043867422d9b",
   "metadata": {},
   "outputs": [
    {
     "name": "stdout",
     "output_type": "stream",
     "text": [
      "2025-09-23 17:19:16.302560\n"
     ]
    }
   ],
   "source": [
    "\n",
    "import datetime\n",
    "x=datetime.datetime.now()\n",
    "print(x)"
   ]
  },
  {
   "cell_type": "code",
   "execution_count": 2,
   "id": "6c17692d-2bf8-4b87-9b2e-662f7e3775f3",
   "metadata": {},
   "outputs": [
    {
     "name": "stdout",
     "output_type": "stream",
     "text": [
      "2020-05-17 00:00:00\n"
     ]
    }
   ],
   "source": [
    "import datetime\n",
    "y=datetime.datetime(2020,5,17)\n",
    "print(y)"
   ]
  },
  {
   "cell_type": "code",
   "execution_count": 3,
   "id": "7de84397-c39a-48be-a4f2-3455f7491bd6",
   "metadata": {},
   "outputs": [
    {
     "name": "stdout",
     "output_type": "stream",
     "text": [
      "September\n"
     ]
    }
   ],
   "source": [
    "#Month\n",
    "import datetime\n",
    "z=datetime.datetime(2018,6,1)\n",
    "print(x.strftime(\"%B\")) #dragtive (verifier)"
   ]
  },
  {
   "cell_type": "code",
   "execution_count": 4,
   "id": "8b1704c2-1227-4b86-8389-428aebc78e2f",
   "metadata": {},
   "outputs": [
    {
     "name": "stdout",
     "output_type": "stream",
     "text": [
      "Sep\n"
     ]
    }
   ],
   "source": [
    "#Month\n",
    "import datetime\n",
    "z=datetime.datetime(2018,6,1)\n",
    "print(x.strftime(\"%b\"))"
   ]
  },
  {
   "cell_type": "code",
   "execution_count": 5,
   "id": "e44ba98c-c1b8-4877-9924-d62c29df5ec6",
   "metadata": {},
   "outputs": [
    {
     "name": "stdout",
     "output_type": "stream",
     "text": [
      "Tuesday\n"
     ]
    }
   ],
   "source": [
    "#Day\n",
    "import datetime\n",
    "z=datetime.datetime(2018,6,1)\n",
    "print(x.strftime(\"%A\"))"
   ]
  },
  {
   "cell_type": "code",
   "execution_count": 6,
   "id": "d29e0a9d-1422-4d4e-940e-9195b75d3ffb",
   "metadata": {},
   "outputs": [
    {
     "name": "stdout",
     "output_type": "stream",
     "text": [
      "Tue\n"
     ]
    }
   ],
   "source": [
    "#Day\n",
    "import datetime\n",
    "z=datetime.datetime(2018,6,1)\n",
    "print(x.strftime(\"%a\"))"
   ]
  },
  {
   "cell_type": "code",
   "execution_count": 7,
   "id": "3c4af257-0080-4886-b528-683d452b635b",
   "metadata": {},
   "outputs": [
    {
     "name": "stdout",
     "output_type": "stream",
     "text": [
      "Tue Sep 23 17:13:53 2025\n"
     ]
    }
   ],
   "source": [
    "#Day\n",
    "import datetime\n",
    "z=datetime.datetime(2018,6,1)\n",
    "print(x.strftime(\"%c\"))"
   ]
  },
  {
   "cell_type": "code",
   "execution_count": null,
   "id": "7d01922b-d2b7-4534-8802-2986e4b1e87a",
   "metadata": {},
   "outputs": [],
   "source": []
  }
 ],
 "metadata": {
  "kernelspec": {
   "display_name": "Python [conda env:base] *",
   "language": "python",
   "name": "conda-base-py"
  },
  "language_info": {
   "codemirror_mode": {
    "name": "ipython",
    "version": 3
   },
   "file_extension": ".py",
   "mimetype": "text/x-python",
   "name": "python",
   "nbconvert_exporter": "python",
   "pygments_lexer": "ipython3",
   "version": "3.13.5"
  }
 },
 "nbformat": 4,
 "nbformat_minor": 5
}
