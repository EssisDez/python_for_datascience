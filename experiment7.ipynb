{
 "cells": [
  {
   "cell_type": "markdown",
   "id": "45349c44-d3a7-4a2a-b440-f7cdafc56f2e",
   "metadata": {},
   "source": [
    "## DATETIME\n",
    "18/09/25\n",
    "\n",
    "Datetime lets you work with dates and times (like today’s date, current time, tomorrow, yesterday, ...)"
   ]
  },
  {
   "cell_type": "code",
   "execution_count": 1,
   "id": "6cd785d9-284b-40ea-aa00-043867422d9b",
   "metadata": {},
   "outputs": [
    {
     "name": "stdout",
     "output_type": "stream",
     "text": [
      "2025-09-24 10:55:43.824681\n"
     ]
    }
   ],
   "source": [
    "#Get the current date and time\n",
    "\n",
    "import datetime\n",
    "x=datetime.datetime.now()\n",
    "print(x)"
   ]
  },
  {
   "cell_type": "code",
   "execution_count": 2,
   "id": "6c17692d-2bf8-4b87-9b2e-662f7e3775f3",
   "metadata": {},
   "outputs": [
    {
     "name": "stdout",
     "output_type": "stream",
     "text": [
      "2020-05-17 00:00:00\n"
     ]
    }
   ],
   "source": [
    "#precise time\n",
    "import datetime\n",
    "y=datetime.datetime(2020,5,17)\n",
    "print(y)"
   ]
  },
  {
   "cell_type": "code",
   "execution_count": 9,
   "id": "7de84397-c39a-48be-a4f2-3455f7491bd6",
   "metadata": {},
   "outputs": [
    {
     "name": "stdout",
     "output_type": "stream",
     "text": [
      "January\n"
     ]
    }
   ],
   "source": [
    "#Month\n",
    "import datetime\n",
    "z=datetime.datetime(2018,6,1)\n",
    "print(x.strftime(\"%B\")) #dragtive (verifier)"
   ]
  },
  {
   "cell_type": "code",
   "execution_count": 7,
   "id": "8b1704c2-1227-4b86-8389-428aebc78e2f",
   "metadata": {},
   "outputs": [
    {
     "name": "stdout",
     "output_type": "stream",
     "text": [
      "Jan\n"
     ]
    }
   ],
   "source": [
    "#Month\n",
    "import datetime\n",
    "z=datetime.datetime(2018,6,1)\n",
    "print(x.strftime(\"%b\"))"
   ]
  },
  {
   "cell_type": "code",
   "execution_count": 8,
   "id": "e44ba98c-c1b8-4877-9924-d62c29df5ec6",
   "metadata": {},
   "outputs": [
    {
     "name": "stdout",
     "output_type": "stream",
     "text": [
      "Monday\n"
     ]
    }
   ],
   "source": [
    "#Day\n",
    "import datetime\n",
    "z=datetime.datetime(2018,6,1)\n",
    "print(x.strftime(\"%A\"))"
   ]
  },
  {
   "cell_type": "code",
   "execution_count": 6,
   "id": "d29e0a9d-1422-4d4e-940e-9195b75d3ffb",
   "metadata": {},
   "outputs": [
    {
     "name": "stdout",
     "output_type": "stream",
     "text": [
      "Tue\n"
     ]
    }
   ],
   "source": [
    "#Day\n",
    "import datetime\n",
    "z=datetime.datetime(2018,6,1)\n",
    "print(x.strftime(\"%a\"))"
   ]
  },
  {
   "cell_type": "code",
   "execution_count": 10,
   "id": "3c4af257-0080-4886-b528-683d452b635b",
   "metadata": {},
   "outputs": [
    {
     "name": "stdout",
     "output_type": "stream",
     "text": [
      "Mon Jan  1 14:30:15 1900\n"
     ]
    }
   ],
   "source": [
    "#Day\n",
    "import datetime\n",
    "z=datetime.datetime(2018,6,1)\n",
    "print(x.strftime(\"%c\"))"
   ]
  },
  {
   "cell_type": "code",
   "execution_count": 8,
   "id": "7d01922b-d2b7-4534-8802-2986e4b1e87a",
   "metadata": {},
   "outputs": [
    {
     "name": "stdout",
     "output_type": "stream",
     "text": [
      "2025-09-24\n",
      "11:08:54.383001\n"
     ]
    }
   ],
   "source": [
    "#Only the date or only the time\n",
    "\n",
    "today = datetime.date.today()\n",
    "print(today)     \n",
    "\n",
    "time_now = datetime.datetime.now().time()\n",
    "print(time_now)  \n"
   ]
  },
  {
   "cell_type": "markdown",
   "id": "862a0b88-0e78-4eca-a3bb-732c35203ddf",
   "metadata": {},
   "source": [
    "## explain\n",
    "%d = day\n",
    "\n",
    "%m = month\n",
    "\n",
    "%Y = year\n",
    "\n",
    "%A = weekday name\n",
    "\n",
    "%I:%M %p = time in 12-hour format with AM/PM"
   ]
  },
  {
   "cell_type": "code",
   "execution_count": 9,
   "id": "500acf38-11c7-4a03-88ea-533af2283c70",
   "metadata": {},
   "outputs": [
    {
     "name": "stdout",
     "output_type": "stream",
     "text": [
      "24/09/2025\n",
      "Wednesday\n",
      "11:09 AM\n"
     ]
    }
   ],
   "source": [
    "now = datetime.datetime.now()\n",
    "\n",
    "print(now.strftime(\"%d/%m/%Y\"))   \n",
    "print(now.strftime(\"%A\"))        \n",
    "print(now.strftime(\"%I:%M %p\"))   \n"
   ]
  },
  {
   "cell_type": "code",
   "execution_count": 1,
   "id": "1b89001b-2eb4-411b-8a04-f2c3914911a6",
   "metadata": {},
   "outputs": [
    {
     "name": "stdout",
     "output_type": "stream",
     "text": [
      "Year: 2025\n",
      "Month: 9\n",
      "Day: 30\n",
      "Hour: 22\n",
      "Minute: 53\n",
      "Second: 41\n"
     ]
    }
   ],
   "source": [
    "import datetime\n",
    "\n",
    "now = datetime.datetime.now()\n",
    "\n",
    "print(\"Year:\", now.year)\n",
    "print(\"Month:\", now.month)\n",
    "print(\"Day:\", now.day)\n",
    "print(\"Hour:\", now.hour)\n",
    "print(\"Minute:\", now.minute)\n",
    "print(\"Second:\", now.second)\n"
   ]
  },
  {
   "cell_type": "code",
   "execution_count": 3,
   "id": "6bf288e9-f80f-4337-a80b-df1eb92158fc",
   "metadata": {},
   "outputs": [
    {
     "name": "stdout",
     "output_type": "stream",
     "text": [
      "2025-09-30\n"
     ]
    }
   ],
   "source": [
    "import datetime\n",
    "x= datetime.date.today()\n",
    "print (x)"
   ]
  },
  {
   "cell_type": "code",
   "execution_count": 5,
   "id": "3c01773f-2887-4ec0-9e57-7d0c486fc16b",
   "metadata": {},
   "outputs": [
    {
     "name": "stdout",
     "output_type": "stream",
     "text": [
      "2000-05-17\n"
     ]
    }
   ],
   "source": [
    "x = datetime.date(2000, 5, 17)  # year, month, day\n",
    "print(x)  # 2000-05-17\n"
   ]
  },
  {
   "cell_type": "code",
   "execution_count": 6,
   "id": "0f24f7a1-7145-4635-a55b-ed6e558f2d31",
   "metadata": {},
   "outputs": [
    {
     "name": "stdout",
     "output_type": "stream",
     "text": [
      "14:30:15\n",
      "14\n",
      "30\n",
      "15\n"
     ]
    }
   ],
   "source": [
    "x = datetime.time(14, 30, 15)  # hour, minute, second\n",
    "print(x)  # 14:30:15\n",
    "\n",
    "print(x.hour)   # 14\n",
    "print(x.minute) # 30\n",
    "print(x.second) # 15\n"
   ]
  },
  {
   "cell_type": "code",
   "execution_count": 13,
   "id": "b051f259-8893-40ab-8ba2-f53e1261c59b",
   "metadata": {},
   "outputs": [
    {
     "name": "stdout",
     "output_type": "stream",
     "text": [
      "2025-09-23\n"
     ]
    }
   ],
   "source": [
    "# Add 7 days to today\n",
    "x = datetime.date.today() - datetime.timedelta(days=7)\n",
    "print(x)  # 2025-10-07\n",
    "\n"
   ]
  },
  {
   "cell_type": "code",
   "execution_count": 14,
   "id": "526c2cec-2619-4819-b77d-738a0e3eb53c",
   "metadata": {},
   "outputs": [
    {
     "name": "stdout",
     "output_type": "stream",
     "text": [
      "2025-10-07\n"
     ]
    }
   ],
   "source": [
    "# Add 7 days to today\n",
    "x = datetime.date.today() + datetime.timedelta(days=7)\n",
    "print(x)  # 2025-10-07\n",
    "\n"
   ]
  },
  {
   "cell_type": "code",
   "execution_count": 11,
   "id": "503adfd8-be22-4a20-9f1a-db7840fd0bee",
   "metadata": {},
   "outputs": [
    {
     "name": "stdout",
     "output_type": "stream",
     "text": [
      "2025-09-30 20:13:35.500658\n"
     ]
    }
   ],
   "source": [
    "# Subtract 3 hours from now\n",
    "x = datetime.datetime.now() - datetime.timedelta(hours=3)\n",
    "print(x)\n"
   ]
  },
  {
   "cell_type": "code",
   "execution_count": null,
   "id": "257cb46d-b22d-40b9-bae1-17f787366187",
   "metadata": {},
   "outputs": [],
   "source": []
  }
 ],
 "metadata": {
  "kernelspec": {
   "display_name": "Python [conda env:base] *",
   "language": "python",
   "name": "conda-base-py"
  },
  "language_info": {
   "codemirror_mode": {
    "name": "ipython",
    "version": 3
   },
   "file_extension": ".py",
   "mimetype": "text/x-python",
   "name": "python",
   "nbconvert_exporter": "python",
   "pygments_lexer": "ipython3",
   "version": "3.13.5"
  }
 },
 "nbformat": 4,
 "nbformat_minor": 5
}
