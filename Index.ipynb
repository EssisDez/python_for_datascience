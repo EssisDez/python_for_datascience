{
 "cells": [
  {
   "cell_type": "code",
   "execution_count": 2,
   "id": "c48c920d-4a77-4659-98fe-ee40af1fc5f0",
   "metadata": {},
   "outputs": [
    {
     "name": "stdout",
     "output_type": "stream",
     "text": [
      "['pant', 'wig', 'teeshirt', 'shoes']\n"
     ]
    }
   ],
   "source": [
    "list=[\"pant\",\"skrit\",\"teeshirt\",\"shoes\"]\n",
    "list[1]=\"wig\"\n",
    "print(list) #replace the position"
   ]
  },
  {
   "cell_type": "code",
   "execution_count": 3,
   "id": "6c9df96c-62c3-401c-95d8-e140c38c0dfb",
   "metadata": {},
   "outputs": [
    {
     "name": "stdout",
     "output_type": "stream",
     "text": [
      "['teeshirt', 'shoes']\n"
     ]
    }
   ],
   "source": [
    "list=[\"pant\",\"skrit\",\"teeshirt\",\"shoes\"]\n",
    "print(list[2:])"
   ]
  },
  {
   "cell_type": "code",
   "execution_count": 4,
   "id": "6e011234-6e8a-4511-b3d9-5612ec3a0d2e",
   "metadata": {},
   "outputs": [
    {
     "name": "stdout",
     "output_type": "stream",
     "text": [
      "['pant', 'skrit', 'teeshirt']\n"
     ]
    }
   ],
   "source": [
    "list=[\"pant\",\"skrit\",\"teeshirt\",\"shoes\"]\n",
    "print(list[:3])"
   ]
  },
  {
   "cell_type": "code",
   "execution_count": 5,
   "id": "1eecf4bd-eb5e-4613-8606-4cea59b8450a",
   "metadata": {},
   "outputs": [
    {
     "name": "stdout",
     "output_type": "stream",
     "text": [
      "['skrit', 'teeshirt']\n"
     ]
    }
   ],
   "source": [
    "list=[\"pant\",\"skrit\",\"teeshirt\",\"shoes\"]\n",
    "print(list[-3:-1])"
   ]
  },
  {
   "cell_type": "code",
   "execution_count": 8,
   "id": "9f1c0503-a947-411f-8c16-60dd98b9450b",
   "metadata": {},
   "outputs": [
    {
     "name": "stdout",
     "output_type": "stream",
     "text": [
      "['teeshirt', 'shoes']\n"
     ]
    }
   ],
   "source": [
    "list=[\"pant\",\"skrit\",\"teeshirt\",\"shoes\"]\n",
    "print(list[2:4])"
   ]
  },
  {
   "cell_type": "code",
   "execution_count": null,
   "id": "2e9c97e0-a9f7-472a-ab84-ff43669745c1",
   "metadata": {},
   "outputs": [],
   "source": []
  }
 ],
 "metadata": {
  "kernelspec": {
   "display_name": "Python [conda env:base] *",
   "language": "python",
   "name": "conda-base-py"
  },
  "language_info": {
   "codemirror_mode": {
    "name": "ipython",
    "version": 3
   },
   "file_extension": ".py",
   "mimetype": "text/x-python",
   "name": "python",
   "nbconvert_exporter": "python",
   "pygments_lexer": "ipython3",
   "version": "3.13.5"
  }
 },
 "nbformat": 4,
 "nbformat_minor": 5
}
