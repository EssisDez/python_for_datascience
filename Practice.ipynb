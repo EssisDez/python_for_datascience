{
 "cells": [
  {
   "cell_type": "code",
   "execution_count": 1,
   "id": "3b8b9614-8691-43b2-a894-1497557e2526",
   "metadata": {},
   "outputs": [
    {
     "name": "stdout",
     "output_type": "stream",
     "text": [
      "Hello, Python!\n"
     ]
    }
   ],
   "source": [
    "print(\"Hello, Python!\")\n",
    "\n"
   ]
  },
  {
   "cell_type": "code",
   "execution_count": 2,
   "id": "d786184f-385e-4632-8c3f-b893b2f2e402",
   "metadata": {},
   "outputs": [
    {
     "name": "stdout",
     "output_type": "stream",
     "text": [
      "apple\n"
     ]
    }
   ],
   "source": [
    "fruits = [\"apple\",\"banana\"]\n",
    "print(fruits[0])   # prints apple\n",
    "\n"
   ]
  },
  {
   "cell_type": "code",
   "execution_count": 4,
   "id": "3677adf3-55e2-4402-a0ea-41ab0c14e3fc",
   "metadata": {},
   "outputs": [
    {
     "name": "stdout",
     "output_type": "stream",
     "text": [
      "Hello, Desi\n"
     ]
    }
   ],
   "source": [
    "name = \"Desi\"\n",
    "greet = \"Hello, \" + name\n",
    "print(greet)\n"
   ]
  },
  {
   "cell_type": "code",
   "execution_count": 5,
   "id": "4cba7a27-5e44-415c-b0a8-882210ba9907",
   "metadata": {},
   "outputs": [
    {
     "name": "stdout",
     "output_type": "stream",
     "text": [
      "5\n"
     ]
    }
   ],
   "source": [
    "a = \"hello\"\n",
    "print(len(a))"
   ]
  },
  {
   "cell_type": "code",
   "execution_count": 6,
   "id": "8f72edc0-6f53-4b73-960e-30daeabe7ce9",
   "metadata": {},
   "outputs": [
    {
     "name": "stdout",
     "output_type": "stream",
     "text": [
      "False\n"
     ]
    }
   ],
   "source": [
    "text= \"I love python\"\n",
    "print(\"Love\" in text)"
   ]
  },
  {
   "cell_type": "code",
   "execution_count": 7,
   "id": "e4e86276-d3cd-4292-837c-797aa00b20b3",
   "metadata": {},
   "outputs": [
    {
     "name": "stdout",
     "output_type": "stream",
     "text": [
      "True\n"
     ]
    }
   ],
   "source": [
    "text= \"I love python\"\n",
    "print(\"love\" in text)"
   ]
  },
  {
   "cell_type": "code",
   "execution_count": 10,
   "id": "749740cd-5caf-42b2-bb37-28719938e740",
   "metadata": {},
   "outputs": [
    {
     "name": "stdout",
     "output_type": "stream",
     "text": [
      "You love python\n"
     ]
    }
   ],
   "source": [
    "text= \"I love python\"\n",
    "print(text.replace(\"I\",\"You\"))"
   ]
  },
  {
   "cell_type": "code",
   "execution_count": 12,
   "id": "7f7d560f-3d32-4c9f-bda2-02c6677b7047",
   "metadata": {},
   "outputs": [
    {
     "name": "stdout",
     "output_type": "stream",
     "text": [
      "My name is john, i am 36\n"
     ]
    }
   ],
   "source": [
    "age = 36\n",
    "text = \"My name is john, i am {}\"\n",
    "print (text.format(age))"
   ]
  },
  {
   "cell_type": "code",
   "execution_count": 1,
   "id": "77a57af8-8ae3-4b5a-b623-7709a214fe40",
   "metadata": {},
   "outputs": [
    {
     "name": "stdout",
     "output_type": "stream",
     "text": [
      "I want 49.95 pieces  of item 3 for 567 dollars\n"
     ]
    }
   ],
   "source": [
    "quantity = 3\n",
    "itemno = 567\n",
    "price = 49.95\n",
    "\n",
    "myorder = \"I want {2} pieces  of item {0} for {1} dollars\"\n",
    "print (myorder.format(quantity, itemno, price)) # use index to change the rank"
   ]
  },
  {
   "cell_type": "code",
   "execution_count": 2,
   "id": "73ab95ab-411d-4fc2-ab67-495708bda006",
   "metadata": {},
   "outputs": [
    {
     "name": "stdout",
     "output_type": "stream",
     "text": [
      "still on it\n",
      "still on it\n",
      "still on it\n"
     ]
    }
   ],
   "source": [
    "i=1\n",
    "while i<=3:\n",
    "    print(\"still on it\")    \n",
    "    i+=1"
   ]
  },
  {
   "cell_type": "code",
   "execution_count": 3,
   "id": "c7204fde-efe5-4d43-a87f-6e367e54a560",
   "metadata": {},
   "outputs": [
    {
     "name": "stdout",
     "output_type": "stream",
     "text": [
      "1\n",
      "2\n",
      "3\n"
     ]
    }
   ],
   "source": [
    "i=1\n",
    "while i<=3:\n",
    "    print(i)    \n",
    "    i+=1"
   ]
  },
  {
   "cell_type": "code",
   "execution_count": 4,
   "id": "9dc5032a-9c57-466b-8860-fd0706442e9d",
   "metadata": {},
   "outputs": [
    {
     "name": "stdout",
     "output_type": "stream",
     "text": [
      "2\n",
      "3\n",
      "4\n"
     ]
    }
   ],
   "source": [
    "i=1\n",
    "while i<=3:\n",
    "    i+=1\n",
    "    print(i)    \n",
    "    "
   ]
  },
  {
   "cell_type": "code",
   "execution_count": 5,
   "id": "b6c11ba4-63ed-4636-b947-fd2d2aba291b",
   "metadata": {},
   "outputs": [
    {
     "name": "stdout",
     "output_type": "stream",
     "text": [
      "1\n",
      "2\n",
      "3\n"
     ]
    }
   ],
   "source": [
    "# Break in while\n",
    "# ----- Stops the loop immediately, even if the condition is still True.\n",
    "\n",
    "i = 1\n",
    "while i < 6:\n",
    "    print(i)\n",
    "    if i == 3:\n",
    "        break\n",
    "    i += 1\n"
   ]
  },
  {
   "cell_type": "code",
   "execution_count": 1,
   "id": "3e54ef1c-e55b-4e3f-a6b5-78d9868455f0",
   "metadata": {},
   "outputs": [
    {
     "name": "stdout",
     "output_type": "stream",
     "text": [
      "1\n",
      "2\n",
      "4\n",
      "5\n",
      "6\n"
     ]
    }
   ],
   "source": [
    "\n",
    "i = 0\n",
    "while i < 6:\n",
    "    i += 1\n",
    "    if i == 3:\n",
    "        continue\n",
    "    print(i)\n"
   ]
  },
  {
   "cell_type": "code",
   "execution_count": 3,
   "id": "69c6f469-cac7-4ac9-b964-d113997d785d",
   "metadata": {},
   "outputs": [
    {
     "name": "stdout",
     "output_type": "stream",
     "text": [
      "1\n",
      "2\n",
      "3\n",
      "4\n",
      "5\n",
      "i is no longer less than 6\n"
     ]
    }
   ],
   "source": [
    "i = 1\n",
    "while i < 6:\n",
    "    print(i)\n",
    "    i += 1\n",
    "else:\n",
    "    print(\"i is no longer less than 6\")"
   ]
  },
  {
   "cell_type": "code",
   "execution_count": 4,
   "id": "1c4de59e-6dde-49ab-92a0-c16680a04c62",
   "metadata": {},
   "outputs": [
    {
     "name": "stdout",
     "output_type": "stream",
     "text": [
      "apple\n",
      "banana\n",
      "cherry\n"
     ]
    }
   ],
   "source": [
    "# The FOR loop\n",
    "# ---Loops over items in a sequence (list, tuple, set, string, dic).\n",
    "#-- No need to create a counter.\n",
    "\n",
    "fruits = [\"apple\", \"banana\", \"cherry\"]\n",
    "for fruit in fruits:\n",
    "    print(fruit)\n"
   ]
  },
  {
   "cell_type": "code",
   "execution_count": 7,
   "id": "01734451-8d74-4adb-a08e-bb6ea5199691",
   "metadata": {},
   "outputs": [
    {
     "name": "stdout",
     "output_type": "stream",
     "text": [
      "p\n",
      "a\n",
      "h\n"
     ]
    }
   ],
   "source": [
    "# The FOR loop\n",
    "# ---Loops over items in a sequence (list, tuple, set, string, dic).\n",
    "#-- No need to create a counter.\n",
    "\n",
    "fruits = [\"apple\", \"banana\", \"cherry\"]\n",
    "for fruit in fruits:\n",
    "    print(fruit[1])\n"
   ]
  },
  {
   "cell_type": "code",
   "execution_count": 6,
   "id": "8c3f122f-48e4-4b04-8cb2-b59b888f257a",
   "metadata": {},
   "outputs": [
    {
     "name": "stdout",
     "output_type": "stream",
     "text": [
      "Hello Dési, you are 21 years old\n"
     ]
    }
   ],
   "source": [
    "def welcome(name, age):\n",
    "    print(f\"Hello {name}, you are {age} years old\")\n",
    "\n",
    "welcome(\"Dési\", 21)\n"
   ]
  },
  {
   "cell_type": "code",
   "execution_count": 12,
   "id": "c266ebad-4717-47ef-90bc-14017a296076",
   "metadata": {},
   "outputs": [
    {
     "name": "stdout",
     "output_type": "stream",
     "text": [
      "Hello Dési  you are 21  years old\n"
     ]
    }
   ],
   "source": [
    "def welcome(name, age):\n",
    "    print(\"Hello\",name,\" you are\",age,\" years old\")\n",
    "\n",
    "welcome(\"Dési\", 21)\n"
   ]
  },
  {
   "cell_type": "code",
   "execution_count": 9,
   "id": "525a50d7-4f50-45a5-b31e-586dc5a8db0d",
   "metadata": {},
   "outputs": [
    {
     "name": "stdout",
     "output_type": "stream",
     "text": [
      "Hi desi\n"
     ]
    }
   ],
   "source": [
    "def greet(name):\n",
    "    print(\"Hi\", name)\n",
    "greet(\"desi\")\n"
   ]
  },
  {
   "cell_type": "code",
   "execution_count": 17,
   "id": "3c4847b9-8bb5-44fa-8a59-6d4fe5b4a9dd",
   "metadata": {},
   "outputs": [
    {
     "name": "stdout",
     "output_type": "stream",
     "text": [
      "48\n"
     ]
    }
   ],
   "source": [
    "def give_number(x):\n",
    "    return x+42\n",
    "print(give_number(6))"
   ]
  },
  {
   "cell_type": "code",
   "execution_count": 19,
   "id": "d35e17ef-f3a7-49f1-afe4-3d87a504d301",
   "metadata": {},
   "outputs": [
    {
     "name": "stdout",
     "output_type": "stream",
     "text": [
      "Welcome Guest\n"
     ]
    }
   ],
   "source": [
    "def welcome(name=\"Guest\"):\n",
    "    print(\"Welcome\", name)\n",
    "\n",
    "welcome()         # Welcome Guest\n",
    "welcome(\"Dési\")   # Welcome Dési\n"
   ]
  },
  {
   "cell_type": "code",
   "execution_count": 20,
   "id": "fcebe9cd-c57a-4799-b2c6-8f6008bdb7d4",
   "metadata": {},
   "outputs": [
    {
     "name": "stdout",
     "output_type": "stream",
     "text": [
      "(8, 2, 15)\n"
     ]
    }
   ],
   "source": [
    "def calc(a, b):\n",
    "    return a+b, a-b, a*b\n",
    "\n",
    "print(calc(5, 3))  # (8, 2, 15)\n"
   ]
  },
  {
   "cell_type": "code",
   "execution_count": 21,
   "id": "c23d94c0-bd17-40b6-8786-f155583c32af",
   "metadata": {},
   "outputs": [
    {
     "name": "stdout",
     "output_type": "stream",
     "text": [
      "Inner function\n"
     ]
    }
   ],
   "source": [
    "def outer():\n",
    "    def inner():\n",
    "        print(\"Inner function\")\n",
    "    inner()\n",
    "\n",
    "outer()\n"
   ]
  },
  {
   "cell_type": "code",
   "execution_count": 26,
   "id": "086a9735-9ffe-481c-bca3-0c7a811b77c1",
   "metadata": {},
   "outputs": [
    {
     "name": "stdout",
     "output_type": "stream",
     "text": [
      "5\n"
     ]
    }
   ],
   "source": [
    "def add(a, b):\n",
    "    return a + b\n",
    "\n",
    "print(add(2,3))  # 5\n"
   ]
  },
  {
   "cell_type": "code",
   "execution_count": 28,
   "id": "9d480198-cb5b-4413-a6f9-fd69c1735d8d",
   "metadata": {},
   "outputs": [
    {
     "name": "stdout",
     "output_type": "stream",
     "text": [
      "(1, 2, 3, 4)\n",
      "10\n"
     ]
    }
   ],
   "source": [
    "def add_all(*numbers):\n",
    "    print(numbers)       # tuple\n",
    "    return sum(numbers)\n",
    "\n",
    "print(add_all(1, 2, 3, 4))  # 10\n"
   ]
  },
  {
   "cell_type": "code",
   "execution_count": 29,
   "id": "96d7abf3-e61a-414b-a41f-20cc3075d50f",
   "metadata": {},
   "outputs": [
    {
     "name": "stdout",
     "output_type": "stream",
     "text": [
      "{'name': 'Dési', 'age': 21, 'country': 'India'}\n"
     ]
    }
   ],
   "source": [
    "def show_info(**details):\n",
    "    print(details)\n",
    "\n",
    "show_info(name=\"Dési\", age=21, country=\"India\")\n",
    "# {'name': 'Dési', 'age': 21, 'country': 'India'}\n"
   ]
  },
  {
   "cell_type": "code",
   "execution_count": 3,
   "id": "791aa621-0b9c-4675-b116-d3249b053b9d",
   "metadata": {},
   "outputs": [
    {
     "name": "stdout",
     "output_type": "stream",
     "text": [
      "Variable x is not defined\n"
     ]
    }
   ],
   "source": [
    "try:\n",
    "  print(x)\n",
    "except NameError:\n",
    "  print(\"Variable x is not defined\")\n",
    "except:\n",
    "  print(\"Something else went wrong\")"
   ]
  },
  {
   "cell_type": "code",
   "execution_count": 6,
   "id": "0939d88f-211d-4a2e-ab16-762fd0c77d30",
   "metadata": {},
   "outputs": [
    {
     "name": "stdout",
     "output_type": "stream",
     "text": [
      "Hello\n",
      "Nothing went wrong\n"
     ]
    }
   ],
   "source": [
    "try:\n",
    "  print(\"Hello\")\n",
    "except:\n",
    "  print(\"Something went wrong\")\n",
    "else:\n",
    "  print(\"Nothing went wrong\")\n"
   ]
  },
  {
   "cell_type": "code",
   "execution_count": 7,
   "id": "4c35c84f-0765-42b4-ae74-371f7afbe583",
   "metadata": {},
   "outputs": [
    {
     "name": "stdout",
     "output_type": "stream",
     "text": [
      "Something went wrong\n",
      "The 'try except' is finished\n"
     ]
    }
   ],
   "source": [
    "try:\n",
    "  print(x)\n",
    "except:\n",
    "  print(\"Something went wrong\")\n",
    "finally:\n",
    "  print(\"The 'try except' is finished\")\n"
   ]
  },
  {
   "cell_type": "code",
   "execution_count": 8,
   "id": "72a0b92a-b747-4083-bba1-48bba9f0777f",
   "metadata": {},
   "outputs": [
    {
     "name": "stdout",
     "output_type": "stream",
     "text": [
      "x\n",
      "The 'try except' is finished\n"
     ]
    }
   ],
   "source": [
    "try:\n",
    "  print(\"x\")\n",
    "except:\n",
    "  print(\"Something went wrong\")\n",
    "finally:\n",
    "  print(\"The 'try except' is finished\")\n"
   ]
  },
  {
   "cell_type": "code",
   "execution_count": 10,
   "id": "d7c32eef-6579-4d34-89e4-c9505d696ed3",
   "metadata": {},
   "outputs": [
    {
     "name": "stdout",
     "output_type": "stream",
     "text": [
      "16\n"
     ]
    }
   ],
   "source": [
    "def doubler(x):\n",
    "   return x*x\n",
    "print(doubler(4))"
   ]
  },
  {
   "cell_type": "code",
   "execution_count": 11,
   "id": "03e134ed-2018-4783-9869-c1eeafcaee1f",
   "metadata": {},
   "outputs": [
    {
     "name": "stdout",
     "output_type": "stream",
     "text": [
      "Hi, my name is Dési\n"
     ]
    }
   ],
   "source": [
    "class Person:                    # blueprint called Person\n",
    "    def __init__(self, name):    # __init__ runs when we make a Person\n",
    "        self.name = name         # store name inside this object\n",
    "\n",
    "    def say_hi(self):            # a method (function) using self\n",
    "        print(\"Hi, my name is\", self.name)\n",
    "\n",
    "p = Person(\"Dési\")              # build a real Person object\n",
    "p.say_hi()                      # call the object's method\n"
   ]
  }
 ],
 "metadata": {
  "kernelspec": {
   "display_name": "Python [conda env:base] *",
   "language": "python",
   "name": "conda-base-py"
  },
  "language_info": {
   "codemirror_mode": {
    "name": "ipython",
    "version": 3
   },
   "file_extension": ".py",
   "mimetype": "text/x-python",
   "name": "python",
   "nbconvert_exporter": "python",
   "pygments_lexer": "ipython3",
   "version": "3.13.5"
  }
 },
 "nbformat": 4,
 "nbformat_minor": 5
}
