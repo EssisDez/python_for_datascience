{
 "cells": [
  {
   "cell_type": "code",
   "execution_count": null,
   "id": "f2b088e3-210b-4162-b46d-b33e2f5a8cde",
   "metadata": {},
   "outputs": [],
   "source": [
    "print(\"Hello GitHub depuis Jupyter 🚀\")\n"
   ]
  }
 ],
 "metadata": {
  "kernelspec": {
   "display_name": "Python [conda env:base] *",
   "language": "python",
   "name": "conda-base-py"
  },
  "language_info": {
   "codemirror_mode": {
    "name": "ipython",
    "version": 3
   },
   "file_extension": ".py",
   "mimetype": "text/x-python",
   "name": "python",
   "nbconvert_exporter": "python",
   "pygments_lexer": "ipython3",
   "version": "3.13.5"
  }
 },
 "nbformat": 4,
 "nbformat_minor": 5
}
