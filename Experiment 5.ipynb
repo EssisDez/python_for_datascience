{
 "cells": [
  {
   "cell_type": "markdown",
   "id": "d132149a-2000-44d0-820e-0b10504e9a5a",
   "metadata": {},
   "source": [
    "## Errors and exception Handling"
   ]
  },
  {
   "cell_type": "code",
   "execution_count": 3,
   "id": "3836329e-77a3-4278-a0f7-2ac4854d094e",
   "metadata": {},
   "outputs": [
    {
     "name": "stdout",
     "output_type": "stream",
     "text": [
      "An exception occured\n"
     ]
    }
   ],
   "source": [
    "\n",
    "try:\n",
    "    print(z)\n",
    "except:\n",
    " \n",
    "    print(\"An exception occured\")"
   ]
  },
  {
   "cell_type": "code",
   "execution_count": 4,
   "id": "9c8f9d38-85de-495c-a6ed-1d6253f8d6e4",
   "metadata": {},
   "outputs": [
    {
     "name": "stdout",
     "output_type": "stream",
     "text": [
      "Variable x is not defined\n"
     ]
    }
   ],
   "source": [
    "try:\n",
    "    print(x)\n",
    "except NameError:\n",
    "    print(\"Variable x is not defined\")\n",
    "except:\n",
    "    print(\"Something else went wrong\")"
   ]
  },
  {
   "cell_type": "code",
   "execution_count": 5,
   "id": "647fff01-e78b-40e3-bd99-cf9194769661",
   "metadata": {},
   "outputs": [
    {
     "name": "stdout",
     "output_type": "stream",
     "text": [
      "Hello\n",
      "Nothing  went wrong\n"
     ]
    }
   ],
   "source": [
    "#Else : Define a block of code to executate if no errors\n",
    "\n",
    "try:\n",
    "    print(\"Hello\")\n",
    "except NameError:\n",
    "    print(\"Something else went wrong\")\n",
    "else:\n",
    "    print(\"Nothing  went wrong\")\n",
    "    "
   ]
  },
  {
   "cell_type": "code",
   "execution_count": 6,
   "id": "9f70de5e-633c-4350-afcb-521ea2afe809",
   "metadata": {},
   "outputs": [
    {
     "name": "stdout",
     "output_type": "stream",
     "text": [
      "r\n",
      "Nothing  went wrong\n"
     ]
    }
   ],
   "source": [
    "#Finally : gets executed no matter if the try block raises any errors or not\n",
    "\n",
    "try:\n",
    "    print(\"r\")\n",
    "except NameError:\n",
    "    print(\"Something else went wrong\")\n",
    "finally:\n",
    "    print(\"Nothing  went wrong\")\n",
    "    "
   ]
  },
  {
   "cell_type": "code",
   "execution_count": 9,
   "id": "23e5e9a9-4049-43d7-9134-1b85a167862c",
   "metadata": {},
   "outputs": [
    {
     "ename": "_IncompleteInputError",
     "evalue": "incomplete input (3342512039.py, line 6)",
     "output_type": "error",
     "traceback": [
      "\u001b[1;36m  Cell \u001b[1;32mIn[9], line 6\u001b[1;36m\u001b[0m\n\u001b[1;33m    \u001b[0m\n\u001b[1;37m    ^\u001b[0m\n\u001b[1;31m_IncompleteInputError\u001b[0m\u001b[1;31m:\u001b[0m incomplete input\n"
     ]
    }
   ],
   "source": [
    "#Raise an exception\n",
    "\n",
    "x=-1\n",
    "\n",
    "if x <0:\n",
    "    "
   ]
  },
  {
   "cell_type": "code",
   "execution_count": 8,
   "id": "3c869736-bbf7-418d-b40e-c44e2913bbac",
   "metadata": {},
   "outputs": [
    {
     "ename": "Exception",
     "evalue": "Sory, no numbers below zero",
     "output_type": "error",
     "traceback": [
      "\u001b[1;31m---------------------------------------------------------------------------\u001b[0m",
      "\u001b[1;31mException\u001b[0m                                 Traceback (most recent call last)",
      "Cell \u001b[1;32mIn[8], line 4\u001b[0m\n\u001b[0;32m      2\u001b[0m x\u001b[38;5;241m=\u001b[39m\u001b[38;5;241m-\u001b[39m\u001b[38;5;241m1\u001b[39m\n\u001b[0;32m      3\u001b[0m \u001b[38;5;28;01mif\u001b[39;00m x \u001b[38;5;241m<\u001b[39m\u001b[38;5;241m0\u001b[39m:\n\u001b[1;32m----> 4\u001b[0m  \u001b[38;5;28;01mraise\u001b[39;00m \u001b[38;5;167;01mException\u001b[39;00m (\u001b[38;5;124m\"\u001b[39m\u001b[38;5;124mSory, no numbers below zero\u001b[39m\u001b[38;5;124m\"\u001b[39m)\n",
      "\u001b[1;31mException\u001b[0m: Sory, no numbers below zero"
     ]
    }
   ],
   "source": [
    "#Raise an exception\n",
    "x=-1\n",
    "if x <0:\n",
    " raise Exception (\"Sory, no numbers below zero\")\n",
    "    "
   ]
  },
  {
   "cell_type": "code",
   "execution_count": 7,
   "id": "91adbb6d-a61b-4d18-bb80-3c62d2f66818",
   "metadata": {},
   "outputs": [
    {
     "ename": "TypeError",
     "evalue": "Only integgers are allowed",
     "output_type": "error",
     "traceback": [
      "\u001b[1;31m---------------------------------------------------------------------------\u001b[0m",
      "\u001b[1;31mTypeError\u001b[0m                                 Traceback (most recent call last)",
      "Cell \u001b[1;32mIn[7], line 3\u001b[0m\n\u001b[0;32m      1\u001b[0m x\u001b[38;5;241m=\u001b[39m\u001b[38;5;124m\"\u001b[39m\u001b[38;5;124mhello\u001b[39m\u001b[38;5;124m\"\u001b[39m\n\u001b[0;32m      2\u001b[0m \u001b[38;5;28;01mif\u001b[39;00m \u001b[38;5;129;01mnot\u001b[39;00m \u001b[38;5;28mtype\u001b[39m(x) \u001b[38;5;129;01mis\u001b[39;00m \u001b[38;5;28mint\u001b[39m:\n\u001b[1;32m----> 3\u001b[0m     \u001b[38;5;28;01mraise\u001b[39;00m \u001b[38;5;167;01mTypeError\u001b[39;00m(\u001b[38;5;124m\"\u001b[39m\u001b[38;5;124mOnly integgers are allowed\u001b[39m\u001b[38;5;124m\"\u001b[39m)\n",
      "\u001b[1;31mTypeError\u001b[0m: Only integgers are allowed"
     ]
    }
   ],
   "source": [
    "x=\"hello\"\n",
    "if not type(x) is int:\n",
    "    raise TypeError(\"Only integgers are allowed\")"
   ]
  },
  {
   "cell_type": "code",
   "execution_count": null,
   "id": "e904f70b-fc24-49ce-906d-493bcede723a",
   "metadata": {},
   "outputs": [],
   "source": []
  }
 ],
 "metadata": {
  "kernelspec": {
   "display_name": "Python [conda env:base] *",
   "language": "python",
   "name": "conda-base-py"
  },
  "language_info": {
   "codemirror_mode": {
    "name": "ipython",
    "version": 3
   },
   "file_extension": ".py",
   "mimetype": "text/x-python",
   "name": "python",
   "nbconvert_exporter": "python",
   "pygments_lexer": "ipython3",
   "version": "3.13.5"
  }
 },
 "nbformat": 4,
 "nbformat_minor": 5
}
