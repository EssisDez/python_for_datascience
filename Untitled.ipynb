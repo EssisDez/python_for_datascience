{
 "cells": [
  {
   "cell_type": "code",
   "execution_count": 1,
   "id": "718fb464-3e17-40ea-917c-0ebe82700fe8",
   "metadata": {},
   "outputs": [
    {
     "name": "stdout",
     "output_type": "stream",
     "text": [
      "apple\n",
      "banana\n",
      "cherry\n"
     ]
    }
   ],
   "source": [
    "fruits = [\"apple\", \"banana\", \"cherry\"]\n",
    "\n",
    "for item in fruits:\n",
    "    print(item)\n"
   ]
  },
  {
   "cell_type": "code",
   "execution_count": 2,
   "id": "d97e13ef-7d22-4af0-b16e-0f5b0cf38fd8",
   "metadata": {},
   "outputs": [
    {
     "name": "stdout",
     "output_type": "stream",
     "text": [
      "0 apple\n",
      "1 banana\n",
      "2 cherry\n"
     ]
    }
   ],
   "source": [
    "fruits = [\"apple\", \"banana\", \"cherry\"]\n",
    "\n",
    "for i in range(len(fruits)):\n",
    "    print(i, fruits[i])\n"
   ]
  },
  {
   "cell_type": "code",
   "execution_count": 3,
   "id": "008d61d7-50c0-4cc5-8489-dfaf090ae62b",
   "metadata": {},
   "outputs": [
    {
     "name": "stdout",
     "output_type": "stream",
     "text": [
      "apple\n",
      "banana\n",
      "cherry\n"
     ]
    }
   ],
   "source": [
    "fruits = [\"apple\", \"banana\", \"cherry\"]\n",
    "i = 0\n",
    "\n",
    "while i < len(fruits):\n",
    "    print(fruits[i])\n",
    "    i += 1\n"
   ]
  },
  {
   "cell_type": "code",
   "execution_count": 5,
   "id": "a5450f49-5a90-427c-bff4-0a0b79832bc0",
   "metadata": {},
   "outputs": [
    {
     "name": "stdout",
     "output_type": "stream",
     "text": [
      "0 apple\n",
      "1 banana\n",
      "2 cherry\n"
     ]
    }
   ],
   "source": [
    "\n"
   ]
  },
  {
   "cell_type": "code",
   "execution_count": 6,
   "id": "258c5dec-4b76-470d-b511-51f6a152cc0b",
   "metadata": {},
   "outputs": [
    {
     "name": "stdout",
     "output_type": "stream",
     "text": [
      "['apple', ['banana', 'cherry']]\n"
     ]
    }
   ],
   "source": [
    "list1 = [\"apple\"]\n",
    "list1.append([\"banana\", \"cherry\"])\n",
    "print(list1)     # ['apple', ['banana', 'cherry']]"
   ]
  },
  {
   "cell_type": "code",
   "execution_count": 7,
   "id": "cbea879e-6ee3-486f-995b-0bf031112eec",
   "metadata": {},
   "outputs": [
    {
     "name": "stdout",
     "output_type": "stream",
     "text": [
      "['apple', 'cherry']\n"
     ]
    }
   ],
   "source": [
    "list1 = [\"apple\"]\n",
    "list1.append(\"cherry\")\n",
    "print(list1)     # ['apple', ['banana', 'cherry']]"
   ]
  },
  {
   "cell_type": "code",
   "execution_count": 8,
   "id": "f74f06c9-2589-43ee-9327-c516f195f027",
   "metadata": {},
   "outputs": [
    {
     "name": "stdout",
     "output_type": "stream",
     "text": [
      "['apple', 'banana', 'cherry']\n"
     ]
    }
   ],
   "source": [
    "\n",
    "list1 = [\"apple\"]\n",
    "list1.extend([\"banana\", \"cherry\"])\n",
    "print(list1)  "
   ]
  },
  {
   "cell_type": "code",
   "execution_count": 18,
   "id": "1a57f10c-d04c-49dd-bf68-882d1e59181b",
   "metadata": {},
   "outputs": [
    {
     "name": "stdout",
     "output_type": "stream",
     "text": [
      "dey inside 1\n"
     ]
    }
   ],
   "source": [
    "a=[\"a\",\"b\",\"c\"]\n",
    "count =0\n",
    "for i in a :\n",
    "    if i == \"a\":\n",
    "        count+=1\n",
    "        print (\"dey inside\",count)"
   ]
  },
  {
   "cell_type": "code",
   "execution_count": 3,
   "id": "cd0bbfdd-f097-40d7-b252-5695033a7bbc",
   "metadata": {},
   "outputs": [
    {
     "name": "stdout",
     "output_type": "stream",
     "text": [
      "['apple', ['apple', 'banana', 'cherr']]\n"
     ]
    }
   ],
   "source": [
    "list1 = [\"apple\"]\n",
    "fruits = [\"apple\", \"banana\", \"cherr\"]\n",
    "list1.append(fruits)\n",
    "print(list1)  "
   ]
  },
  {
   "cell_type": "code",
   "execution_count": 4,
   "id": "d810bc76-cc30-401f-94e5-a16f0489b992",
   "metadata": {},
   "outputs": [
    {
     "name": "stdout",
     "output_type": "stream",
     "text": [
      "['apple', 'apple', 'banana', 'cherr']\n"
     ]
    }
   ],
   "source": [
    "list1 = [\"apple\"]\n",
    "fruits = [\"apple\", \"banana\", \"cherr\"]\n",
    "list1.extend(fruits)\n",
    "print(list1)  "
   ]
  },
  {
   "cell_type": "code",
   "execution_count": null,
   "id": "5f8aa932-ad64-43d1-89d4-b8689ca757a1",
   "metadata": {},
   "outputs": [],
   "source": []
  }
 ],
 "metadata": {
  "kernelspec": {
   "display_name": "Python [conda env:base] *",
   "language": "python",
   "name": "conda-base-py"
  },
  "language_info": {
   "codemirror_mode": {
    "name": "ipython",
    "version": 3
   },
   "file_extension": ".py",
   "mimetype": "text/x-python",
   "name": "python",
   "nbconvert_exporter": "python",
   "pygments_lexer": "ipython3",
   "version": "3.13.5"
  }
 },
 "nbformat": 4,
 "nbformat_minor": 5
}
