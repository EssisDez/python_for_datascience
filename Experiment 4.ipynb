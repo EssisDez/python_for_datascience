{
 "cells": [
  {
   "cell_type": "markdown",
   "id": "460ac9f5-6fb5-4a9e-a8f9-305d3d116d34",
   "metadata": {},
   "source": [
    "# MATHEMATICAL \n",
    "28/08/25"
   ]
  },
  {
   "cell_type": "code",
   "execution_count": 3,
   "id": "37a6720c-b29b-4499-9b42-936fd9743fdd",
   "metadata": {},
   "outputs": [
    {
     "name": "stdout",
     "output_type": "stream",
     "text": [
      "4.0\n"
     ]
    }
   ],
   "source": [
    "#Mathematical ------------ Average \n",
    "number= [1,2,3,4,5,6,7]\n",
    "sum=sum(number)\n",
    "n=len(number)\n",
    "average= sum/n\n",
    "print(average)\n"
   ]
  },
  {
   "cell_type": "code",
   "execution_count": 1,
   "id": "f238df50-975c-42c2-bb3f-0f07045bbe51",
   "metadata": {},
   "outputs": [
    {
     "name": "stdout",
     "output_type": "stream",
     "text": [
      "median is : 7\n"
     ]
    }
   ],
   "source": [
    "#median #odd even\n",
    "number= [1,4,6,7,12,15,19]\n",
    "number.sort()  #sorted list\n",
    "n=len(number)  #number of elements in the list number\n",
    "if n%2==0:            #check if it is even \n",
    "  median1 = number[n//2]  \n",
    "  median2 = number[n//2-1]\n",
    "  median= (median1 + median2)/2\n",
    "else:           #if not its odd \n",
    "     median= number[n//2]\n",
    "print(\"median is :\", (median))\n",
    "    \n"
   ]
  },
  {
   "cell_type": "code",
   "execution_count": 2,
   "id": "ca4b4c24-4d8f-46f6-9276-c7861c97b212",
   "metadata": {},
   "outputs": [
    {
     "name": "stdout",
     "output_type": "stream",
     "text": [
      "The mean is : 13.0\n"
     ]
    }
   ],
   "source": [
    "#09/10/25 #mean and median\n",
    "#mean\n",
    "\n",
    "listmean= [2,4,5,7,8,9,56]\n",
    "n=len(listmean)\n",
    "sumlist=sum(listmean)\n",
    "getmean=sumlist/n\n",
    "\n",
    "print(\"The mean is :\",getmean)\n",
    "\n",
    "\n"
   ]
  },
  {
   "cell_type": "code",
   "execution_count": 3,
   "id": "2362ae55-67f4-4487-be4d-e3ec15182421",
   "metadata": {},
   "outputs": [
    {
     "name": "stdout",
     "output_type": "stream",
     "text": [
      "4\n"
     ]
    }
   ],
   "source": [
    "#Min \n",
    "\n",
    "x=min(23,4,56,7899,34,5,6,7)\n",
    "print(x)"
   ]
  },
  {
   "cell_type": "code",
   "execution_count": 1,
   "id": "d9ded52e-2347-4d39-ba0c-9f4e2f8c2b64",
   "metadata": {},
   "outputs": [
    {
     "name": "stdout",
     "output_type": "stream",
     "text": [
      "7899\n"
     ]
    }
   ],
   "source": [
    "#Max \n",
    "\n",
    "y=max(23,4,56,7899,34,5,6,7)\n",
    "print(y)"
   ]
  },
  {
   "cell_type": "code",
   "execution_count": 2,
   "id": "c7580f42-20e4-4d4e-94e4-3437ff8ec49a",
   "metadata": {},
   "outputs": [
    {
     "name": "stdout",
     "output_type": "stream",
     "text": [
      "50\n",
      "10\n"
     ]
    }
   ],
   "source": [
    "x = [10, 20, 30, 40, 50]\n",
    "print(max(x))  # 50\n",
    "print(min(x))  # 10\n"
   ]
  },
  {
   "cell_type": "code",
   "execution_count": 3,
   "id": "452a0130-440b-4e52-ae7c-9716f1584b6e",
   "metadata": {},
   "outputs": [
    {
     "name": "stdout",
     "output_type": "stream",
     "text": [
      "7.8\n"
     ]
    }
   ],
   "source": [
    "#Absolute \n",
    "\n",
    "x=abs(-7.8)\n",
    "print(x)"
   ]
  },
  {
   "cell_type": "code",
   "execution_count": 7,
   "id": "ccdd1f88-acfe-4e90-8ae3-cd3a82cbccb0",
   "metadata": {},
   "outputs": [
    {
     "name": "stdout",
     "output_type": "stream",
     "text": [
      "16384\n"
     ]
    }
   ],
   "source": [
    "#pow\n",
    "\n",
    "x=pow(4,7) \n",
    "print(x)"
   ]
  },
  {
   "cell_type": "code",
   "execution_count": 1,
   "id": "4f29b9ca-50b8-4bad-a205-3f5128e7502f",
   "metadata": {},
   "outputs": [
    {
     "name": "stdout",
     "output_type": "stream",
     "text": [
      "ceil of 1.4 is : 2\n",
      "floor of 1.4 is : 1\n",
      "Value of pi is : 3.141592653589793\n"
     ]
    }
   ],
   "source": [
    "#ceil -- floor -- Pi value\n",
    "\n",
    "import math\n",
    "x=math.ceil(1.4)\n",
    "y=math.floor(1.4)\n",
    "pi_value = math.pi\n",
    "print(\"ceil of 1.4 is :\",x)\n",
    "print(\"floor of 1.4 is :\",y)\n",
    "print(\"Value of pi is :\", pi_value)\n"
   ]
  },
  {
   "cell_type": "code",
   "execution_count": 4,
   "id": "2a1b1c8f-4237-4088-896e-f86d31937373",
   "metadata": {},
   "outputs": [
    {
     "name": "stdout",
     "output_type": "stream",
     "text": [
      "Le mode est : 5\n"
     ]
    }
   ],
   "source": [
    "import statistics\n",
    "\n",
    "mySET = [3, 5, 5, 7, 5, 9]\n",
    "\n",
    "myMODE = statistics.mode(mySET)\n",
    "\n",
    "print(\"Le mode est :\", myMODE)\n",
    "\n",
    "\n"
   ]
  },
  {
   "cell_type": "code",
   "execution_count": null,
   "id": "bce448ce-cca4-489f-a1c6-56add86c491b",
   "metadata": {},
   "outputs": [],
   "source": []
  }
 ],
 "metadata": {
  "kernelspec": {
   "display_name": "Python [conda env:base] *",
   "language": "python",
   "name": "conda-base-py"
  },
  "language_info": {
   "codemirror_mode": {
    "name": "ipython",
    "version": 3
   },
   "file_extension": ".py",
   "mimetype": "text/x-python",
   "name": "python",
   "nbconvert_exporter": "python",
   "pygments_lexer": "ipython3",
   "version": "3.13.5"
  }
 },
 "nbformat": 4,
 "nbformat_minor": 5
}
